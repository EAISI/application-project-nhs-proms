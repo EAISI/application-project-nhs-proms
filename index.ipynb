{
  "nbformat": 4,
  "nbformat_minor": 0,
  "metadata": {
    "colab": {
      "name": "index.ipynb",
      "provenance": [],
      "authorship_tag": "ABX9TyMoEPBfRGKkknv80DMkJN9e",
      "include_colab_link": true
    },
    "kernelspec": {
      "name": "python3",
      "display_name": "Python 3"
    }
  },
  "cells": [
    {
      "cell_type": "markdown",
      "metadata": {
        "id": "view-in-github",
        "colab_type": "text"
      },
      "source": [
        "<a href=\"https://colab.research.google.com/github/dkapitan/jads-nhs-proms/blob/master/index.ipynb\" target=\"_parent\"><img src=\"https://colab.research.google.com/assets/colab-badge.svg\" alt=\"Open In Colab\"/></a>"
      ]
    },
    {
      "cell_type": "markdown",
      "metadata": {
        "id": "3sC7Pp2Qo1_m",
        "colab_type": "text"
      },
      "source": [
        "# JADS NHS PRROMs Data Science case study\n",
        "\n",
        "## Notebooks\n",
        "* [Data Understanding](https://colab.research.google.com/github/dkapitan/jads-nhs-proms/blob/master/notebooks/2.0-data-understanding.ipynb)\n",
        "  * [Collect initial data](https://colab.research.google.com/github/dkapitan/jads-nhs-proms/blob/master/notebooks/2.1-collect-initial-data.ipynb)\n",
        "\n",
        "\n",
        "## Scientific Python tutorials (from A. Geron's book _Handson Machine Learning, 2nd Edition)\n",
        "* [NumPy](https://colab.research.google.com/github/ageron/handson-ml2/blob/master/tools_numpy.ipynb)\n",
        "* [Matplotlib](https://colab.research.google.com/github/ageron/handson-ml2/blob/master/tools_matplotlib.ipynb)\n",
        "* [Pandas](https://colab.research.google.com/github/ageron/handson-ml2/blob/master/tools_pandas.ipynb)"
      ]
    },
    {
      "cell_type": "code",
      "metadata": {
        "id": "fDkwHagtpwue",
        "colab_type": "code",
        "colab": {}
      },
      "source": [
        "\n"
      ],
      "execution_count": 0,
      "outputs": []
    },
    {
      "cell_type": "code",
      "metadata": {
        "id": "w0nnP24PqU08",
        "colab_type": "code",
        "colab": {}
      },
      "source": [
        ""
      ],
      "execution_count": 0,
      "outputs": []
    }
  ]
}
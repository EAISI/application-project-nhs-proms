{
 "cells": [
  {
   "cell_type": "markdown",
   "metadata": {
    "colab_type": "text",
    "id": "view-in-github"
   },
   "source": [
    "<a href=\"https://colab.research.google.com/github/dkapitan/jads-nhs-proms/blob/master/index.ipynb\" target=\"_parent\"><img src=\"https://colab.research.google.com/assets/colab-badge.svg\" alt=\"Open In Colab\"/></a>"
   ]
  },
  {
   "cell_type": "markdown",
   "metadata": {
    "colab_type": "text",
    "id": "3sC7Pp2Qo1_m"
   },
   "source": [
    "# JADS NHS PRROMs Data Science case study\n",
    "\n",
    "## Notebooks\n",
    "* [Data Understanding](https://colab.research.google.com/github/dkapitan/jads-nhs-proms/blob/master/notebooks/2.0-data-understanding.ipynb)\n",
    "  * [Collect initial data](https://colab.research.google.com/github/dkapitan/jads-nhs-proms/blob/master/notebooks/2.1-collect-initial-data.ipynb)\n",
    "\n",
    "\n",
    "## Scientific Python tutorials (from A. Geron's book _Handson Machine Learning, 2nd Edition)\n",
    "* [NumPy](https://colab.research.google.com/github/ageron/handson-ml2/blob/master/tools_numpy.ipynb)\n",
    "* [Matplotlib](https://colab.research.google.com/github/ageron/handson-ml2/blob/master/tools_matplotlib.ipynb)\n",
    "* [Pandas](https://colab.research.google.com/github/ageron/handson-ml2/blob/master/tools_pandas.ipynb)"
   ]
  },
  {
   "cell_type": "code",
   "execution_count": 0,
   "metadata": {
    "colab": {},
    "colab_type": "code",
    "id": "fDkwHagtpwue"
   },
   "outputs": [],
   "source": [
    "\n"
   ]
  },
  {
   "cell_type": "code",
   "execution_count": 0,
   "metadata": {
    "colab": {},
    "colab_type": "code",
    "id": "w0nnP24PqU08"
   },
   "outputs": [],
   "source": []
  }
 ],
 "metadata": {
  "colab": {
   "authorship_tag": "ABX9TyMoEPBfRGKkknv80DMkJN9e",
   "include_colab_link": true,
   "name": "index.ipynb",
   "provenance": []
  },
  "hide_input": false,
  "kernelspec": {
   "display_name": "Python 3",
   "language": "python",
   "name": "python3"
  },
  "language_info": {
   "codemirror_mode": {
    "name": "ipython",
    "version": 3
   },
   "file_extension": ".py",
   "mimetype": "text/x-python",
   "name": "python",
   "nbconvert_exporter": "python",
   "pygments_lexer": "ipython3",
   "version": "3.7.6"
  }
 },
 "nbformat": 4,
 "nbformat_minor": 1
}

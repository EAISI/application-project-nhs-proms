{
  "nbformat": 4,
  "nbformat_minor": 0,
  "metadata": {
    "colab": {
      "name": "index.ipynb",
      "provenance": [],
      "authorship_tag": "ABX9TyN2pxdt2iDriGmfedEL+sTR",
      "include_colab_link": true
    },
    "hide_input": false,
    "kernelspec": {
      "display_name": "Python 3",
      "language": "python",
      "name": "python3"
    },
    "language_info": {
      "codemirror_mode": {
        "name": "ipython",
        "version": 3
      },
      "file_extension": ".py",
      "mimetype": "text/x-python",
      "name": "python",
      "nbconvert_exporter": "python",
      "pygments_lexer": "ipython3",
      "version": "3.7.6"
    }
  },
  "cells": [
    {
      "cell_type": "markdown",
      "metadata": {
        "id": "view-in-github",
        "colab_type": "text"
      },
      "source": [
        "<a href=\"https://colab.research.google.com/github/dkapitan/jads-nhs-proms/blob/master/index.ipynb\" target=\"_parent\"><img src=\"https://colab.research.google.com/assets/colab-badge.svg\" alt=\"Open In Colab\"/></a>"
      ]
    },
    {
      "cell_type": "markdown",
      "metadata": {
        "colab_type": "text",
        "id": "3sC7Pp2Qo1_m"
      },
      "source": [
        "# JADS NHS PROMs Data Science case study\n",
        "\n",
        "## Notebooks\n",
        "* [Data Understanding](https://colab.research.google.com/github/dkapitan/jads-nhs-proms/blob/master/notebooks/1.0-data-understanding.ipynb)\n",
        "  * [Collect initial data](https://colab.research.google.com/github/dkapitan/jads-nhs-proms/blob/master/notebooks/1.1-collect-initial-data.ipynb)\n",
        "* [Data Preparation](https://colab.research.google.com/github/dkapitan/jads-nhs-proms/blob/master/notebooks/2.0-data-preparation.ipynb)\n",
        "* [Modeling: regression & linear models](https://colab.research.google.com/github/dkapitan/jads-nhs-proms/blob/master/notebooks/3.0-modeling-regression.ipynb)\n",
        "* [Modeling: classification](https://colab.research.google.com/github/dkapitan/jads-nhs-proms/blob/master/notebooks/4.0-modeling-classification.ipynb)\n",
        "\n",
        "\n",
        "\n",
        "## Scientific Python tutorials (from A. Geron's book _Handson Machine Learning, 2nd Edition)\n",
        "* [NumPy](https://colab.research.google.com/github/ageron/handson-ml2/blob/master/tools_numpy.ipynb)\n",
        "* [Matplotlib](https://colab.research.google.com/github/ageron/handson-ml2/blob/master/tools_matplotlib.ipynb)\n",
        "* [Pandas](https://colab.research.google.com/github/ageron/handson-ml2/blob/master/tools_pandas.ipynb)"
      ]
    },
    {
      "cell_type": "markdown",
      "metadata": {
        "id": "5uXXjjU7T9aa",
        "colab_type": "text"
      },
      "source": [
        "## Background\n",
        "These notebooks are part of the 5-day curriculum _Executing a Machine Learning Data Science Project_ at [Jheronimus Academy of Data Science](https://jads.nl/business.html). This case study covers the phases of business understanding, data understanding, data preparation, modeling and evaluation of the CRISP-DM model. During this 5-day module, participants are stimulated to form a clear idea of the project they will pursue, and their approach in doing so, such that they can start working on their own project after this 5-day module is finished.\n",
        "\n",
        "Participants learn about the different types of data science projects and whether a certain type of project is suitable for a machine learning approach or not. A practical approach, working with Jupyter Notebooks, is combined with building a solid (theoretical) understanding of the fundamental principles underlying data science and machine learning. Participants learn to recognize and deal with typical challenges and common pitfalls, which is enhanced by providing numerous examples of real-life projects. Moreover, they learn to critically think about what to achieve with their project, how to capture this in a so-called ‘performance metric’, and how to assess whether their models generate value to their organization.\n",
        "\n",
        "Participants thereby learn a practical approach to scope a project, to explore, visualize and prepare data, and to execute modeling and evaluation. A range of common machine learning algorithms will be applied, such as (logistic) regression, LASSO, K-Nearest Neighbor, Support Vector Machine, Random Forest and Gradient Boosting. \n"
      ]
    }
  ]
}
{
  "nbformat": 4,
  "nbformat_minor": 0,
  "metadata": {
    "hide_input": false,
    "kernelspec": {
      "display_name": "Python 3",
      "language": "python",
      "name": "python3"
    },
    "language_info": {
      "codemirror_mode": {
        "name": "ipython",
        "version": 3
      },
      "file_extension": ".py",
      "mimetype": "text/x-python",
      "name": "python",
      "nbconvert_exporter": "python",
      "pygments_lexer": "ipython3",
      "version": "3.7.6"
    },
    "colab": {
      "name": "3.0-data-preparation.ipynb",
      "provenance": [],
      "toc_visible": true,
      "include_colab_link": true
    }
  },
  "cells": [
    {
      "cell_type": "markdown",
      "metadata": {
        "id": "view-in-github",
        "colab_type": "text"
      },
      "source": [
        "<a href=\"https://colab.research.google.com/github/dkapitan/jads-nhs-proms/blob/master/notebooks/3.0-data-preparation.ipynb\" target=\"_parent\"><img src=\"https://colab.research.google.com/assets/colab-badge.svg\" alt=\"Open In Colab\"/></a>"
      ]
    },
    {
      "cell_type": "markdown",
      "metadata": {
        "id": "QeHjN1GFNwqC",
        "colab_type": "text"
      },
      "source": [
        "# Background to osteoarthritis case study\n",
        "\n",
        "_taken from [narrative seminar Osteoarthritis by Hunter & Bierma-Zeinstra (2019) in the Lancet](https://github.com/dkapitan/jads-nhs-proms/blob/master/references/hunter2019osteaoarthritis.pdf)._\n",
        "\n",
        "Outcomes from total joint replacement can be optimised if patient selection identifies marked joint space narrowing. Most improvement will be made in patients with complete joint space loss and evident bone attrition. Up to 25% of patients presenting for total joint replacement continue to complain of pain and disability 1 year after well performed surgery. Careful preoperative patient selection (including consideration of the poor outcomes that are more common in people who are depressed, have minimal radiographic disease, have minimal pain, and who are morbidly obese), shared decision making about surgery, and informing patients about realistic outcomes of surgery are needed to minimise the likelihood of dissatisfaction."
      ]
    },
    {
      "cell_type": "markdown",
      "metadata": {
        "id": "ps-NB5SwlrNd",
        "colab_type": "text"
      },
      "source": [
        "# Data Preparation\n",
        "\n",
        "This is day 2 from the [5-day JADS NHS PROMs data science case study](https://github.com/dkapitan/jads-nhs-proms/blob/master/references/outline.md).\n"
      ]
    },
    {
      "cell_type": "markdown",
      "metadata": {
        "id": "C1bEDtlnF4a9",
        "colab_type": "text"
      },
      "source": [
        "\n",
        "## Learning objectives: select and clean data\n",
        "- Impute missing values\n",
        "- Select main input variables X (feature engineering)\n",
        "- Define target Y (clustered classes, categories)\n",
        "- Decide how to handle correlated input features"
      ]
    },
    {
      "cell_type": "markdown",
      "metadata": {
        "id": "osBitZ5yF7lM",
        "colab_type": "text"
      },
      "source": [
        "## Learning objectives: Python\n",
        "\n",
        "- [Pythonic data cleaning](https://realpython.com/python-data-cleaning-numpy-pandas/)\n",
        "- [When to use list comprehensions](https://realpython.com/list-comprehension-python/)\n",
        "- [Python f-strings](https://realpython.com/python-f-strings/)\n",
        "- [Pandas GroupBy](https://realpython.com/pandas-groupby/)\n",
        "- [Correlations in with numpy, scipy and pandas](https://realpython.com/numpy-scipy-pandas-correlation-python/)\n",
        "- Extra: [Using itertools](https://realpython.com/python-itertools/#what-is-itertools-and-why-should-you-use-it)"
      ]
    },
    {
      "cell_type": "markdown",
      "metadata": {
        "id": "npvciVNWF_0U",
        "colab_type": "text"
      },
      "source": [
        "## Recap from previous lecture\n",
        "- Good outcome for knee replacement Y is measured using difference in Oxford Knee Score (OKS)\n",
        "- Research has shown that an improvement in OKS score of approx. 30% is relevant ([van der Wees 2017](https://github.com/dkapitan/jads-nhs-proms/blob/master/references/vanderwees2017patient-reported.pdf)). Hence an increase of +14 points is considered a 'good' outcome.\n",
        "- to account for the ceiling effect, a high final `t1_oks_score` is also considered as a good outcome (even if `delta_oks_score` is smaller than 14).\n",
        "\n",
        "    "
      ]
    },
    {
      "cell_type": "markdown",
      "metadata": {
        "id": "tGkaSFtoDRsm",
        "colab_type": "text"
      },
      "source": [
        "# Select and clean data\n"
      ]
    },
    {
      "cell_type": "code",
      "metadata": {
        "id": "_95_D3ywlrNh",
        "colab_type": "code",
        "colab": {}
      },
      "source": [
        "import warnings\n",
        "import numpy as np\n",
        "import pandas as pd\n",
        "import matplotlib as mpl\n",
        "import matplotlib.pyplot as plt\n",
        "from sklearn.feature_selection import chi2, VarianceThreshold\n",
        "import sklearn.linear_model\n",
        "\n",
        "#supressing warnings for readability\n",
        "warnings.filterwarnings(\"ignore\")\n",
        "\n",
        "# To plot pretty figures directly within Jupyter\n",
        "%matplotlib inline\n",
        "\n",
        "# choose your own style: https://matplotlib.org/3.1.0/gallery/style_sheets/style_sheets_reference.html\n",
        "plt.style.use('ggplot')\n",
        "\n",
        "# Go to town with https://matplotlib.org/tutorials/introductory/customizing.html\n",
        "# plt.rcParams.keys()\n",
        "mpl.rc('axes', labelsize=14, titlesize=14)\n",
        "mpl.rc('figure', titlesize=20)\n",
        "mpl.rc('xtick', labelsize=12)\n",
        "mpl.rc('ytick', labelsize=12)\n",
        "\n",
        "# contants for figsize\n",
        "S = (8,8)\n",
        "M = (12,12)\n",
        "L = (14,14)\n",
        "\n",
        "# pandas options\n",
        "pd.set_option(\"display.max.columns\", None)\n",
        "pd.set_option(\"display.max.rows\", None)\n",
        "pd.set_option(\"display.precision\", 2)\n",
        "\n",
        "# import data\n",
        "df = pd.read_parquet('https://github.com/dkapitan/jads-nhs-proms/blob/master/data/interim/knee-provider.parquet?raw=true')"
      ],
      "execution_count": 0,
      "outputs": []
    },
    {
      "cell_type": "code",
      "metadata": {
        "id": "Al9nCNK-5AEt",
        "colab_type": "code",
        "colab": {}
      },
      "source": [
        "# re-run relevant code from previous lecture\n",
        "# replace sentinel values with NA\n",
        "dfc = df.copy()\n",
        "dfc.loc[:,['t0_eq_vas', 't1_eq_vas']] = dfc.loc[:,['t0_eq_vas', 't1_eq_vas']].replace(999, np.nan).astype('Int64')\n",
        "_no9 = [col for col in df.columns if col.startswith('oks_t') and not col.endswith('score')]\n",
        "dfc.loc[:,_no9] = df.loc[:,_no9].replace(9, np.nan).astype('Int64')\n",
        "\n",
        "# add delta_oks_score and Y\n",
        "def good_outcome(oks_t1, delta_oks, abs_threshold=43, mcid=13):\n",
        "  if oks_t1 > abs_threshold or delta_oks > mcid:\n",
        "    return True\n",
        "  else:\n",
        "    return False\n",
        "\n",
        "\n",
        "dfc['delta_oks_score'] = dfc.oks_t1_score - dfc.oks_t0_score\n",
        "dfc['Y'] = dfc.apply(lambda row: good_outcome(row['oks_t1_score'], row['delta_oks_score']), axis=1)"
      ],
      "execution_count": 0,
      "outputs": []
    },
    {
      "cell_type": "markdown",
      "metadata": {
        "id": "115G1D1pKBGi",
        "colab_type": "text"
      },
      "source": [
        "## Clean X\n"
      ]
    },
    {
      "cell_type": "markdown",
      "metadata": {
        "id": "SVhhSLn_0moD",
        "colab_type": "text"
      },
      "source": [
        "### Intermezzo: Python skills\n",
        "\n"
      ]
    },
    {
      "cell_type": "markdown",
      "metadata": {
        "id": "8Fy_1oOY7kJt",
        "colab_type": "text"
      },
      "source": [
        "#### Using list comprehensions\n",
        "\n",
        "There are three ways to work with lists in Python:\n",
        "1. with `for` loops\n",
        "2. using `map` (map-reduce pattern)\n",
        "3. using list comprehensions\n",
        "\n",
        "The third option finds its roots in functional programming and is considered the most Pythonic. It is particularly useful for data science.\n",
        "\n",
        "In this case, we want to make group of columns by name, without having to continously re-type the names. We will use some functions from the [itertools](https://docs.python.org/3.7/library/itertools.html#module-itertools) standard library."
      ]
    },
    {
      "cell_type": "code",
      "metadata": {
        "id": "QMC0Tc1_32TZ",
        "colab_type": "code",
        "colab": {
          "base_uri": "https://localhost:8080/",
          "height": 119
        },
        "outputId": "98a44eb4-7c4b-4f7e-aece-1df1d0e67628"
      },
      "source": [
        "from itertools import product\n",
        "\n",
        "# a product generates a carterian product\n",
        "['_'.join(col) for col in product(['t0', 't1'],  ['assisted', 'previous_surgery', 'disability'])]"
      ],
      "execution_count": 88,
      "outputs": [
        {
          "output_type": "execute_result",
          "data": {
            "text/plain": [
              "['t0_assisted',\n",
              " 't0_previous_surgery',\n",
              " 't0_disability',\n",
              " 't1_assisted',\n",
              " 't1_previous_surgery',\n",
              " 't1_disability']"
            ]
          },
          "metadata": {
            "tags": []
          },
          "execution_count": 88
        }
      ]
    },
    {
      "cell_type": "code",
      "metadata": {
        "id": "70x0rdVMTVls",
        "colab_type": "code",
        "colab": {}
      },
      "source": [
        "# helper function to count top 10 unique values for dataframe\n",
        "# pd.concat takes as list of Series or DataFrames to concatenate\n",
        "# make this list using a list comprehension\n",
        "def count_values(df):\n",
        "  _value_counts = [df[col].value_counts().sort_values(ascending=False).head(10) for col in df.columns]\n",
        "  return pd.concat(_value_counts, axis=1).transpose()"
      ],
      "execution_count": 0,
      "outputs": []
    },
    {
      "cell_type": "markdown",
      "metadata": {
        "id": "0fyxCiFC7l7D",
        "colab_type": "text"
      },
      "source": [
        "#### Using f-strings"
      ]
    },
    {
      "cell_type": "code",
      "metadata": {
        "id": "W7NqrHI86u9U",
        "colab_type": "code",
        "colab": {
          "base_uri": "https://localhost:8080/",
          "height": 221
        },
        "outputId": "d1bc20ad-346a-42b0-ec95-1849252b84eb"
      },
      "source": [
        "def oks_questions(t='t0'):\n",
        "  return [f'oks_{t}_pain', f'oks_{t}_night_pain', f'oks_{t}_washing',\n",
        "          f'oks_{t}_transport', f'oks_{t}_walking', f'oks_{t}_standing',\n",
        "          f'oks_{t}_limping', f'oks_{t}_kneeling', f'oks_{t}_work',\n",
        "          f'oks_{t}_confidence', f'oks_{t}_shopping', f'oks_{t}_stairs', ]\n",
        "\n",
        "def eq5d_questions(t='t0'):\n",
        "  return [f'{t}_mobility', f'{t}_self_care',\n",
        "          f'{t}_activity', f'{t}_discomfort', f'{t}_anxiety']\n",
        "\n",
        "oks_questions()"
      ],
      "execution_count": 94,
      "outputs": [
        {
          "output_type": "execute_result",
          "data": {
            "text/plain": [
              "['oks_t0_pain',\n",
              " 'oks_t0_night_pain',\n",
              " 'oks_t0_washing',\n",
              " 'oks_t0_transport',\n",
              " 'oks_t0_walking',\n",
              " 'oks_t0_standing',\n",
              " 'oks_t0_limping',\n",
              " 'oks_t0_kneeling',\n",
              " 'oks_t0_work',\n",
              " 'oks_t0_confidence',\n",
              " 'oks_t0_shopping',\n",
              " 'oks_t0_stairs']"
            ]
          },
          "metadata": {
            "tags": []
          },
          "execution_count": 94
        }
      ]
    },
    {
      "cell_type": "markdown",
      "metadata": {
        "id": "dJDC2qMzPDf6",
        "colab_type": "text"
      },
      "source": [
        "### Inspect boolean features"
      ]
    },
    {
      "cell_type": "code",
      "metadata": {
        "id": "axwWirA34yPZ",
        "colab_type": "code",
        "colab": {
          "base_uri": "https://localhost:8080/",
          "height": 425
        },
        "outputId": "3b562300-c992-4fc0-ca7b-8970686faae6"
      },
      "source": [
        "df.columns"
      ],
      "execution_count": 89,
      "outputs": [
        {
          "output_type": "execute_result",
          "data": {
            "text/plain": [
              "Index(['provider_code', 'procedure', 'revision_flag', 'year', 'age_band',\n",
              "       'gender', 't0_assisted', 't0_assisted_by', 't0_symptom_period',\n",
              "       't0_previous_surgery', 't0_living_arrangements', 't0_disability',\n",
              "       'heart_disease', 'high_bp', 'stroke', 'circulation', 'lung_disease',\n",
              "       'diabetes', 'kidney_disease', 'nervous_system', 'liver_disease',\n",
              "       'cancer', 'depression', 'arthritis', 't0_mobility', 't0_self_care',\n",
              "       't0_activity', 't0_discomfort', 't0_anxiety', 't0_eq5d_index_profile',\n",
              "       't0_eq5d_index', 't1_assisted', 't1_assisted_by',\n",
              "       't1_living_arrangements', 't1_disability', 't1_mobility',\n",
              "       't1_self_care', 't1_activity', 't1_discomfort', 't1_anxiety',\n",
              "       't1_satisfaction', 't1_sucess', 't1_allergy', 't1_bleeding', 't1_wound',\n",
              "       't1_urine', 't1_further_surgery', 't1_readmitted',\n",
              "       't1_eq5d_index_profile', 't1_eq5d_index',\n",
              "       'oks_eq_5d_index_t1_predicted', 't0_eq_vas', 't1_eq_vas',\n",
              "       'oks_eq_vas_t1_predicted', 'oks_t0_pain', 'oks_t0_night_pain',\n",
              "       'oks_t0_washing', 'oks_t0_transport', 'oks_t0_walking',\n",
              "       'oks_t0_standing', 'oks_t0_limping', 'oks_t0_kneeling', 'oks_t0_work',\n",
              "       'oks_t0_confidence', 'oks_t0_shopping', 'oks_t0_stairs', 'oks_t0_score',\n",
              "       'oks_t1_pain', 'oks_t1_night_pain', 'oks_t1_washing',\n",
              "       'oks_t1_transport', 'oks_t1_walking', 'oks_t1_standing',\n",
              "       'oks_t1_limping', 'oks_t1_kneeling', 'oks_t1_work', 'oks_t1_confidence',\n",
              "       'oks_t1_shopping', 'oks_t1_stairs', 'oks_t1_score',\n",
              "       'oks_oks_t1_predicted'],\n",
              "      dtype='object')"
            ]
          },
          "metadata": {
            "tags": []
          },
          "execution_count": 89
        }
      ]
    },
    {
      "cell_type": "code",
      "metadata": {
        "id": "sTqApjEpKElS",
        "colab_type": "code",
        "outputId": "ef10310f-9b27-4ee0-b86f-7decf5048adf",
        "colab": {
          "base_uri": "https://localhost:8080/",
          "height": 545
        }
      },
      "source": [
        "casemix = ['heart_disease', 'high_bp', 'stroke', 'circulation', 'lung_disease', 'diabetes',\n",
        "           'kidney_disease', 'nervous_system', 'liver_disease', 'cancer', 'depression', 'arthritis']\n",
        "boolean = ['t0_assisted', 't0_previous_surgery', 't0_disability']\n",
        "count_values(df[['gender'] + casemix + boolean])"
      ],
      "execution_count": 74,
      "outputs": [
        {
          "output_type": "execute_result",
          "data": {
            "text/html": [
              "<div>\n",
              "<style scoped>\n",
              "    .dataframe tbody tr th:only-of-type {\n",
              "        vertical-align: middle;\n",
              "    }\n",
              "\n",
              "    .dataframe tbody tr th {\n",
              "        vertical-align: top;\n",
              "    }\n",
              "\n",
              "    .dataframe thead th {\n",
              "        text-align: right;\n",
              "    }\n",
              "</style>\n",
              "<table border=\"1\" class=\"dataframe\">\n",
              "  <thead>\n",
              "    <tr style=\"text-align: right;\">\n",
              "      <th></th>\n",
              "      <th>1.0</th>\n",
              "      <th>2.0</th>\n",
              "      <th>9.0</th>\n",
              "    </tr>\n",
              "  </thead>\n",
              "  <tbody>\n",
              "    <tr>\n",
              "      <th>gender</th>\n",
              "      <td>55749.0</td>\n",
              "      <td>74085.0</td>\n",
              "      <td>NaN</td>\n",
              "    </tr>\n",
              "    <tr>\n",
              "      <th>heart_disease</th>\n",
              "      <td>13051.0</td>\n",
              "      <td>NaN</td>\n",
              "      <td>126185.0</td>\n",
              "    </tr>\n",
              "    <tr>\n",
              "      <th>high_bp</th>\n",
              "      <td>61570.0</td>\n",
              "      <td>NaN</td>\n",
              "      <td>77666.0</td>\n",
              "    </tr>\n",
              "    <tr>\n",
              "      <th>stroke</th>\n",
              "      <td>2303.0</td>\n",
              "      <td>NaN</td>\n",
              "      <td>136933.0</td>\n",
              "    </tr>\n",
              "    <tr>\n",
              "      <th>circulation</th>\n",
              "      <td>7882.0</td>\n",
              "      <td>NaN</td>\n",
              "      <td>131354.0</td>\n",
              "    </tr>\n",
              "    <tr>\n",
              "      <th>lung_disease</th>\n",
              "      <td>12779.0</td>\n",
              "      <td>NaN</td>\n",
              "      <td>126457.0</td>\n",
              "    </tr>\n",
              "    <tr>\n",
              "      <th>diabetes</th>\n",
              "      <td>17379.0</td>\n",
              "      <td>NaN</td>\n",
              "      <td>121857.0</td>\n",
              "    </tr>\n",
              "    <tr>\n",
              "      <th>kidney_disease</th>\n",
              "      <td>2856.0</td>\n",
              "      <td>NaN</td>\n",
              "      <td>136380.0</td>\n",
              "    </tr>\n",
              "    <tr>\n",
              "      <th>nervous_system</th>\n",
              "      <td>1422.0</td>\n",
              "      <td>NaN</td>\n",
              "      <td>137814.0</td>\n",
              "    </tr>\n",
              "    <tr>\n",
              "      <th>liver_disease</th>\n",
              "      <td>812.0</td>\n",
              "      <td>NaN</td>\n",
              "      <td>138424.0</td>\n",
              "    </tr>\n",
              "    <tr>\n",
              "      <th>cancer</th>\n",
              "      <td>7543.0</td>\n",
              "      <td>NaN</td>\n",
              "      <td>131693.0</td>\n",
              "    </tr>\n",
              "    <tr>\n",
              "      <th>depression</th>\n",
              "      <td>13031.0</td>\n",
              "      <td>NaN</td>\n",
              "      <td>126205.0</td>\n",
              "    </tr>\n",
              "    <tr>\n",
              "      <th>arthritis</th>\n",
              "      <td>107274.0</td>\n",
              "      <td>NaN</td>\n",
              "      <td>31962.0</td>\n",
              "    </tr>\n",
              "    <tr>\n",
              "      <th>t0_assisted</th>\n",
              "      <td>21318.0</td>\n",
              "      <td>116407.0</td>\n",
              "      <td>1511.0</td>\n",
              "    </tr>\n",
              "    <tr>\n",
              "      <th>t0_previous_surgery</th>\n",
              "      <td>10784.0</td>\n",
              "      <td>127410.0</td>\n",
              "      <td>1042.0</td>\n",
              "    </tr>\n",
              "    <tr>\n",
              "      <th>t0_disability</th>\n",
              "      <td>67456.0</td>\n",
              "      <td>65873.0</td>\n",
              "      <td>5907.0</td>\n",
              "    </tr>\n",
              "  </tbody>\n",
              "</table>\n",
              "</div>"
            ],
            "text/plain": [
              "                          1.0       2.0       9.0\n",
              "gender                55749.0   74085.0       NaN\n",
              "heart_disease         13051.0       NaN  126185.0\n",
              "high_bp               61570.0       NaN   77666.0\n",
              "stroke                 2303.0       NaN  136933.0\n",
              "circulation            7882.0       NaN  131354.0\n",
              "lung_disease          12779.0       NaN  126457.0\n",
              "diabetes              17379.0       NaN  121857.0\n",
              "kidney_disease         2856.0       NaN  136380.0\n",
              "nervous_system         1422.0       NaN  137814.0\n",
              "liver_disease           812.0       NaN  138424.0\n",
              "cancer                 7543.0       NaN  131693.0\n",
              "depression            13031.0       NaN  126205.0\n",
              "arthritis            107274.0       NaN   31962.0\n",
              "t0_assisted           21318.0  116407.0    1511.0\n",
              "t0_previous_surgery   10784.0  127410.0    1042.0\n",
              "t0_disability         67456.0   65873.0    5907.0"
            ]
          },
          "metadata": {
            "tags": []
          },
          "execution_count": 74
        }
      ]
    },
    {
      "cell_type": "markdown",
      "metadata": {
        "id": "uwZprioyQd0s",
        "colab_type": "text"
      },
      "source": [
        "### Inspect categorical features"
      ]
    },
    {
      "cell_type": "code",
      "metadata": {
        "id": "kVbqUsbHQ_-J",
        "colab_type": "code",
        "outputId": "78450d1b-3f9c-426a-9aa5-e7a636e43f91",
        "colab": {
          "base_uri": "https://localhost:8080/",
          "height": 297
        }
      },
      "source": [
        "eq5d = ['t0_mobility', 't0_self_care', 't0_activity', 't0_discomfort', 't0_anxiety']\n",
        "categorical = ['t0_symptom_period', 't0_previous_surgery', 't0_living_arrangements']\n",
        "\n",
        "# useless variables\n",
        "useless = ['t0_assisted_by', 't0_eq5d_index', 't0_eq5d_index_profile']\n",
        "\n",
        "count_values(df[eq5d + categorical])"
      ],
      "execution_count": 79,
      "outputs": [
        {
          "output_type": "execute_result",
          "data": {
            "text/html": [
              "<div>\n",
              "<style scoped>\n",
              "    .dataframe tbody tr th:only-of-type {\n",
              "        vertical-align: middle;\n",
              "    }\n",
              "\n",
              "    .dataframe tbody tr th {\n",
              "        vertical-align: top;\n",
              "    }\n",
              "\n",
              "    .dataframe thead th {\n",
              "        text-align: right;\n",
              "    }\n",
              "</style>\n",
              "<table border=\"1\" class=\"dataframe\">\n",
              "  <thead>\n",
              "    <tr style=\"text-align: right;\">\n",
              "      <th></th>\n",
              "      <th>1</th>\n",
              "      <th>2</th>\n",
              "      <th>3</th>\n",
              "      <th>4</th>\n",
              "      <th>9</th>\n",
              "    </tr>\n",
              "  </thead>\n",
              "  <tbody>\n",
              "    <tr>\n",
              "      <th>t0_mobility</th>\n",
              "      <td>10799.0</td>\n",
              "      <td>123763.0</td>\n",
              "      <td>388.0</td>\n",
              "      <td>NaN</td>\n",
              "      <td>4286.0</td>\n",
              "    </tr>\n",
              "    <tr>\n",
              "      <th>t0_self_care</th>\n",
              "      <td>93976.0</td>\n",
              "      <td>39843.0</td>\n",
              "      <td>1007.0</td>\n",
              "      <td>NaN</td>\n",
              "      <td>4410.0</td>\n",
              "    </tr>\n",
              "    <tr>\n",
              "      <th>t0_activity</th>\n",
              "      <td>12648.0</td>\n",
              "      <td>105171.0</td>\n",
              "      <td>16928.0</td>\n",
              "      <td>NaN</td>\n",
              "      <td>4489.0</td>\n",
              "    </tr>\n",
              "    <tr>\n",
              "      <th>t0_discomfort</th>\n",
              "      <td>1408.0</td>\n",
              "      <td>80643.0</td>\n",
              "      <td>51645.0</td>\n",
              "      <td>NaN</td>\n",
              "      <td>5540.0</td>\n",
              "    </tr>\n",
              "    <tr>\n",
              "      <th>t0_anxiety</th>\n",
              "      <td>85417.0</td>\n",
              "      <td>43307.0</td>\n",
              "      <td>5351.0</td>\n",
              "      <td>NaN</td>\n",
              "      <td>5161.0</td>\n",
              "    </tr>\n",
              "    <tr>\n",
              "      <th>t0_symptom_period</th>\n",
              "      <td>6488.0</td>\n",
              "      <td>71767.0</td>\n",
              "      <td>30434.0</td>\n",
              "      <td>29338.0</td>\n",
              "      <td>1209.0</td>\n",
              "    </tr>\n",
              "    <tr>\n",
              "      <th>t0_previous_surgery</th>\n",
              "      <td>10784.0</td>\n",
              "      <td>127410.0</td>\n",
              "      <td>NaN</td>\n",
              "      <td>NaN</td>\n",
              "      <td>1042.0</td>\n",
              "    </tr>\n",
              "    <tr>\n",
              "      <th>t0_living_arrangements</th>\n",
              "      <td>106041.0</td>\n",
              "      <td>30489.0</td>\n",
              "      <td>133.0</td>\n",
              "      <td>486.0</td>\n",
              "      <td>2087.0</td>\n",
              "    </tr>\n",
              "  </tbody>\n",
              "</table>\n",
              "</div>"
            ],
            "text/plain": [
              "                               1         2        3        4       9\n",
              "t0_mobility              10799.0  123763.0    388.0      NaN  4286.0\n",
              "t0_self_care             93976.0   39843.0   1007.0      NaN  4410.0\n",
              "t0_activity              12648.0  105171.0  16928.0      NaN  4489.0\n",
              "t0_discomfort             1408.0   80643.0  51645.0      NaN  5540.0\n",
              "t0_anxiety               85417.0   43307.0   5351.0      NaN  5161.0\n",
              "t0_symptom_period         6488.0   71767.0  30434.0  29338.0  1209.0\n",
              "t0_previous_surgery      10784.0  127410.0      NaN      NaN  1042.0\n",
              "t0_living_arrangements  106041.0   30489.0    133.0    486.0  2087.0"
            ]
          },
          "metadata": {
            "tags": []
          },
          "execution_count": 79
        }
      ]
    },
    {
      "cell_type": "markdown",
      "metadata": {
        "id": "nfwQn62bFc8O",
        "colab_type": "text"
      },
      "source": [
        "## Impute missing values"
      ]
    },
    {
      "cell_type": "markdown",
      "metadata": {
        "id": "1_FBKA-_v3b6",
        "colab_type": "text"
      },
      "source": [
        "### Strategy for missing values\n",
        "\n",
        "* No missing values: gender, age_band and all casemix variables\n",
        "* Booleans with missing values: most frequent\n",
        "* Categorical:\n",
        "  * eq5d: use most frequent\n",
        "  * symptom_period, living arrangements: use most frequent\n",
        "* Numerical: impute EQ-VAS with median\n",
        "\n",
        "Since we are going to replace values, we choose to convert the data to the most optimal type.\n",
        "\n",
        "Write code in such a way that you can easily adopt this strategy."
      ]
    },
    {
      "cell_type": "code",
      "metadata": {
        "id": "RnK1F_reJdb-",
        "colab_type": "code",
        "colab": {
          "base_uri": "https://localhost:8080/",
          "height": 34
        },
        "outputId": "79ce1652-0f53-4d14-85b6-7611b0101fac"
      },
      "source": [
        "from sklearn.impute import SimpleImputer\n",
        "\n",
        "impute_median = SimpleImputer(strategy='median')\n",
        "impute_most_frequent = SimpleImputer(strategy='most_frequent')\n",
        "\n",
        "# use copy of original data\n",
        "dfc = df.copy()\n",
        "\n",
        "# clean features with 9 sentinel values\n",
        "_no9 = boolean + eq5d + categorical\n",
        "dfc.loc[:,_no9] = df.loc[:,_no9].replace(9, np.nan)\n",
        "impute_most_frequent.fit(dfc[_no9])\n",
        "impute_most_frequent.statistics_"
      ],
      "execution_count": 82,
      "outputs": [
        {
          "output_type": "execute_result",
          "data": {
            "text/plain": [
              "array([2., 2., 1., 2., 1., 2., 2., 1., 2., 2., 1.])"
            ]
          },
          "metadata": {
            "tags": []
          },
          "execution_count": 82
        }
      ]
    },
    {
      "cell_type": "code",
      "metadata": {
        "id": "xKJtMS0H3GRK",
        "colab_type": "code",
        "colab": {}
      },
      "source": [
        "# clean features with 999 sentinel values\n",
        "dfc.loc[:,['t0_eq_vas', 't1_eq_vas']] = dfc.loc[:,['t0_eq_vas', 't1_eq_vas']].replace(999, np.nan)\n",
        "\n",
        "# impute with most frequent values\n",
        "\n",
        "\n",
        "# features with no missing values\n",
        "dfc.loc[:,'gender'] = dfc.loc[:,'gender'].replace({1: False, 2: True})\n",
        "dfc.loc[:, casemix] = dfc.loc[:, casemix].replace({9: False, 1: True})\n"
      ],
      "execution_count": 0,
      "outputs": []
    },
    {
      "cell_type": "markdown",
      "metadata": {
        "id": "hbU4Xy1aNeXd",
        "colab_type": "text"
      },
      "source": [
        ""
      ]
    },
    {
      "cell_type": "code",
      "metadata": {
        "id": "3s3U5oq00ton",
        "colab_type": "code",
        "colab": {}
      },
      "source": [
        "\n",
        "\n",
        "# helper function for counting boolean attribues\n",
        "def count_boolean(series):\n",
        "    '''\n",
        "    Returns absolute and normalized value counts of pd.series as a dataframe with \n",
        "    index = series.name\n",
        "    columns with absolute and normalized counts of each value\n",
        "    '''\n",
        "    try:\n",
        "        count = series.value_counts().to_frame().transpose()\n",
        "        norm = series.value_counts(normalize=True).to_frame().transpose()\n",
        "        return count.join(norm, lsuffix='_count', rsuffix='_normalized') \n",
        "    except:\n",
        "        print('Error: expecting a pandas.Series object as input. \\n' + count_all.__doc__)\n",
        "        return None"
      ],
      "execution_count": 0,
      "outputs": []
    },
    {
      "cell_type": "code",
      "metadata": {
        "id": "85xyJh6CNdpY",
        "colab_type": "code",
        "outputId": "3863806d-30bb-47e4-a1ed-6be665579f4a",
        "colab": {
          "base_uri": "https://localhost:8080/",
          "height": 421
        }
      },
      "source": [
        "tbl_casemix = pd.concat([count_all(dfc.loc[:, feature]) for feature in casemix], sort=True)\n",
        "tbl_casemix.round(2).sort_values('True_normalized', ascending=False)"
      ],
      "execution_count": 65,
      "outputs": [
        {
          "output_type": "execute_result",
          "data": {
            "text/html": [
              "<div>\n",
              "<style scoped>\n",
              "    .dataframe tbody tr th:only-of-type {\n",
              "        vertical-align: middle;\n",
              "    }\n",
              "\n",
              "    .dataframe tbody tr th {\n",
              "        vertical-align: top;\n",
              "    }\n",
              "\n",
              "    .dataframe thead th {\n",
              "        text-align: right;\n",
              "    }\n",
              "</style>\n",
              "<table border=\"1\" class=\"dataframe\">\n",
              "  <thead>\n",
              "    <tr style=\"text-align: right;\">\n",
              "      <th></th>\n",
              "      <th>False_count</th>\n",
              "      <th>False_normalized</th>\n",
              "      <th>True_count</th>\n",
              "      <th>True_normalized</th>\n",
              "    </tr>\n",
              "  </thead>\n",
              "  <tbody>\n",
              "    <tr>\n",
              "      <th>arthritis</th>\n",
              "      <td>31962</td>\n",
              "      <td>0.23</td>\n",
              "      <td>107274</td>\n",
              "      <td>0.77</td>\n",
              "    </tr>\n",
              "    <tr>\n",
              "      <th>high_bp</th>\n",
              "      <td>77666</td>\n",
              "      <td>0.56</td>\n",
              "      <td>61570</td>\n",
              "      <td>0.44</td>\n",
              "    </tr>\n",
              "    <tr>\n",
              "      <th>diabetes</th>\n",
              "      <td>121857</td>\n",
              "      <td>0.88</td>\n",
              "      <td>17379</td>\n",
              "      <td>0.12</td>\n",
              "    </tr>\n",
              "    <tr>\n",
              "      <th>heart_disease</th>\n",
              "      <td>126185</td>\n",
              "      <td>0.91</td>\n",
              "      <td>13051</td>\n",
              "      <td>0.09</td>\n",
              "    </tr>\n",
              "    <tr>\n",
              "      <th>lung_disease</th>\n",
              "      <td>126457</td>\n",
              "      <td>0.91</td>\n",
              "      <td>12779</td>\n",
              "      <td>0.09</td>\n",
              "    </tr>\n",
              "    <tr>\n",
              "      <th>depression</th>\n",
              "      <td>126205</td>\n",
              "      <td>0.91</td>\n",
              "      <td>13031</td>\n",
              "      <td>0.09</td>\n",
              "    </tr>\n",
              "    <tr>\n",
              "      <th>circulation</th>\n",
              "      <td>131354</td>\n",
              "      <td>0.94</td>\n",
              "      <td>7882</td>\n",
              "      <td>0.06</td>\n",
              "    </tr>\n",
              "    <tr>\n",
              "      <th>cancer</th>\n",
              "      <td>131693</td>\n",
              "      <td>0.95</td>\n",
              "      <td>7543</td>\n",
              "      <td>0.05</td>\n",
              "    </tr>\n",
              "    <tr>\n",
              "      <th>stroke</th>\n",
              "      <td>136933</td>\n",
              "      <td>0.98</td>\n",
              "      <td>2303</td>\n",
              "      <td>0.02</td>\n",
              "    </tr>\n",
              "    <tr>\n",
              "      <th>kidney_disease</th>\n",
              "      <td>136380</td>\n",
              "      <td>0.98</td>\n",
              "      <td>2856</td>\n",
              "      <td>0.02</td>\n",
              "    </tr>\n",
              "    <tr>\n",
              "      <th>nervous_system</th>\n",
              "      <td>137814</td>\n",
              "      <td>0.99</td>\n",
              "      <td>1422</td>\n",
              "      <td>0.01</td>\n",
              "    </tr>\n",
              "    <tr>\n",
              "      <th>liver_disease</th>\n",
              "      <td>138424</td>\n",
              "      <td>0.99</td>\n",
              "      <td>812</td>\n",
              "      <td>0.01</td>\n",
              "    </tr>\n",
              "  </tbody>\n",
              "</table>\n",
              "</div>"
            ],
            "text/plain": [
              "                False_count  False_normalized  True_count  True_normalized\n",
              "arthritis             31962              0.23      107274             0.77\n",
              "high_bp               77666              0.56       61570             0.44\n",
              "diabetes             121857              0.88       17379             0.12\n",
              "heart_disease        126185              0.91       13051             0.09\n",
              "lung_disease         126457              0.91       12779             0.09\n",
              "depression           126205              0.91       13031             0.09\n",
              "circulation          131354              0.94        7882             0.06\n",
              "cancer               131693              0.95        7543             0.05\n",
              "stroke               136933              0.98        2303             0.02\n",
              "kidney_disease       136380              0.98        2856             0.02\n",
              "nervous_system       137814              0.99        1422             0.01\n",
              "liver_disease        138424              0.99         812             0.01"
            ]
          },
          "metadata": {
            "tags": []
          },
          "execution_count": 65
        }
      ]
    },
    {
      "cell_type": "markdown",
      "metadata": {
        "id": "Hk2ih7gEjMMW",
        "colab_type": "text"
      },
      "source": [
        "## Discussion\n",
        "\n",
        "### **Question:** what are relevant considerations to handle NAs?\n",
        "- imputation with mean/median?\n",
        "- just drop all?\n",
        "\n",
        "### **Question:** what would you choose as the primary outcome Y?"
      ]
    },
    {
      "cell_type": "markdown",
      "metadata": {
        "id": "UXRVdLXMUrCy",
        "colab_type": "text"
      },
      "source": [
        "# Conclusion and reflection"
      ]
    },
    {
      "cell_type": "markdown",
      "metadata": {
        "id": "uhtn2ycxX-KV",
        "colab_type": "text"
      },
      "source": [
        "## Discussion of results\n",
        "\n",
        "* ...\n",
        "* ..."
      ]
    },
    {
      "cell_type": "markdown",
      "metadata": {
        "id": "EyYH6A2yUwy3",
        "colab_type": "text"
      },
      "source": [
        "\n",
        "## Checklist for results from data preparation process\n",
        "* ...\n",
        "* ...\n"
      ]
    },
    {
      "cell_type": "code",
      "metadata": {
        "id": "f1ZMFwIb3R40",
        "colab_type": "code",
        "colab": {}
      },
      "source": [
        ""
      ],
      "execution_count": 0,
      "outputs": []
    }
  ]
}
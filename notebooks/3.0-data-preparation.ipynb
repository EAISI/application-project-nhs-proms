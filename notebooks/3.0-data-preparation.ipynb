{
  "nbformat": 4,
  "nbformat_minor": 0,
  "metadata": {
    "hide_input": false,
    "kernelspec": {
      "display_name": "Python 3",
      "language": "python",
      "name": "python3"
    },
    "language_info": {
      "codemirror_mode": {
        "name": "ipython",
        "version": 3
      },
      "file_extension": ".py",
      "mimetype": "text/x-python",
      "name": "python",
      "nbconvert_exporter": "python",
      "pygments_lexer": "ipython3",
      "version": "3.7.6"
    },
    "colab": {
      "name": "3.0-data-preparation.ipynb",
      "provenance": [],
      "toc_visible": true,
      "include_colab_link": true
    }
  },
  "cells": [
    {
      "cell_type": "markdown",
      "metadata": {
        "id": "view-in-github",
        "colab_type": "text"
      },
      "source": [
        "<a href=\"https://colab.research.google.com/github/dkapitan/jads-nhs-proms/blob/master/notebooks/3.0-data-preparation.ipynb\" target=\"_parent\"><img src=\"https://colab.research.google.com/assets/colab-badge.svg\" alt=\"Open In Colab\"/></a>"
      ]
    },
    {
      "cell_type": "markdown",
      "metadata": {
        "id": "QeHjN1GFNwqC",
        "colab_type": "text"
      },
      "source": [
        "# Background to osteoarthritis case study\n",
        "\n",
        "_taken from [narrative seminar Osteoarthritis by Hunter & Bierma-Zeinstra (2019) in the Lancet](https://github.com/dkapitan/jads-nhs-proms/blob/master/references/hunter2019osteaoarthritis.pdf)._\n",
        "\n",
        "Outcomes from total joint replacement can be optimised if patient selection identifies marked joint space narrowing. Most improvement will be made in patients with complete joint space loss and evident bone attrition. Up to 25% of patients presenting for total joint replacement continue to complain of pain and disability 1 year after well performed surgery. Careful preoperative patient selection (including consideration of the poor outcomes that are more common in people who are depressed, have minimal radiographic disease, have minimal pain, and who are morbidly obese), shared decision making about surgery, and informing patients about realistic outcomes of surgery are needed to minimise the likelihood of dissatisfaction."
      ]
    },
    {
      "cell_type": "markdown",
      "metadata": {
        "id": "ps-NB5SwlrNd",
        "colab_type": "text"
      },
      "source": [
        "# Data Preparation\n",
        "\n",
        "This is day 2 from the [5-day JADS NHS PROMs data science case study](https://github.com/dkapitan/jads-nhs-proms/blob/master/references/outline.md).\n"
      ]
    },
    {
      "cell_type": "markdown",
      "metadata": {
        "id": "C1bEDtlnF4a9",
        "colab_type": "text"
      },
      "source": [
        "\n",
        "## Learning objectives: select and clean data\n",
        "- Impute missing values\n",
        "- Select main input variables X (feature engineering)\n",
        "- Define target Y (clustered classes, categories)\n",
        "- Decide how to handle correlated input features"
      ]
    },
    {
      "cell_type": "markdown",
      "metadata": {
        "id": "osBitZ5yF7lM",
        "colab_type": "text"
      },
      "source": [
        "## Learning objectives: Python\n",
        "\n",
        "- [Pythonic data cleaning](https://realpython.com/python-data-cleaning-numpy-pandas/)\n",
        "- [When to use list comprehensions](https://realpython.com/list-comprehension-python/)\n",
        "- [Pandas GroupBy](https://realpython.com/pandas-groupby/)\n",
        "- [Correlations in with numpy, scipy and pandas](https://realpython.com/numpy-scipy-pandas-correlation-python/)"
      ]
    },
    {
      "cell_type": "markdown",
      "metadata": {
        "id": "npvciVNWF_0U",
        "colab_type": "text"
      },
      "source": [
        "## Recap from previous lecture\n",
        "- Good outcome for knee replacement Y is measured using difference in Oxford Knee Score (OKS)\n",
        "- Research has shown that an improvement in OKS score of approx. 30% is relevant ([van der Wees 2017](https://github.com/dkapitan/jads-nhs-proms/blob/master/references/vanderwees2017patient-reported.pdf)). Hence an increase of +14 points is considered a 'good' outcome.\n",
        "- to account for the ceiling effect, a high final `t1_oks_score` is also considered as a good outcome (even if `delta_oks_score` is smaller than 14).\n",
        "\n",
        "    "
      ]
    },
    {
      "cell_type": "markdown",
      "metadata": {
        "id": "tGkaSFtoDRsm",
        "colab_type": "text"
      },
      "source": [
        "# Select and clean data\n"
      ]
    },
    {
      "cell_type": "code",
      "metadata": {
        "id": "_95_D3ywlrNh",
        "colab_type": "code",
        "colab": {}
      },
      "source": [
        "import warnings\n",
        "import numpy as np\n",
        "import pandas as pd\n",
        "import matplotlib as mpl\n",
        "import matplotlib.pyplot as plt\n",
        "from sklearn.feature_selection import chi2, VarianceThreshold\n",
        "import sklearn.linear_model\n",
        "\n",
        "#supressing warnings for readability\n",
        "warnings.filterwarnings(\"ignore\")\n",
        "\n",
        "# To plot pretty figures directly within Jupyter\n",
        "%matplotlib inline\n",
        "\n",
        "# choose your own style: https://matplotlib.org/3.1.0/gallery/style_sheets/style_sheets_reference.html\n",
        "plt.style.use('ggplot')\n",
        "\n",
        "# Go to town with https://matplotlib.org/tutorials/introductory/customizing.html\n",
        "# plt.rcParams.keys()\n",
        "mpl.rc('axes', labelsize=14, titlesize=14)\n",
        "mpl.rc('figure', titlesize=20)\n",
        "mpl.rc('xtick', labelsize=12)\n",
        "mpl.rc('ytick', labelsize=12)\n",
        "\n",
        "# contants for figsize\n",
        "S = (8,8)\n",
        "M = (12,12)\n",
        "L = (14,14)\n",
        "\n",
        "# pandas options\n",
        "pd.set_option(\"display.max.columns\", None)\n",
        "pd.set_option(\"display.max.rows\", None)\n",
        "pd.set_option(\"display.precision\", 2)\n",
        "\n",
        "# import data\n",
        "df = pd.read_parquet('https://github.com/dkapitan/jads-nhs-proms/blob/master/data/interim/knee-provider.parquet?raw=true')"
      ],
      "execution_count": 0,
      "outputs": []
    },
    {
      "cell_type": "code",
      "metadata": {
        "id": "Al9nCNK-5AEt",
        "colab_type": "code",
        "colab": {}
      },
      "source": [
        "# re-run relevant code from previous lecture\n",
        "# replace sentinel values with NA\n",
        "dfc = df.copy()\n",
        "dfc.loc[:,['t0_eq_vas', 't1_eq_vas']] = dfc.loc[:,['t0_eq_vas', 't1_eq_vas']].replace(999, np.nan).astype('Int64')\n",
        "_no9 = [col for col in df.columns if col.startswith('oks_t') and not col.endswith('score')]\n",
        "dfc.loc[:,_no9] = df.loc[:,_no9].replace(9, np.nan).astype('Int64')\n",
        "\n",
        "# add delta_oks_score and Y\n",
        "def good_outcome(oks_t1, delta_oks, abs_threshold=43, mcid=13):\n",
        "  if oks_t1 > abs_threshold or delta_oks > mcid:\n",
        "    return True\n",
        "  else:\n",
        "    return False\n",
        "\n",
        "\n",
        "dfc['delta_oks_score'] = dfc.oks_t1_score - dfc.oks_t0_score\n",
        "dfc['Y'] = dfc.apply(lambda row: good_outcome(row['oks_t1_score'], row['delta_oks_score']), axis=1)"
      ],
      "execution_count": 0,
      "outputs": []
    },
    {
      "cell_type": "markdown",
      "metadata": {
        "id": "115G1D1pKBGi",
        "colab_type": "text"
      },
      "source": [
        "## Clean X\n",
        "\n",
        "TO DO: `9` used as a sentinel value is almost all questions!"
      ]
    },
    {
      "cell_type": "code",
      "metadata": {
        "id": "70x0rdVMTVls",
        "colab_type": "code",
        "colab": {}
      },
      "source": [
        "# helper function to count all unique values for categorical data\n",
        "\n",
        "def count_values(df):\n",
        "  \"\"\" Count unique values in dataframe\"\"\"\n",
        "  \n",
        "  return pd.concat([df[col].value_counts().sort_values(ascending=False).head(10) for col in df.columns], axis=1).transpose()"
      ],
      "execution_count": 0,
      "outputs": []
    },
    {
      "cell_type": "markdown",
      "metadata": {
        "id": "dJDC2qMzPDf6",
        "colab_type": "text"
      },
      "source": [
        "### Encode boolean features"
      ]
    },
    {
      "cell_type": "code",
      "metadata": {
        "id": "sTqApjEpKElS",
        "colab_type": "code",
        "colab": {
          "base_uri": "https://localhost:8080/",
          "height": 173
        },
        "outputId": "c24b1daf-fb8f-4af0-a1c7-f54210ca8e09"
      },
      "source": [
        "# encode casemix to boolean\n",
        "casemix = ['heart_disease', 'high_bp', 'stroke', 'circulation', 'lung_disease', 'diabetes',\n",
        "           'kidney_disease', 'nervous_system', 'liver_disease', 'cancer', 'depression', 'arthritis']\n",
        "dfc.loc[:, casemix] = dfc.loc[:, casemix].replace({9: False, 1: True})\n",
        "dfc.loc[:, casemix].describe()"
      ],
      "execution_count": 12,
      "outputs": [
        {
          "output_type": "execute_result",
          "data": {
            "text/html": [
              "<div>\n",
              "<style scoped>\n",
              "    .dataframe tbody tr th:only-of-type {\n",
              "        vertical-align: middle;\n",
              "    }\n",
              "\n",
              "    .dataframe tbody tr th {\n",
              "        vertical-align: top;\n",
              "    }\n",
              "\n",
              "    .dataframe thead th {\n",
              "        text-align: right;\n",
              "    }\n",
              "</style>\n",
              "<table border=\"1\" class=\"dataframe\">\n",
              "  <thead>\n",
              "    <tr style=\"text-align: right;\">\n",
              "      <th></th>\n",
              "      <th>heart_disease</th>\n",
              "      <th>high_bp</th>\n",
              "      <th>stroke</th>\n",
              "      <th>circulation</th>\n",
              "      <th>lung_disease</th>\n",
              "      <th>diabetes</th>\n",
              "      <th>kidney_disease</th>\n",
              "      <th>nervous_system</th>\n",
              "      <th>liver_disease</th>\n",
              "      <th>cancer</th>\n",
              "      <th>depression</th>\n",
              "      <th>arthritis</th>\n",
              "    </tr>\n",
              "  </thead>\n",
              "  <tbody>\n",
              "    <tr>\n",
              "      <th>count</th>\n",
              "      <td>139236</td>\n",
              "      <td>139236</td>\n",
              "      <td>139236</td>\n",
              "      <td>139236</td>\n",
              "      <td>139236</td>\n",
              "      <td>139236</td>\n",
              "      <td>139236</td>\n",
              "      <td>139236</td>\n",
              "      <td>139236</td>\n",
              "      <td>139236</td>\n",
              "      <td>139236</td>\n",
              "      <td>139236</td>\n",
              "    </tr>\n",
              "    <tr>\n",
              "      <th>unique</th>\n",
              "      <td>2</td>\n",
              "      <td>2</td>\n",
              "      <td>2</td>\n",
              "      <td>2</td>\n",
              "      <td>2</td>\n",
              "      <td>2</td>\n",
              "      <td>2</td>\n",
              "      <td>2</td>\n",
              "      <td>2</td>\n",
              "      <td>2</td>\n",
              "      <td>2</td>\n",
              "      <td>2</td>\n",
              "    </tr>\n",
              "    <tr>\n",
              "      <th>top</th>\n",
              "      <td>False</td>\n",
              "      <td>False</td>\n",
              "      <td>False</td>\n",
              "      <td>False</td>\n",
              "      <td>False</td>\n",
              "      <td>False</td>\n",
              "      <td>False</td>\n",
              "      <td>False</td>\n",
              "      <td>False</td>\n",
              "      <td>False</td>\n",
              "      <td>False</td>\n",
              "      <td>True</td>\n",
              "    </tr>\n",
              "    <tr>\n",
              "      <th>freq</th>\n",
              "      <td>126185</td>\n",
              "      <td>77666</td>\n",
              "      <td>136933</td>\n",
              "      <td>131354</td>\n",
              "      <td>126457</td>\n",
              "      <td>121857</td>\n",
              "      <td>136380</td>\n",
              "      <td>137814</td>\n",
              "      <td>138424</td>\n",
              "      <td>131693</td>\n",
              "      <td>126205</td>\n",
              "      <td>107274</td>\n",
              "    </tr>\n",
              "  </tbody>\n",
              "</table>\n",
              "</div>"
            ],
            "text/plain": [
              "       heart_disease high_bp  stroke circulation lung_disease diabetes  \\\n",
              "count         139236  139236  139236      139236       139236   139236   \n",
              "unique             2       2       2           2            2        2   \n",
              "top            False   False   False       False        False    False   \n",
              "freq          126185   77666  136933      131354       126457   121857   \n",
              "\n",
              "       kidney_disease nervous_system liver_disease  cancer depression  \\\n",
              "count          139236         139236        139236  139236     139236   \n",
              "unique              2              2             2       2          2   \n",
              "top             False          False         False   False      False   \n",
              "freq           136380         137814        138424  131693     126205   \n",
              "\n",
              "       arthritis  \n",
              "count     139236  \n",
              "unique         2  \n",
              "top         True  \n",
              "freq      107274  "
            ]
          },
          "metadata": {
            "tags": []
          },
          "execution_count": 12
        }
      ]
    },
    {
      "cell_type": "code",
      "metadata": {
        "id": "JqZsF9f6NN-D",
        "colab_type": "code",
        "colab": {
          "base_uri": "https://localhost:8080/",
          "height": 51
        },
        "outputId": "9985e7c6-de25-4a5f-833c-572ab2e13ada"
      },
      "source": [
        "# encode gender to boolean, males: False, females: True\n",
        "dfc.loc[:,'gender'] = dfc.loc[:,'gender'].replace({1: False, 2: True})\n",
        "dfc.loc[:,'gender'].value_counts()"
      ],
      "execution_count": 26,
      "outputs": [
        {
          "output_type": "execute_result",
          "data": {
            "text/plain": [
              "False    129834\n",
              "Name: gender, dtype: int64"
            ]
          },
          "metadata": {
            "tags": []
          },
          "execution_count": 26
        }
      ]
    },
    {
      "cell_type": "code",
      "metadata": {
        "id": "6enz8ZYrVBa9",
        "colab_type": "code",
        "colab": {
          "base_uri": "https://localhost:8080/",
          "height": 514
        },
        "outputId": "4ee82204-ed03-4566-9e87-4f95ccf672c7"
      },
      "source": [
        "# booleans, with 9 missing\n",
        "boolean = ['t0_assisted', 't0_previous_surgery']\n",
        "count_values(df[['gender'] + casemix + boolean])"
      ],
      "execution_count": 49,
      "outputs": [
        {
          "output_type": "execute_result",
          "data": {
            "text/html": [
              "<div>\n",
              "<style scoped>\n",
              "    .dataframe tbody tr th:only-of-type {\n",
              "        vertical-align: middle;\n",
              "    }\n",
              "\n",
              "    .dataframe tbody tr th {\n",
              "        vertical-align: top;\n",
              "    }\n",
              "\n",
              "    .dataframe thead th {\n",
              "        text-align: right;\n",
              "    }\n",
              "</style>\n",
              "<table border=\"1\" class=\"dataframe\">\n",
              "  <thead>\n",
              "    <tr style=\"text-align: right;\">\n",
              "      <th></th>\n",
              "      <th>1.0</th>\n",
              "      <th>2.0</th>\n",
              "      <th>9.0</th>\n",
              "    </tr>\n",
              "  </thead>\n",
              "  <tbody>\n",
              "    <tr>\n",
              "      <th>gender</th>\n",
              "      <td>55749.0</td>\n",
              "      <td>74085.0</td>\n",
              "      <td>NaN</td>\n",
              "    </tr>\n",
              "    <tr>\n",
              "      <th>heart_disease</th>\n",
              "      <td>13051.0</td>\n",
              "      <td>NaN</td>\n",
              "      <td>126185.0</td>\n",
              "    </tr>\n",
              "    <tr>\n",
              "      <th>high_bp</th>\n",
              "      <td>61570.0</td>\n",
              "      <td>NaN</td>\n",
              "      <td>77666.0</td>\n",
              "    </tr>\n",
              "    <tr>\n",
              "      <th>stroke</th>\n",
              "      <td>2303.0</td>\n",
              "      <td>NaN</td>\n",
              "      <td>136933.0</td>\n",
              "    </tr>\n",
              "    <tr>\n",
              "      <th>circulation</th>\n",
              "      <td>7882.0</td>\n",
              "      <td>NaN</td>\n",
              "      <td>131354.0</td>\n",
              "    </tr>\n",
              "    <tr>\n",
              "      <th>lung_disease</th>\n",
              "      <td>12779.0</td>\n",
              "      <td>NaN</td>\n",
              "      <td>126457.0</td>\n",
              "    </tr>\n",
              "    <tr>\n",
              "      <th>diabetes</th>\n",
              "      <td>17379.0</td>\n",
              "      <td>NaN</td>\n",
              "      <td>121857.0</td>\n",
              "    </tr>\n",
              "    <tr>\n",
              "      <th>kidney_disease</th>\n",
              "      <td>2856.0</td>\n",
              "      <td>NaN</td>\n",
              "      <td>136380.0</td>\n",
              "    </tr>\n",
              "    <tr>\n",
              "      <th>nervous_system</th>\n",
              "      <td>1422.0</td>\n",
              "      <td>NaN</td>\n",
              "      <td>137814.0</td>\n",
              "    </tr>\n",
              "    <tr>\n",
              "      <th>liver_disease</th>\n",
              "      <td>812.0</td>\n",
              "      <td>NaN</td>\n",
              "      <td>138424.0</td>\n",
              "    </tr>\n",
              "    <tr>\n",
              "      <th>cancer</th>\n",
              "      <td>7543.0</td>\n",
              "      <td>NaN</td>\n",
              "      <td>131693.0</td>\n",
              "    </tr>\n",
              "    <tr>\n",
              "      <th>depression</th>\n",
              "      <td>13031.0</td>\n",
              "      <td>NaN</td>\n",
              "      <td>126205.0</td>\n",
              "    </tr>\n",
              "    <tr>\n",
              "      <th>arthritis</th>\n",
              "      <td>107274.0</td>\n",
              "      <td>NaN</td>\n",
              "      <td>31962.0</td>\n",
              "    </tr>\n",
              "    <tr>\n",
              "      <th>t0_assisted</th>\n",
              "      <td>21318.0</td>\n",
              "      <td>116407.0</td>\n",
              "      <td>1511.0</td>\n",
              "    </tr>\n",
              "    <tr>\n",
              "      <th>t0_previous_surgery</th>\n",
              "      <td>10784.0</td>\n",
              "      <td>127410.0</td>\n",
              "      <td>1042.0</td>\n",
              "    </tr>\n",
              "  </tbody>\n",
              "</table>\n",
              "</div>"
            ],
            "text/plain": [
              "                          1.0       2.0       9.0\n",
              "gender                55749.0   74085.0       NaN\n",
              "heart_disease         13051.0       NaN  126185.0\n",
              "high_bp               61570.0       NaN   77666.0\n",
              "stroke                 2303.0       NaN  136933.0\n",
              "circulation            7882.0       NaN  131354.0\n",
              "lung_disease          12779.0       NaN  126457.0\n",
              "diabetes              17379.0       NaN  121857.0\n",
              "kidney_disease         2856.0       NaN  136380.0\n",
              "nervous_system         1422.0       NaN  137814.0\n",
              "liver_disease           812.0       NaN  138424.0\n",
              "cancer                 7543.0       NaN  131693.0\n",
              "depression            13031.0       NaN  126205.0\n",
              "arthritis            107274.0       NaN   31962.0\n",
              "t0_assisted           21318.0  116407.0    1511.0\n",
              "t0_previous_surgery   10784.0  127410.0    1042.0"
            ]
          },
          "metadata": {
            "tags": []
          },
          "execution_count": 49
        }
      ]
    },
    {
      "cell_type": "code",
      "metadata": {
        "id": "wPb8o86eS2Jn",
        "colab_type": "code",
        "colab": {}
      },
      "source": [
        "# useless variables\n",
        "useless = ['t0_assisted_by']\n"
      ],
      "execution_count": 0,
      "outputs": []
    },
    {
      "cell_type": "code",
      "metadata": {
        "id": "fJN333SXSYe0",
        "colab_type": "code",
        "colab": {
          "base_uri": "https://localhost:8080/",
          "height": 85
        },
        "outputId": "10643c71-7a68-4c76-9851-2a4c426c7b4e"
      },
      "source": [
        "\n",
        "dfc.t0_previous_surgery.value_counts()"
      ],
      "execution_count": 35,
      "outputs": [
        {
          "output_type": "execute_result",
          "data": {
            "text/plain": [
              "2    127410\n",
              "1     10784\n",
              "9      1042\n",
              "Name: t0_previous_surgery, dtype: int64"
            ]
          },
          "metadata": {
            "tags": []
          },
          "execution_count": 35
        }
      ]
    },
    {
      "cell_type": "code",
      "metadata": {
        "id": "mDhf6iNkQSN8",
        "colab_type": "code",
        "colab": {
          "base_uri": "https://localhost:8080/",
          "height": 1000
        },
        "outputId": "8e9ce50d-289c-43d0-989e-85642b66d90e"
      },
      "source": [
        "dfc.info()"
      ],
      "execution_count": 27,
      "outputs": [
        {
          "output_type": "stream",
          "text": [
            "<class 'pandas.core.frame.DataFrame'>\n",
            "Int64Index: 139236 entries, 0 to 47603\n",
            "Data columns (total 83 columns):\n",
            "provider_code                   139236 non-null object\n",
            "procedure                       139236 non-null object\n",
            "revision_flag                   139236 non-null uint8\n",
            "year                            139236 non-null object\n",
            "age_band                        129834 non-null object\n",
            "gender                          129834 non-null object\n",
            "t0_assisted                     139236 non-null uint8\n",
            "t0_assisted_by                  139236 non-null uint8\n",
            "t0_symptom_period               139236 non-null uint8\n",
            "t0_previous_surgery             139236 non-null uint8\n",
            "t0_living_arrangements          139236 non-null uint8\n",
            "t0_disability                   139236 non-null uint8\n",
            "heart_disease                   139236 non-null bool\n",
            "high_bp                         139236 non-null bool\n",
            "stroke                          139236 non-null bool\n",
            "circulation                     139236 non-null bool\n",
            "lung_disease                    139236 non-null bool\n",
            "diabetes                        139236 non-null bool\n",
            "kidney_disease                  139236 non-null bool\n",
            "nervous_system                  139236 non-null bool\n",
            "liver_disease                   139236 non-null bool\n",
            "cancer                          139236 non-null bool\n",
            "depression                      139236 non-null bool\n",
            "arthritis                       139236 non-null bool\n",
            "t0_mobility                     139236 non-null uint8\n",
            "t0_self_care                    139236 non-null uint8\n",
            "t0_activity                     139236 non-null uint8\n",
            "t0_discomfort                   139236 non-null uint8\n",
            "t0_anxiety                      139236 non-null uint8\n",
            "t0_eq5d_index_profile           139236 non-null int64\n",
            "t0_eq5d_index                   131736 non-null float32\n",
            "t1_assisted                     139236 non-null uint8\n",
            "t1_assisted_by                  139236 non-null uint8\n",
            "t1_living_arrangements          139236 non-null uint8\n",
            "t1_disability                   139236 non-null uint8\n",
            "t1_mobility                     139236 non-null uint8\n",
            "t1_self_care                    139236 non-null uint8\n",
            "t1_activity                     139236 non-null uint8\n",
            "t1_discomfort                   139236 non-null uint8\n",
            "t1_anxiety                      139236 non-null uint8\n",
            "t1_satisfaction                 139236 non-null uint8\n",
            "t1_sucess                       139236 non-null uint8\n",
            "t1_allergy                      139236 non-null uint8\n",
            "t1_bleeding                     139236 non-null uint8\n",
            "t1_wound                        139236 non-null uint8\n",
            "t1_urine                        139236 non-null uint8\n",
            "t1_further_surgery              139236 non-null uint8\n",
            "t1_readmitted                   139236 non-null uint8\n",
            "t1_eq5d_index_profile           139236 non-null int64\n",
            "t1_eq5d_index                   132962 non-null float32\n",
            "oks_eq_5d_index_t1_predicted    124914 non-null float32\n",
            "t0_eq_vas                       126275 non-null Int64\n",
            "t1_eq_vas                       132690 non-null Int64\n",
            "oks_eq_vas_t1_predicted         119813 non-null float32\n",
            "oks_t0_pain                     139038 non-null Int64\n",
            "oks_t0_night_pain               137932 non-null Int64\n",
            "oks_t0_washing                  139111 non-null Int64\n",
            "oks_t0_transport                137886 non-null Int64\n",
            "oks_t0_walking                  137793 non-null Int64\n",
            "oks_t0_standing                 137783 non-null Int64\n",
            "oks_t0_limping                  137821 non-null Int64\n",
            "oks_t0_kneeling                 137840 non-null Int64\n",
            "oks_t0_work                     137880 non-null Int64\n",
            "oks_t0_confidence               137894 non-null Int64\n",
            "oks_t0_shopping                 137893 non-null Int64\n",
            "oks_t0_stairs                   137898 non-null Int64\n",
            "oks_t0_score                    137567 non-null float32\n",
            "oks_t1_pain                     137946 non-null Int64\n",
            "oks_t1_night_pain               138359 non-null Int64\n",
            "oks_t1_washing                  137998 non-null Int64\n",
            "oks_t1_transport                137999 non-null Int64\n",
            "oks_t1_walking                  137975 non-null Int64\n",
            "oks_t1_standing                 138230 non-null Int64\n",
            "oks_t1_limping                  138139 non-null Int64\n",
            "oks_t1_kneeling                 138145 non-null Int64\n",
            "oks_t1_work                     138224 non-null Int64\n",
            "oks_t1_confidence               138289 non-null Int64\n",
            "oks_t1_shopping                 138231 non-null Int64\n",
            "oks_t1_stairs                   138256 non-null Int64\n",
            "oks_t1_score                    136657 non-null float32\n",
            "oks_oks_t1_predicted            133855 non-null float32\n",
            "delta_oks_score                 135051 non-null float32\n",
            "Y                               139236 non-null bool\n",
            "dtypes: Int64(26), bool(13), float32(8), int64(2), object(5), uint8(29)\n",
            "memory usage: 49.4+ MB\n"
          ],
          "name": "stdout"
        }
      ]
    },
    {
      "cell_type": "code",
      "metadata": {
        "id": "HvIZSHEHL8zq",
        "colab_type": "code",
        "colab": {}
      },
      "source": [
        "# helper function for counting boolean attribues\n",
        "def count_all(series):\n",
        "    '''\n",
        "    Returns absolute and normalized value counts of pd.series as a dataframe with \n",
        "    index = series.name\n",
        "    columns with absolute and normalized counts of each value\n",
        "    '''\n",
        "    try:\n",
        "        count = series.value_counts().to_frame().transpose()\n",
        "        norm = series.value_counts(normalize=True).to_frame().transpose()\n",
        "        return count.join(norm, lsuffix='_count', rsuffix='_normalized') \n",
        "    except:\n",
        "        print('Error: expecting a pandas.Series object as input. \\n' + count_all.__doc__)\n",
        "        return None\n",
        "        "
      ],
      "execution_count": 0,
      "outputs": []
    },
    {
      "cell_type": "markdown",
      "metadata": {
        "id": "hbU4Xy1aNeXd",
        "colab_type": "text"
      },
      "source": [
        "### Python skill: using list comprehensions\n",
        "\n",
        "There are three ways to work with lists in Python:\n",
        "1. with `for` loops\n",
        "2. using `map` (map-reduce pattern)\n",
        "3. using list comprehensions\n",
        "\n",
        "The third option finds its roots in functional programming and is considered the most Pythonic. It is particularly useful for data science."
      ]
    },
    {
      "cell_type": "code",
      "metadata": {
        "id": "85xyJh6CNdpY",
        "colab_type": "code",
        "colab": {
          "base_uri": "https://localhost:8080/",
          "height": 421
        },
        "outputId": "7f463033-fcb5-4acf-b1d4-46d2e1d7c1c7"
      },
      "source": [
        "tbl_casemix = pd.concat([count_all(dfc.loc[:, feature]) for feature in casemix], sort=True)\n",
        "tbl_casemix.round(2).sort_values('True_normalized', ascending=False)"
      ],
      "execution_count": 18,
      "outputs": [
        {
          "output_type": "execute_result",
          "data": {
            "text/html": [
              "<div>\n",
              "<style scoped>\n",
              "    .dataframe tbody tr th:only-of-type {\n",
              "        vertical-align: middle;\n",
              "    }\n",
              "\n",
              "    .dataframe tbody tr th {\n",
              "        vertical-align: top;\n",
              "    }\n",
              "\n",
              "    .dataframe thead th {\n",
              "        text-align: right;\n",
              "    }\n",
              "</style>\n",
              "<table border=\"1\" class=\"dataframe\">\n",
              "  <thead>\n",
              "    <tr style=\"text-align: right;\">\n",
              "      <th></th>\n",
              "      <th>False_count</th>\n",
              "      <th>False_normalized</th>\n",
              "      <th>True_count</th>\n",
              "      <th>True_normalized</th>\n",
              "    </tr>\n",
              "  </thead>\n",
              "  <tbody>\n",
              "    <tr>\n",
              "      <th>arthritis</th>\n",
              "      <td>31962</td>\n",
              "      <td>0.23</td>\n",
              "      <td>107274</td>\n",
              "      <td>0.77</td>\n",
              "    </tr>\n",
              "    <tr>\n",
              "      <th>high_bp</th>\n",
              "      <td>77666</td>\n",
              "      <td>0.56</td>\n",
              "      <td>61570</td>\n",
              "      <td>0.44</td>\n",
              "    </tr>\n",
              "    <tr>\n",
              "      <th>diabetes</th>\n",
              "      <td>121857</td>\n",
              "      <td>0.88</td>\n",
              "      <td>17379</td>\n",
              "      <td>0.12</td>\n",
              "    </tr>\n",
              "    <tr>\n",
              "      <th>heart_disease</th>\n",
              "      <td>126185</td>\n",
              "      <td>0.91</td>\n",
              "      <td>13051</td>\n",
              "      <td>0.09</td>\n",
              "    </tr>\n",
              "    <tr>\n",
              "      <th>lung_disease</th>\n",
              "      <td>126457</td>\n",
              "      <td>0.91</td>\n",
              "      <td>12779</td>\n",
              "      <td>0.09</td>\n",
              "    </tr>\n",
              "    <tr>\n",
              "      <th>depression</th>\n",
              "      <td>126205</td>\n",
              "      <td>0.91</td>\n",
              "      <td>13031</td>\n",
              "      <td>0.09</td>\n",
              "    </tr>\n",
              "    <tr>\n",
              "      <th>circulation</th>\n",
              "      <td>131354</td>\n",
              "      <td>0.94</td>\n",
              "      <td>7882</td>\n",
              "      <td>0.06</td>\n",
              "    </tr>\n",
              "    <tr>\n",
              "      <th>cancer</th>\n",
              "      <td>131693</td>\n",
              "      <td>0.95</td>\n",
              "      <td>7543</td>\n",
              "      <td>0.05</td>\n",
              "    </tr>\n",
              "    <tr>\n",
              "      <th>stroke</th>\n",
              "      <td>136933</td>\n",
              "      <td>0.98</td>\n",
              "      <td>2303</td>\n",
              "      <td>0.02</td>\n",
              "    </tr>\n",
              "    <tr>\n",
              "      <th>kidney_disease</th>\n",
              "      <td>136380</td>\n",
              "      <td>0.98</td>\n",
              "      <td>2856</td>\n",
              "      <td>0.02</td>\n",
              "    </tr>\n",
              "    <tr>\n",
              "      <th>nervous_system</th>\n",
              "      <td>137814</td>\n",
              "      <td>0.99</td>\n",
              "      <td>1422</td>\n",
              "      <td>0.01</td>\n",
              "    </tr>\n",
              "    <tr>\n",
              "      <th>liver_disease</th>\n",
              "      <td>138424</td>\n",
              "      <td>0.99</td>\n",
              "      <td>812</td>\n",
              "      <td>0.01</td>\n",
              "    </tr>\n",
              "  </tbody>\n",
              "</table>\n",
              "</div>"
            ],
            "text/plain": [
              "                False_count  False_normalized  True_count  True_normalized\n",
              "arthritis             31962              0.23      107274             0.77\n",
              "high_bp               77666              0.56       61570             0.44\n",
              "diabetes             121857              0.88       17379             0.12\n",
              "heart_disease        126185              0.91       13051             0.09\n",
              "lung_disease         126457              0.91       12779             0.09\n",
              "depression           126205              0.91       13031             0.09\n",
              "circulation          131354              0.94        7882             0.06\n",
              "cancer               131693              0.95        7543             0.05\n",
              "stroke               136933              0.98        2303             0.02\n",
              "kidney_disease       136380              0.98        2856             0.02\n",
              "nervous_system       137814              0.99        1422             0.01\n",
              "liver_disease        138424              0.99         812             0.01"
            ]
          },
          "metadata": {
            "tags": []
          },
          "execution_count": 18
        }
      ]
    },
    {
      "cell_type": "markdown",
      "metadata": {
        "id": "uwZprioyQd0s",
        "colab_type": "text"
      },
      "source": [
        "### Encode categorical features"
      ]
    },
    {
      "cell_type": "code",
      "metadata": {
        "id": "kVbqUsbHQ_-J",
        "colab_type": "code",
        "colab": {
          "base_uri": "https://localhost:8080/",
          "height": 204
        },
        "outputId": "86476dc3-b0f8-4401-dcc1-140a44df8501"
      },
      "source": [
        "# 9 as missing: symptom_period\n",
        "categorical = ['provider_code', 'age_band', 't0_symptom_period', 't0_previous_surgery', 't0_living_arrangements']\n",
        "dfc[categorical].head()"
      ],
      "execution_count": 30,
      "outputs": [
        {
          "output_type": "execute_result",
          "data": {
            "text/html": [
              "<div>\n",
              "<style scoped>\n",
              "    .dataframe tbody tr th:only-of-type {\n",
              "        vertical-align: middle;\n",
              "    }\n",
              "\n",
              "    .dataframe tbody tr th {\n",
              "        vertical-align: top;\n",
              "    }\n",
              "\n",
              "    .dataframe thead th {\n",
              "        text-align: right;\n",
              "    }\n",
              "</style>\n",
              "<table border=\"1\" class=\"dataframe\">\n",
              "  <thead>\n",
              "    <tr style=\"text-align: right;\">\n",
              "      <th></th>\n",
              "      <th>provider_code</th>\n",
              "      <th>age_band</th>\n",
              "      <th>t0_assisted</th>\n",
              "      <th>t0_symptom_period</th>\n",
              "      <th>t0_previous_surgery</th>\n",
              "      <th>t0_living_arrangements</th>\n",
              "    </tr>\n",
              "  </thead>\n",
              "  <tbody>\n",
              "    <tr>\n",
              "      <th>0</th>\n",
              "      <td>ADP02</td>\n",
              "      <td>None</td>\n",
              "      <td>2</td>\n",
              "      <td>2</td>\n",
              "      <td>2</td>\n",
              "      <td>2</td>\n",
              "    </tr>\n",
              "    <tr>\n",
              "      <th>1</th>\n",
              "      <td>ADP02</td>\n",
              "      <td>None</td>\n",
              "      <td>2</td>\n",
              "      <td>2</td>\n",
              "      <td>2</td>\n",
              "      <td>2</td>\n",
              "    </tr>\n",
              "    <tr>\n",
              "      <th>2</th>\n",
              "      <td>ADP02</td>\n",
              "      <td>None</td>\n",
              "      <td>2</td>\n",
              "      <td>2</td>\n",
              "      <td>2</td>\n",
              "      <td>1</td>\n",
              "    </tr>\n",
              "    <tr>\n",
              "      <th>3</th>\n",
              "      <td>ADP02</td>\n",
              "      <td>None</td>\n",
              "      <td>2</td>\n",
              "      <td>2</td>\n",
              "      <td>2</td>\n",
              "      <td>2</td>\n",
              "    </tr>\n",
              "    <tr>\n",
              "      <th>4</th>\n",
              "      <td>ADP02</td>\n",
              "      <td>None</td>\n",
              "      <td>1</td>\n",
              "      <td>3</td>\n",
              "      <td>2</td>\n",
              "      <td>2</td>\n",
              "    </tr>\n",
              "  </tbody>\n",
              "</table>\n",
              "</div>"
            ],
            "text/plain": [
              "  provider_code age_band  t0_assisted  t0_symptom_period  t0_previous_surgery  \\\n",
              "0         ADP02     None            2                  2                    2   \n",
              "1         ADP02     None            2                  2                    2   \n",
              "2         ADP02     None            2                  2                    2   \n",
              "3         ADP02     None            2                  2                    2   \n",
              "4         ADP02     None            1                  3                    2   \n",
              "\n",
              "   t0_living_arrangements  \n",
              "0                       2  \n",
              "1                       2  \n",
              "2                       1  \n",
              "3                       2  \n",
              "4                       2  "
            ]
          },
          "metadata": {
            "tags": []
          },
          "execution_count": 30
        }
      ]
    },
    {
      "cell_type": "markdown",
      "metadata": {
        "id": "nfwQn62bFc8O",
        "colab_type": "text"
      },
      "source": [
        "## Impute missing values"
      ]
    },
    {
      "cell_type": "code",
      "metadata": {
        "id": "RnK1F_reJdb-",
        "colab_type": "code",
        "colab": {}
      },
      "source": [
        "from sklearn.impute import SimpleImputer\n",
        "\n",
        "\n",
        "\n",
        "imputer = SimpleImputer(strategy=\"median\")"
      ],
      "execution_count": 0,
      "outputs": []
    },
    {
      "cell_type": "markdown",
      "metadata": {
        "id": "Hk2ih7gEjMMW",
        "colab_type": "text"
      },
      "source": [
        "## Discussion\n",
        "\n",
        "### **Question:** what are relevant considerations to handle NAs?\n",
        "- imputation with mean/median?\n",
        "- just drop all?\n",
        "\n",
        "### **Question:** what would you choose as the primary outcome Y?"
      ]
    },
    {
      "cell_type": "markdown",
      "metadata": {
        "id": "UXRVdLXMUrCy",
        "colab_type": "text"
      },
      "source": [
        "# Conclusion and reflection"
      ]
    },
    {
      "cell_type": "markdown",
      "metadata": {
        "id": "uhtn2ycxX-KV",
        "colab_type": "text"
      },
      "source": [
        "## Discussion of results\n",
        "\n",
        "* ...\n",
        "* ..."
      ]
    },
    {
      "cell_type": "markdown",
      "metadata": {
        "id": "EyYH6A2yUwy3",
        "colab_type": "text"
      },
      "source": [
        "\n",
        "## Checklist for results from data preparation process\n",
        "* ...\n",
        "* ...\n"
      ]
    },
    {
      "cell_type": "code",
      "metadata": {
        "id": "f1ZMFwIb3R40",
        "colab_type": "code",
        "colab": {}
      },
      "source": [
        ""
      ],
      "execution_count": 0,
      "outputs": []
    }
  ]
}
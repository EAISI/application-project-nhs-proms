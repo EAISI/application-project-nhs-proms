{
  "nbformat": 4,
  "nbformat_minor": 0,
  "metadata": {
    "hide_input": false,
    "kernelspec": {
      "display_name": "Python 3",
      "language": "python",
      "name": "python3"
    },
    "language_info": {
      "codemirror_mode": {
        "name": "ipython",
        "version": 3
      },
      "file_extension": ".py",
      "mimetype": "text/x-python",
      "name": "python",
      "nbconvert_exporter": "python",
      "pygments_lexer": "ipython3",
      "version": "3.7.6"
    },
    "colab": {
      "name": "3.0-data-preparation.ipynb",
      "provenance": [],
      "toc_visible": true,
      "include_colab_link": true
    }
  },
  "cells": [
    {
      "cell_type": "markdown",
      "metadata": {
        "id": "view-in-github",
        "colab_type": "text"
      },
      "source": [
        "<a href=\"https://colab.research.google.com/github/dkapitan/jads-nhs-proms/blob/master/notebooks/3.0-data-preparation.ipynb\" target=\"_parent\"><img src=\"https://colab.research.google.com/assets/colab-badge.svg\" alt=\"Open In Colab\"/></a>"
      ]
    },
    {
      "cell_type": "markdown",
      "metadata": {
        "id": "QeHjN1GFNwqC",
        "colab_type": "text"
      },
      "source": [
        "# Background to osteoarthritis case study\n",
        "\n",
        "_taken from [narrative seminar Osteoarthritis by Hunter & Bierma-Zeinstra (2019) in the Lancet](https://github.com/dkapitan/jads-nhs-proms/blob/master/references/hunter2019osteaoarthritis.pdf)._\n",
        "\n",
        "Outcomes from total joint replacement can be optimised if patient selection identifies marked joint space narrowing. Most improvement will be made in patients with complete joint space loss and evident bone attrition. Up to 25% of patients presenting for total joint replacement continue to complain of pain and disability 1 year after well performed surgery. Careful preoperative patient selection (including consideration of the poor outcomes that are more common in people who are depressed, have minimal radiographic disease, have minimal pain, and who are morbidly obese), shared decision making about surgery, and informing patients about realistic outcomes of surgery are needed to minimise the likelihood of dissatisfaction."
      ]
    },
    {
      "cell_type": "markdown",
      "metadata": {
        "id": "ps-NB5SwlrNd",
        "colab_type": "text"
      },
      "source": [
        "# Data Preparation\n",
        "\n",
        "This is day 2 from the [5-day JADS NHS PROMs data science case study](https://github.com/dkapitan/jads-nhs-proms/blob/master/references/outline.md).\n"
      ]
    },
    {
      "cell_type": "markdown",
      "metadata": {
        "id": "C1bEDtlnF4a9",
        "colab_type": "text"
      },
      "source": [
        "\n",
        "## Learning objectives: select and clean data\n",
        "- Impute missing values\n",
        "- Select main input variables X (feature engineering)\n",
        "- Define target Y (clustered classes, categories)\n",
        "- Decide how to handle correlated input features"
      ]
    },
    {
      "cell_type": "markdown",
      "metadata": {
        "id": "osBitZ5yF7lM",
        "colab_type": "text"
      },
      "source": [
        "## Learning objectives: Python\n",
        "\n",
        "- [Pythonic data cleaning](https://realpython.com/python-data-cleaning-numpy-pandas/)\n",
        "- [When to use list comprehensions](https://realpython.com/list-comprehension-python/)\n",
        "- [Pandas GroupBy](https://realpython.com/pandas-groupby/)\n",
        "- [Correlations in with numpy, scipy and pandas](https://realpython.com/numpy-scipy-pandas-correlation-python/)"
      ]
    },
    {
      "cell_type": "markdown",
      "metadata": {
        "id": "npvciVNWF_0U",
        "colab_type": "text"
      },
      "source": [
        "## Recap from previous lecture\n",
        "- Good outcome for knee replacement Y is measured using difference in Oxford Knee Score (OKS)\n",
        "- Research has shown that an improvement in OKS score of approx. 30% is relevant ([van der Wees 2017](https://github.com/dkapitan/jads-nhs-proms/blob/master/references/vanderwees2017patient-reported.pdf)). Hence an increase of +14 points is considered a 'good' outcome.\n",
        "- to account for the ceiling effect, a high final `t1_oks_score` is also considered as a good outcome (even if `delta_oks_score` is smaller than 14).\n",
        "\n",
        "    "
      ]
    },
    {
      "cell_type": "markdown",
      "metadata": {
        "id": "tGkaSFtoDRsm",
        "colab_type": "text"
      },
      "source": [
        "# Select and clean data\n"
      ]
    },
    {
      "cell_type": "code",
      "metadata": {
        "id": "_95_D3ywlrNh",
        "colab_type": "code",
        "colab": {}
      },
      "source": [
        "import warnings\n",
        "import numpy as np\n",
        "import pandas as pd\n",
        "import matplotlib as mpl\n",
        "import matplotlib.pyplot as plt\n",
        "from sklearn.feature_selection import chi2, VarianceThreshold\n",
        "import sklearn.linear_model\n",
        "\n",
        "#supressing warnings for readability\n",
        "warnings.filterwarnings(\"ignore\")\n",
        "\n",
        "# To plot pretty figures directly within Jupyter\n",
        "%matplotlib inline\n",
        "\n",
        "# choose your own style: https://matplotlib.org/3.1.0/gallery/style_sheets/style_sheets_reference.html\n",
        "plt.style.use('ggplot')\n",
        "\n",
        "# Go to town with https://matplotlib.org/tutorials/introductory/customizing.html\n",
        "# plt.rcParams.keys()\n",
        "mpl.rc('axes', labelsize=14, titlesize=14)\n",
        "mpl.rc('figure', titlesize=20)\n",
        "mpl.rc('xtick', labelsize=12)\n",
        "mpl.rc('ytick', labelsize=12)\n",
        "\n",
        "# contants for figsize\n",
        "S = (8,8)\n",
        "M = (12,12)\n",
        "L = (14,14)\n",
        "\n",
        "# pandas options\n",
        "pd.set_option(\"display.max.columns\", None)\n",
        "pd.set_option(\"display.max.rows\", None)\n",
        "pd.set_option(\"display.precision\", 2)\n",
        "\n",
        "# import data\n",
        "df = pd.read_parquet('https://github.com/dkapitan/jads-nhs-proms/blob/master/data/interim/knee-provider.parquet?raw=true')"
      ],
      "execution_count": 0,
      "outputs": []
    },
    {
      "cell_type": "code",
      "metadata": {
        "id": "Al9nCNK-5AEt",
        "colab_type": "code",
        "colab": {}
      },
      "source": [
        "# re-run relevant code from previous lecture\n",
        "# replace sentinel values with NA\n",
        "dfc = df.copy()\n",
        "dfc.loc[:,['t0_eq_vas', 't1_eq_vas']] = dfc.loc[:,['t0_eq_vas', 't1_eq_vas']].replace(999, np.nan).astype('Int64')\n",
        "_no9 = [col for col in df.columns if col.startswith('oks_t') and not col.endswith('score')]\n",
        "dfc.loc[:,_no9] = df.loc[:,_no9].replace(9, np.nan).astype('Int64')\n",
        "\n",
        "# add delta_oks_score and Y\n",
        "def good_outcome(oks_t1, delta_oks, abs_threshold=43, mcid=13):\n",
        "  if oks_t1 > abs_threshold or delta_oks > mcid:\n",
        "    return True\n",
        "  else:\n",
        "    return False\n",
        "\n",
        "\n",
        "dfc['delta_oks_score'] = dfc.oks_t1_score - dfc.oks_t0_score\n",
        "dfc['Y'] = dfc.apply(lambda row: good_outcome(row['oks_t1_score'], row['delta_oks_score']), axis=1)"
      ],
      "execution_count": 0,
      "outputs": []
    },
    {
      "cell_type": "markdown",
      "metadata": {
        "id": "115G1D1pKBGi",
        "colab_type": "text"
      },
      "source": [
        "## Clean X\n",
        "\n",
        "TO DO: `9` used as a sentinel value is almost all questions!"
      ]
    },
    {
      "cell_type": "code",
      "metadata": {
        "id": "70x0rdVMTVls",
        "colab_type": "code",
        "colab": {}
      },
      "source": [
        "# helper function to count all unique values for categorical data\n",
        "\n",
        "def count_values(df):\n",
        "  \"\"\" Count unique values in dataframe\"\"\"\n",
        "  \n",
        "  return pd.concat([df[col].value_counts().sort_values(ascending=False).head(10) for col in df.columns], axis=1).transpose()"
      ],
      "execution_count": 0,
      "outputs": []
    },
    {
      "cell_type": "markdown",
      "metadata": {
        "id": "dJDC2qMzPDf6",
        "colab_type": "text"
      },
      "source": [
        "### Encode boolean features"
      ]
    },
    {
      "cell_type": "code",
      "metadata": {
        "id": "sTqApjEpKElS",
        "colab_type": "code",
        "outputId": "ef10310f-9b27-4ee0-b86f-7decf5048adf",
        "colab": {
          "base_uri": "https://localhost:8080/",
          "height": 545
        }
      },
      "source": [
        "# encode casemix to boolean\n",
        "casemix = ['heart_disease', 'high_bp', 'stroke', 'circulation', 'lung_disease', 'diabetes',\n",
        "           'kidney_disease', 'nervous_system', 'liver_disease', 'cancer', 'depression', 'arthritis']\n",
        "boolean = ['t0_assisted', 't0_previous_surgery', 't0_disability']\n",
        "count_values(df[['gender'] + casemix + boolean])\n"
      ],
      "execution_count": 74,
      "outputs": [
        {
          "output_type": "execute_result",
          "data": {
            "text/html": [
              "<div>\n",
              "<style scoped>\n",
              "    .dataframe tbody tr th:only-of-type {\n",
              "        vertical-align: middle;\n",
              "    }\n",
              "\n",
              "    .dataframe tbody tr th {\n",
              "        vertical-align: top;\n",
              "    }\n",
              "\n",
              "    .dataframe thead th {\n",
              "        text-align: right;\n",
              "    }\n",
              "</style>\n",
              "<table border=\"1\" class=\"dataframe\">\n",
              "  <thead>\n",
              "    <tr style=\"text-align: right;\">\n",
              "      <th></th>\n",
              "      <th>1.0</th>\n",
              "      <th>2.0</th>\n",
              "      <th>9.0</th>\n",
              "    </tr>\n",
              "  </thead>\n",
              "  <tbody>\n",
              "    <tr>\n",
              "      <th>gender</th>\n",
              "      <td>55749.0</td>\n",
              "      <td>74085.0</td>\n",
              "      <td>NaN</td>\n",
              "    </tr>\n",
              "    <tr>\n",
              "      <th>heart_disease</th>\n",
              "      <td>13051.0</td>\n",
              "      <td>NaN</td>\n",
              "      <td>126185.0</td>\n",
              "    </tr>\n",
              "    <tr>\n",
              "      <th>high_bp</th>\n",
              "      <td>61570.0</td>\n",
              "      <td>NaN</td>\n",
              "      <td>77666.0</td>\n",
              "    </tr>\n",
              "    <tr>\n",
              "      <th>stroke</th>\n",
              "      <td>2303.0</td>\n",
              "      <td>NaN</td>\n",
              "      <td>136933.0</td>\n",
              "    </tr>\n",
              "    <tr>\n",
              "      <th>circulation</th>\n",
              "      <td>7882.0</td>\n",
              "      <td>NaN</td>\n",
              "      <td>131354.0</td>\n",
              "    </tr>\n",
              "    <tr>\n",
              "      <th>lung_disease</th>\n",
              "      <td>12779.0</td>\n",
              "      <td>NaN</td>\n",
              "      <td>126457.0</td>\n",
              "    </tr>\n",
              "    <tr>\n",
              "      <th>diabetes</th>\n",
              "      <td>17379.0</td>\n",
              "      <td>NaN</td>\n",
              "      <td>121857.0</td>\n",
              "    </tr>\n",
              "    <tr>\n",
              "      <th>kidney_disease</th>\n",
              "      <td>2856.0</td>\n",
              "      <td>NaN</td>\n",
              "      <td>136380.0</td>\n",
              "    </tr>\n",
              "    <tr>\n",
              "      <th>nervous_system</th>\n",
              "      <td>1422.0</td>\n",
              "      <td>NaN</td>\n",
              "      <td>137814.0</td>\n",
              "    </tr>\n",
              "    <tr>\n",
              "      <th>liver_disease</th>\n",
              "      <td>812.0</td>\n",
              "      <td>NaN</td>\n",
              "      <td>138424.0</td>\n",
              "    </tr>\n",
              "    <tr>\n",
              "      <th>cancer</th>\n",
              "      <td>7543.0</td>\n",
              "      <td>NaN</td>\n",
              "      <td>131693.0</td>\n",
              "    </tr>\n",
              "    <tr>\n",
              "      <th>depression</th>\n",
              "      <td>13031.0</td>\n",
              "      <td>NaN</td>\n",
              "      <td>126205.0</td>\n",
              "    </tr>\n",
              "    <tr>\n",
              "      <th>arthritis</th>\n",
              "      <td>107274.0</td>\n",
              "      <td>NaN</td>\n",
              "      <td>31962.0</td>\n",
              "    </tr>\n",
              "    <tr>\n",
              "      <th>t0_assisted</th>\n",
              "      <td>21318.0</td>\n",
              "      <td>116407.0</td>\n",
              "      <td>1511.0</td>\n",
              "    </tr>\n",
              "    <tr>\n",
              "      <th>t0_previous_surgery</th>\n",
              "      <td>10784.0</td>\n",
              "      <td>127410.0</td>\n",
              "      <td>1042.0</td>\n",
              "    </tr>\n",
              "    <tr>\n",
              "      <th>t0_disability</th>\n",
              "      <td>67456.0</td>\n",
              "      <td>65873.0</td>\n",
              "      <td>5907.0</td>\n",
              "    </tr>\n",
              "  </tbody>\n",
              "</table>\n",
              "</div>"
            ],
            "text/plain": [
              "                          1.0       2.0       9.0\n",
              "gender                55749.0   74085.0       NaN\n",
              "heart_disease         13051.0       NaN  126185.0\n",
              "high_bp               61570.0       NaN   77666.0\n",
              "stroke                 2303.0       NaN  136933.0\n",
              "circulation            7882.0       NaN  131354.0\n",
              "lung_disease          12779.0       NaN  126457.0\n",
              "diabetes              17379.0       NaN  121857.0\n",
              "kidney_disease         2856.0       NaN  136380.0\n",
              "nervous_system         1422.0       NaN  137814.0\n",
              "liver_disease           812.0       NaN  138424.0\n",
              "cancer                 7543.0       NaN  131693.0\n",
              "depression            13031.0       NaN  126205.0\n",
              "arthritis            107274.0       NaN   31962.0\n",
              "t0_assisted           21318.0  116407.0    1511.0\n",
              "t0_previous_surgery   10784.0  127410.0    1042.0\n",
              "t0_disability         67456.0   65873.0    5907.0"
            ]
          },
          "metadata": {
            "tags": []
          },
          "execution_count": 74
        }
      ]
    },
    {
      "cell_type": "code",
      "metadata": {
        "id": "JqZsF9f6NN-D",
        "colab_type": "code",
        "colab": {}
      },
      "source": [
        "# encode gender to boolean, males: False, females: True\n",
        "dfc.loc[:,'gender'] = dfc.loc[:,'gender'].replace({1: False, 2: True})\n",
        "\n",
        "# Need to decide NA strategy for booleans\n",
        "# dfc.loc[:, casemix] = dfc.loc[:, casemix].replace({9: False, 1: True})"
      ],
      "execution_count": 0,
      "outputs": []
    },
    {
      "cell_type": "code",
      "metadata": {
        "id": "6enz8ZYrVBa9",
        "colab_type": "code",
        "outputId": "e27e9204-b404-40fd-f026-7026484910f3",
        "colab": {
          "base_uri": "https://localhost:8080/",
          "height": 545
        }
      },
      "source": [
        ""
      ],
      "execution_count": 71,
      "outputs": [
        {
          "output_type": "execute_result",
          "data": {
            "text/html": [
              "<div>\n",
              "<style scoped>\n",
              "    .dataframe tbody tr th:only-of-type {\n",
              "        vertical-align: middle;\n",
              "    }\n",
              "\n",
              "    .dataframe tbody tr th {\n",
              "        vertical-align: top;\n",
              "    }\n",
              "\n",
              "    .dataframe thead th {\n",
              "        text-align: right;\n",
              "    }\n",
              "</style>\n",
              "<table border=\"1\" class=\"dataframe\">\n",
              "  <thead>\n",
              "    <tr style=\"text-align: right;\">\n",
              "      <th></th>\n",
              "      <th>1.0</th>\n",
              "      <th>2.0</th>\n",
              "      <th>9.0</th>\n",
              "    </tr>\n",
              "  </thead>\n",
              "  <tbody>\n",
              "    <tr>\n",
              "      <th>gender</th>\n",
              "      <td>55749.0</td>\n",
              "      <td>74085.0</td>\n",
              "      <td>NaN</td>\n",
              "    </tr>\n",
              "    <tr>\n",
              "      <th>heart_disease</th>\n",
              "      <td>13051.0</td>\n",
              "      <td>NaN</td>\n",
              "      <td>126185.0</td>\n",
              "    </tr>\n",
              "    <tr>\n",
              "      <th>high_bp</th>\n",
              "      <td>61570.0</td>\n",
              "      <td>NaN</td>\n",
              "      <td>77666.0</td>\n",
              "    </tr>\n",
              "    <tr>\n",
              "      <th>stroke</th>\n",
              "      <td>2303.0</td>\n",
              "      <td>NaN</td>\n",
              "      <td>136933.0</td>\n",
              "    </tr>\n",
              "    <tr>\n",
              "      <th>circulation</th>\n",
              "      <td>7882.0</td>\n",
              "      <td>NaN</td>\n",
              "      <td>131354.0</td>\n",
              "    </tr>\n",
              "    <tr>\n",
              "      <th>lung_disease</th>\n",
              "      <td>12779.0</td>\n",
              "      <td>NaN</td>\n",
              "      <td>126457.0</td>\n",
              "    </tr>\n",
              "    <tr>\n",
              "      <th>diabetes</th>\n",
              "      <td>17379.0</td>\n",
              "      <td>NaN</td>\n",
              "      <td>121857.0</td>\n",
              "    </tr>\n",
              "    <tr>\n",
              "      <th>kidney_disease</th>\n",
              "      <td>2856.0</td>\n",
              "      <td>NaN</td>\n",
              "      <td>136380.0</td>\n",
              "    </tr>\n",
              "    <tr>\n",
              "      <th>nervous_system</th>\n",
              "      <td>1422.0</td>\n",
              "      <td>NaN</td>\n",
              "      <td>137814.0</td>\n",
              "    </tr>\n",
              "    <tr>\n",
              "      <th>liver_disease</th>\n",
              "      <td>812.0</td>\n",
              "      <td>NaN</td>\n",
              "      <td>138424.0</td>\n",
              "    </tr>\n",
              "    <tr>\n",
              "      <th>cancer</th>\n",
              "      <td>7543.0</td>\n",
              "      <td>NaN</td>\n",
              "      <td>131693.0</td>\n",
              "    </tr>\n",
              "    <tr>\n",
              "      <th>depression</th>\n",
              "      <td>13031.0</td>\n",
              "      <td>NaN</td>\n",
              "      <td>126205.0</td>\n",
              "    </tr>\n",
              "    <tr>\n",
              "      <th>arthritis</th>\n",
              "      <td>107274.0</td>\n",
              "      <td>NaN</td>\n",
              "      <td>31962.0</td>\n",
              "    </tr>\n",
              "    <tr>\n",
              "      <th>t0_assisted</th>\n",
              "      <td>21318.0</td>\n",
              "      <td>116407.0</td>\n",
              "      <td>1511.0</td>\n",
              "    </tr>\n",
              "    <tr>\n",
              "      <th>t0_previous_surgery</th>\n",
              "      <td>10784.0</td>\n",
              "      <td>127410.0</td>\n",
              "      <td>1042.0</td>\n",
              "    </tr>\n",
              "    <tr>\n",
              "      <th>t0_disability</th>\n",
              "      <td>67456.0</td>\n",
              "      <td>65873.0</td>\n",
              "      <td>5907.0</td>\n",
              "    </tr>\n",
              "  </tbody>\n",
              "</table>\n",
              "</div>"
            ],
            "text/plain": [
              "                          1.0       2.0       9.0\n",
              "gender                55749.0   74085.0       NaN\n",
              "heart_disease         13051.0       NaN  126185.0\n",
              "high_bp               61570.0       NaN   77666.0\n",
              "stroke                 2303.0       NaN  136933.0\n",
              "circulation            7882.0       NaN  131354.0\n",
              "lung_disease          12779.0       NaN  126457.0\n",
              "diabetes              17379.0       NaN  121857.0\n",
              "kidney_disease         2856.0       NaN  136380.0\n",
              "nervous_system         1422.0       NaN  137814.0\n",
              "liver_disease           812.0       NaN  138424.0\n",
              "cancer                 7543.0       NaN  131693.0\n",
              "depression            13031.0       NaN  126205.0\n",
              "arthritis            107274.0       NaN   31962.0\n",
              "t0_assisted           21318.0  116407.0    1511.0\n",
              "t0_previous_surgery   10784.0  127410.0    1042.0\n",
              "t0_disability         67456.0   65873.0    5907.0"
            ]
          },
          "metadata": {
            "tags": []
          },
          "execution_count": 71
        }
      ]
    },
    {
      "cell_type": "code",
      "metadata": {
        "id": "wPb8o86eS2Jn",
        "colab_type": "code",
        "colab": {}
      },
      "source": [
        "# useless variables\n",
        "useless = ['t0_assisted_by', 't0_eq5d_index', 't0_eq5d_index_profile']\n"
      ],
      "execution_count": 0,
      "outputs": []
    },
    {
      "cell_type": "code",
      "metadata": {
        "id": "fJN333SXSYe0",
        "colab_type": "code",
        "outputId": "b23af3a8-dbfe-4829-eb36-e9c555dfc1db",
        "colab": {
          "base_uri": "https://localhost:8080/",
          "height": 85
        }
      },
      "source": [
        "pd.Series([True, False, np.nan])"
      ],
      "execution_count": 70,
      "outputs": [
        {
          "output_type": "execute_result",
          "data": {
            "text/plain": [
              "0     True\n",
              "1    False\n",
              "2      NaN\n",
              "dtype: object"
            ]
          },
          "metadata": {
            "tags": []
          },
          "execution_count": 70
        }
      ]
    },
    {
      "cell_type": "code",
      "metadata": {
        "id": "C2wVf9xstQTD",
        "colab_type": "code",
        "colab": {
          "base_uri": "https://localhost:8080/",
          "height": 425
        },
        "outputId": "a1f44b46-def6-4955-bf93-688a33529e8b"
      },
      "source": [
        "df.columns"
      ],
      "execution_count": 68,
      "outputs": [
        {
          "output_type": "execute_result",
          "data": {
            "text/plain": [
              "Index(['provider_code', 'procedure', 'revision_flag', 'year', 'age_band',\n",
              "       'gender', 't0_assisted', 't0_assisted_by', 't0_symptom_period',\n",
              "       't0_previous_surgery', 't0_living_arrangements', 't0_disability',\n",
              "       'heart_disease', 'high_bp', 'stroke', 'circulation', 'lung_disease',\n",
              "       'diabetes', 'kidney_disease', 'nervous_system', 'liver_disease',\n",
              "       'cancer', 'depression', 'arthritis', 't0_mobility', 't0_self_care',\n",
              "       't0_activity', 't0_discomfort', 't0_anxiety', 't0_eq5d_index_profile',\n",
              "       't0_eq5d_index', 't1_assisted', 't1_assisted_by',\n",
              "       't1_living_arrangements', 't1_disability', 't1_mobility',\n",
              "       't1_self_care', 't1_activity', 't1_discomfort', 't1_anxiety',\n",
              "       't1_satisfaction', 't1_sucess', 't1_allergy', 't1_bleeding', 't1_wound',\n",
              "       't1_urine', 't1_further_surgery', 't1_readmitted',\n",
              "       't1_eq5d_index_profile', 't1_eq5d_index',\n",
              "       'oks_eq_5d_index_t1_predicted', 't0_eq_vas', 't1_eq_vas',\n",
              "       'oks_eq_vas_t1_predicted', 'oks_t0_pain', 'oks_t0_night_pain',\n",
              "       'oks_t0_washing', 'oks_t0_transport', 'oks_t0_walking',\n",
              "       'oks_t0_standing', 'oks_t0_limping', 'oks_t0_kneeling', 'oks_t0_work',\n",
              "       'oks_t0_confidence', 'oks_t0_shopping', 'oks_t0_stairs', 'oks_t0_score',\n",
              "       'oks_t1_pain', 'oks_t1_night_pain', 'oks_t1_washing',\n",
              "       'oks_t1_transport', 'oks_t1_walking', 'oks_t1_standing',\n",
              "       'oks_t1_limping', 'oks_t1_kneeling', 'oks_t1_work', 'oks_t1_confidence',\n",
              "       'oks_t1_shopping', 'oks_t1_stairs', 'oks_t1_score',\n",
              "       'oks_oks_t1_predicted'],\n",
              "      dtype='object')"
            ]
          },
          "metadata": {
            "tags": []
          },
          "execution_count": 68
        }
      ]
    },
    {
      "cell_type": "code",
      "metadata": {
        "id": "HvIZSHEHL8zq",
        "colab_type": "code",
        "colab": {}
      },
      "source": [
        "# helper function for counting boolean attribues\n",
        "def count_all(series):\n",
        "    '''\n",
        "    Returns absolute and normalized value counts of pd.series as a dataframe with \n",
        "    index = series.name\n",
        "    columns with absolute and normalized counts of each value\n",
        "    '''\n",
        "    try:\n",
        "        count = series.value_counts().to_frame().transpose()\n",
        "        norm = series.value_counts(normalize=True).to_frame().transpose()\n",
        "        return count.join(norm, lsuffix='_count', rsuffix='_normalized') \n",
        "    except:\n",
        "        print('Error: expecting a pandas.Series object as input. \\n' + count_all.__doc__)\n",
        "        return None\n",
        "        "
      ],
      "execution_count": 0,
      "outputs": []
    },
    {
      "cell_type": "markdown",
      "metadata": {
        "id": "hbU4Xy1aNeXd",
        "colab_type": "text"
      },
      "source": [
        "### Python skill: using list comprehensions\n",
        "\n",
        "There are three ways to work with lists in Python:\n",
        "1. with `for` loops\n",
        "2. using `map` (map-reduce pattern)\n",
        "3. using list comprehensions\n",
        "\n",
        "The third option finds its roots in functional programming and is considered the most Pythonic. It is particularly useful for data science."
      ]
    },
    {
      "cell_type": "code",
      "metadata": {
        "id": "85xyJh6CNdpY",
        "colab_type": "code",
        "outputId": "3863806d-30bb-47e4-a1ed-6be665579f4a",
        "colab": {
          "base_uri": "https://localhost:8080/",
          "height": 421
        }
      },
      "source": [
        "tbl_casemix = pd.concat([count_all(dfc.loc[:, feature]) for feature in casemix], sort=True)\n",
        "tbl_casemix.round(2).sort_values('True_normalized', ascending=False)"
      ],
      "execution_count": 65,
      "outputs": [
        {
          "output_type": "execute_result",
          "data": {
            "text/html": [
              "<div>\n",
              "<style scoped>\n",
              "    .dataframe tbody tr th:only-of-type {\n",
              "        vertical-align: middle;\n",
              "    }\n",
              "\n",
              "    .dataframe tbody tr th {\n",
              "        vertical-align: top;\n",
              "    }\n",
              "\n",
              "    .dataframe thead th {\n",
              "        text-align: right;\n",
              "    }\n",
              "</style>\n",
              "<table border=\"1\" class=\"dataframe\">\n",
              "  <thead>\n",
              "    <tr style=\"text-align: right;\">\n",
              "      <th></th>\n",
              "      <th>False_count</th>\n",
              "      <th>False_normalized</th>\n",
              "      <th>True_count</th>\n",
              "      <th>True_normalized</th>\n",
              "    </tr>\n",
              "  </thead>\n",
              "  <tbody>\n",
              "    <tr>\n",
              "      <th>arthritis</th>\n",
              "      <td>31962</td>\n",
              "      <td>0.23</td>\n",
              "      <td>107274</td>\n",
              "      <td>0.77</td>\n",
              "    </tr>\n",
              "    <tr>\n",
              "      <th>high_bp</th>\n",
              "      <td>77666</td>\n",
              "      <td>0.56</td>\n",
              "      <td>61570</td>\n",
              "      <td>0.44</td>\n",
              "    </tr>\n",
              "    <tr>\n",
              "      <th>diabetes</th>\n",
              "      <td>121857</td>\n",
              "      <td>0.88</td>\n",
              "      <td>17379</td>\n",
              "      <td>0.12</td>\n",
              "    </tr>\n",
              "    <tr>\n",
              "      <th>heart_disease</th>\n",
              "      <td>126185</td>\n",
              "      <td>0.91</td>\n",
              "      <td>13051</td>\n",
              "      <td>0.09</td>\n",
              "    </tr>\n",
              "    <tr>\n",
              "      <th>lung_disease</th>\n",
              "      <td>126457</td>\n",
              "      <td>0.91</td>\n",
              "      <td>12779</td>\n",
              "      <td>0.09</td>\n",
              "    </tr>\n",
              "    <tr>\n",
              "      <th>depression</th>\n",
              "      <td>126205</td>\n",
              "      <td>0.91</td>\n",
              "      <td>13031</td>\n",
              "      <td>0.09</td>\n",
              "    </tr>\n",
              "    <tr>\n",
              "      <th>circulation</th>\n",
              "      <td>131354</td>\n",
              "      <td>0.94</td>\n",
              "      <td>7882</td>\n",
              "      <td>0.06</td>\n",
              "    </tr>\n",
              "    <tr>\n",
              "      <th>cancer</th>\n",
              "      <td>131693</td>\n",
              "      <td>0.95</td>\n",
              "      <td>7543</td>\n",
              "      <td>0.05</td>\n",
              "    </tr>\n",
              "    <tr>\n",
              "      <th>stroke</th>\n",
              "      <td>136933</td>\n",
              "      <td>0.98</td>\n",
              "      <td>2303</td>\n",
              "      <td>0.02</td>\n",
              "    </tr>\n",
              "    <tr>\n",
              "      <th>kidney_disease</th>\n",
              "      <td>136380</td>\n",
              "      <td>0.98</td>\n",
              "      <td>2856</td>\n",
              "      <td>0.02</td>\n",
              "    </tr>\n",
              "    <tr>\n",
              "      <th>nervous_system</th>\n",
              "      <td>137814</td>\n",
              "      <td>0.99</td>\n",
              "      <td>1422</td>\n",
              "      <td>0.01</td>\n",
              "    </tr>\n",
              "    <tr>\n",
              "      <th>liver_disease</th>\n",
              "      <td>138424</td>\n",
              "      <td>0.99</td>\n",
              "      <td>812</td>\n",
              "      <td>0.01</td>\n",
              "    </tr>\n",
              "  </tbody>\n",
              "</table>\n",
              "</div>"
            ],
            "text/plain": [
              "                False_count  False_normalized  True_count  True_normalized\n",
              "arthritis             31962              0.23      107274             0.77\n",
              "high_bp               77666              0.56       61570             0.44\n",
              "diabetes             121857              0.88       17379             0.12\n",
              "heart_disease        126185              0.91       13051             0.09\n",
              "lung_disease         126457              0.91       12779             0.09\n",
              "depression           126205              0.91       13031             0.09\n",
              "circulation          131354              0.94        7882             0.06\n",
              "cancer               131693              0.95        7543             0.05\n",
              "stroke               136933              0.98        2303             0.02\n",
              "kidney_disease       136380              0.98        2856             0.02\n",
              "nervous_system       137814              0.99        1422             0.01\n",
              "liver_disease        138424              0.99         812             0.01"
            ]
          },
          "metadata": {
            "tags": []
          },
          "execution_count": 65
        }
      ]
    },
    {
      "cell_type": "markdown",
      "metadata": {
        "id": "uwZprioyQd0s",
        "colab_type": "text"
      },
      "source": [
        "### Encode categorical features"
      ]
    },
    {
      "cell_type": "code",
      "metadata": {
        "id": "kVbqUsbHQ_-J",
        "colab_type": "code",
        "outputId": "715089f8-48ec-4059-e182-de4cd2ccf11b",
        "colab": {
          "base_uri": "https://localhost:8080/",
          "height": 204
        }
      },
      "source": [
        "eq5d = ['t0_mobility', 't0_self_care', 't0_activity', 't0_discomfort', 't0_anxiety']\n",
        "categorical = ['provider_code', 'age_band', 't0_symptom_period', 't0_previous_surgery', 't0_living_arrangements']\n",
        "dfc[categorical].head()"
      ],
      "execution_count": 69,
      "outputs": [
        {
          "output_type": "execute_result",
          "data": {
            "text/html": [
              "<div>\n",
              "<style scoped>\n",
              "    .dataframe tbody tr th:only-of-type {\n",
              "        vertical-align: middle;\n",
              "    }\n",
              "\n",
              "    .dataframe tbody tr th {\n",
              "        vertical-align: top;\n",
              "    }\n",
              "\n",
              "    .dataframe thead th {\n",
              "        text-align: right;\n",
              "    }\n",
              "</style>\n",
              "<table border=\"1\" class=\"dataframe\">\n",
              "  <thead>\n",
              "    <tr style=\"text-align: right;\">\n",
              "      <th></th>\n",
              "      <th>provider_code</th>\n",
              "      <th>age_band</th>\n",
              "      <th>t0_symptom_period</th>\n",
              "      <th>t0_previous_surgery</th>\n",
              "      <th>t0_living_arrangements</th>\n",
              "    </tr>\n",
              "  </thead>\n",
              "  <tbody>\n",
              "    <tr>\n",
              "      <th>0</th>\n",
              "      <td>ADP02</td>\n",
              "      <td>None</td>\n",
              "      <td>2</td>\n",
              "      <td>2</td>\n",
              "      <td>2</td>\n",
              "    </tr>\n",
              "    <tr>\n",
              "      <th>1</th>\n",
              "      <td>ADP02</td>\n",
              "      <td>None</td>\n",
              "      <td>2</td>\n",
              "      <td>2</td>\n",
              "      <td>2</td>\n",
              "    </tr>\n",
              "    <tr>\n",
              "      <th>2</th>\n",
              "      <td>ADP02</td>\n",
              "      <td>None</td>\n",
              "      <td>2</td>\n",
              "      <td>2</td>\n",
              "      <td>1</td>\n",
              "    </tr>\n",
              "    <tr>\n",
              "      <th>3</th>\n",
              "      <td>ADP02</td>\n",
              "      <td>None</td>\n",
              "      <td>2</td>\n",
              "      <td>2</td>\n",
              "      <td>2</td>\n",
              "    </tr>\n",
              "    <tr>\n",
              "      <th>4</th>\n",
              "      <td>ADP02</td>\n",
              "      <td>None</td>\n",
              "      <td>3</td>\n",
              "      <td>2</td>\n",
              "      <td>2</td>\n",
              "    </tr>\n",
              "  </tbody>\n",
              "</table>\n",
              "</div>"
            ],
            "text/plain": [
              "  provider_code age_band  t0_symptom_period  t0_previous_surgery  \\\n",
              "0         ADP02     None                  2                    2   \n",
              "1         ADP02     None                  2                    2   \n",
              "2         ADP02     None                  2                    2   \n",
              "3         ADP02     None                  2                    2   \n",
              "4         ADP02     None                  3                    2   \n",
              "\n",
              "   t0_living_arrangements  \n",
              "0                       2  \n",
              "1                       2  \n",
              "2                       1  \n",
              "3                       2  \n",
              "4                       2  "
            ]
          },
          "metadata": {
            "tags": []
          },
          "execution_count": 69
        }
      ]
    },
    {
      "cell_type": "markdown",
      "metadata": {
        "id": "nfwQn62bFc8O",
        "colab_type": "text"
      },
      "source": [
        "## Impute missing values"
      ]
    },
    {
      "cell_type": "code",
      "metadata": {
        "id": "RnK1F_reJdb-",
        "colab_type": "code",
        "colab": {}
      },
      "source": [
        "from sklearn.impute import SimpleImputer\n",
        "\n",
        "\n",
        "\n",
        "imputer = SimpleImputer(strategy=\"median\")"
      ],
      "execution_count": 0,
      "outputs": []
    },
    {
      "cell_type": "markdown",
      "metadata": {
        "id": "Hk2ih7gEjMMW",
        "colab_type": "text"
      },
      "source": [
        "## Discussion\n",
        "\n",
        "### **Question:** what are relevant considerations to handle NAs?\n",
        "- imputation with mean/median?\n",
        "- just drop all?\n",
        "\n",
        "### **Question:** what would you choose as the primary outcome Y?"
      ]
    },
    {
      "cell_type": "markdown",
      "metadata": {
        "id": "UXRVdLXMUrCy",
        "colab_type": "text"
      },
      "source": [
        "# Conclusion and reflection"
      ]
    },
    {
      "cell_type": "markdown",
      "metadata": {
        "id": "uhtn2ycxX-KV",
        "colab_type": "text"
      },
      "source": [
        "## Discussion of results\n",
        "\n",
        "* ...\n",
        "* ..."
      ]
    },
    {
      "cell_type": "markdown",
      "metadata": {
        "id": "EyYH6A2yUwy3",
        "colab_type": "text"
      },
      "source": [
        "\n",
        "## Checklist for results from data preparation process\n",
        "* ...\n",
        "* ...\n"
      ]
    },
    {
      "cell_type": "code",
      "metadata": {
        "id": "f1ZMFwIb3R40",
        "colab_type": "code",
        "colab": {}
      },
      "source": [
        ""
      ],
      "execution_count": 0,
      "outputs": []
    }
  ]
}
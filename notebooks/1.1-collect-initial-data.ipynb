{
 "cells": [
  {
   "cell_type": "markdown",
   "metadata": {
    "colab_type": "text",
    "id": "view-in-github"
   },
   "source": [
    "<a href=\"https://colab.research.google.com/github/jads-nl/execute-nhs-proms/blob/master/notebooks/1.1-collect-initial-data.ipynb\" target=\"_parent\"><img src=\"https://colab.research.google.com/assets/colab-badge.svg\" alt=\"Open In Colab\"/></a>"
   ]
  },
  {
   "cell_type": "markdown",
   "metadata": {
    "colab_type": "text",
    "id": "Ezut5pDim-JZ"
   },
   "source": [
    "# 1.1 - Collect initial data\n",
    "\n",
    "## Background\n",
    "Read up on the documentation of the NHS PROMs data to prepare for this lesson:\n",
    "- [PROMs Guide](https://github.com/jads-nl/execute-nhs-proms-hko/blob/master/references/nhs/proms_guide_v12.pdf?raw=true)\n",
    "- [Data Dictionairy](https://github.com/jads-nl/execute-nhs-proms-hko/blob/master/references/nhs/proms_data_dictionary.pdf?raw=true?)\n",
    "\n",
    "## Objectives\n",
    "- How to collect data?\n",
    "- How to handle missing values?\n",
    "- How to manage memory usage?\n",
    "- How to rename columns and variables?\n",
    "\n",
    "## Python skills\n",
    "- Use `request` library to download files from the internet\n",
    "- Use `zipfile` to work with zipfiles\n",
    "- Know difference between getting a `bytes`, `string` and a `file` object for reading and writing data\n",
    "- How to do string manipulation for replacing columns names\n",
    "    - How to use [`toolz.functoolz.compose`](https://toolz.readthedocs.io/en/latest/api.html#toolz.functoolz.compose) to compose functions to operate in series\n",
    "- How to use pandas:\n",
    "    - for combining downloaded data into one dataframe: [`pd.concat`](https://pandas.pydata.org/pandas-docs/stable/reference/api/pandas.concat.html)\n",
    "    - do some memory optimization: [`df.select_dtypes`](https://pandas.pydata.org/pandas-docs/stable/reference/api/pandas.DataFrame.select_dtypes.html), [`df.astype`](https://pandas.pydata.org/pandas-docs/stable/reference/api/pandas.DataFrame.astype.html), [`pd.to_numeric`](https://pandas.pydata.org/pandas-docs/stable/reference/api/pandas.to_numeric.html)\n",
    "    - use [`df.rename`](https://pandas.pydata.org/pandas-docs/stable/reference/api/pandas.DataFrame.rename.html) for renaming"
   ]
  },
  {
   "cell_type": "code",
   "execution_count": 3,
   "metadata": {
    "colab": {},
    "colab_type": "code",
    "id": "SNElYlTTm-Jc"
   },
   "outputs": [
    {
     "output_type": "error",
     "ename": "ModuleNotFoundError",
     "evalue": "No module named 'requests'",
     "traceback": [
      "\u001b[0;31m---------------------------------------------------------------------------\u001b[0m",
      "\u001b[0;31mModuleNotFoundError\u001b[0m                       Traceback (most recent call last)",
      "\u001b[0;32m<ipython-input-3-5c695d054516>\u001b[0m in \u001b[0;36m<module>\u001b[0;34m\u001b[0m\n\u001b[1;32m      1\u001b[0m \u001b[0;32mfrom\u001b[0m \u001b[0mio\u001b[0m \u001b[0;32mimport\u001b[0m \u001b[0mBytesIO\u001b[0m\u001b[0;34m\u001b[0m\u001b[0;34m\u001b[0m\u001b[0m\n\u001b[0;32m----> 2\u001b[0;31m \u001b[0;32mimport\u001b[0m \u001b[0mrequests\u001b[0m\u001b[0;34m\u001b[0m\u001b[0;34m\u001b[0m\u001b[0m\n\u001b[0m\u001b[1;32m      3\u001b[0m \u001b[0;32mimport\u001b[0m \u001b[0mre\u001b[0m\u001b[0;34m\u001b[0m\u001b[0;34m\u001b[0m\u001b[0m\n\u001b[1;32m      4\u001b[0m \u001b[0;32mfrom\u001b[0m \u001b[0mzipfile\u001b[0m \u001b[0;32mimport\u001b[0m \u001b[0mZipFile\u001b[0m\u001b[0;34m\u001b[0m\u001b[0;34m\u001b[0m\u001b[0m\n\u001b[1;32m      5\u001b[0m \u001b[0;32mimport\u001b[0m \u001b[0mpandas\u001b[0m \u001b[0;32mas\u001b[0m \u001b[0mpd\u001b[0m\u001b[0;34m\u001b[0m\u001b[0;34m\u001b[0m\u001b[0m\n",
      "\u001b[0;31mModuleNotFoundError\u001b[0m: No module named 'requests'"
     ]
    }
   ],
   "source": [
    "from io import BytesIO\n",
    "import requests\n",
    "import re\n",
    "from zipfile import ZipFile\n",
    "import pandas as pd\n",
    "from toolz.functoolz import compose\n",
    "\n",
    "\n",
    "CONDITION = 'Knee'\n",
    "ORG = 'Provider'\n",
    "\n",
    "def get_zipped_data_urls(condition, org):\n",
    "    \"\"\"\n",
    "    Get zipped datafiles for 3 years for condition and org\n",
    "    \n",
    "    condition: choice of ['Knee', 'Hip']\n",
    "    org: choice of ['Provider', 'CCG']\n",
    "    \"\"\"\n",
    "\n",
    "    assert condition in ['Knee', 'Hip'], 'Condition is one of [\"Knee\", \"Hip\"]'\n",
    "    assert org in ['Provider', 'CCG'], 'Condition is one of [\"Provider\", \"CCG\"]'\n",
    "    return [\n",
    "        f'https://github.com/jads-nl/execute-nhs-proms-hko/blob/master/data/external/data-pack-2018-19/{condition}%20Replacement%20{org}%201819.csv.zip?raw=true',\n",
    "        f'https://github.com/jads-nl/execute-nhs-proms-hko/blob/master/data/external/data-pack-2017-18/{condition}%20Replacements%20{org}%201718.csv.zip?raw=true',\n",
    "        f'https://github.com/jads-nl/execute-nhs-proms-hko/blob/master/data/external/data-pack-2016-17/{condition}%20Replacement%20{org}%201617.csv.zip?raw=true',\n",
    "    ]\n",
    "\n",
    "def clean_python_name(s):\n",
    "    \"\"\"\n",
    "    https://gist.github.com/dkapitan/89ff20eeed38e6d9757fef9e09e23c3d\n",
    "    Method to convert string to clean string for use\n",
    "    in dataframe column names such :\n",
    "        i) it complies to python 2.x object name standard:\n",
    "           (letter|'_')(letter|digit|'_')\n",
    "        ii) my preference to use lowercase and adhere\n",
    "            to practice of case-insensitive column names for data\n",
    "    Based on\n",
    "    https://stackoverflow.com/questions/3303312/how-do-i-convert-a-string-to-a-valid-variable-name-in-python\n",
    "    \"\"\"\n",
    "    import re\n",
    "\n",
    "    # Remove leading characters until we find a letter or underscore, and remove trailing spaces\n",
    "    s = re.sub('^[^a-zA-Z_]+', '', s.strip())\n",
    "\n",
    "    # Replace invalid characters with underscores\n",
    "    s = re.sub('[^0-9a-zA-Z_]', '_', s)\n",
    "\n",
    "    return s.lower()"
   ]
  },
  {
   "cell_type": "code",
   "execution_count": 2,
   "metadata": {
    "colab": {},
    "colab_type": "code",
    "id": "w_qcyzmZm-Jf",
    "outputId": "0fdfab2d-2503-41f3-ba91-73fc654f729b"
   },
   "outputs": [
    {
     "data": {
      "text/html": [
       "<div>\n",
       "<style scoped>\n",
       "    .dataframe tbody tr th:only-of-type {\n",
       "        vertical-align: middle;\n",
       "    }\n",
       "\n",
       "    .dataframe tbody tr th {\n",
       "        vertical-align: top;\n",
       "    }\n",
       "\n",
       "    .dataframe thead th {\n",
       "        text-align: right;\n",
       "    }\n",
       "</style>\n",
       "<table border=\"1\" class=\"dataframe\">\n",
       "  <thead>\n",
       "    <tr style=\"text-align: right;\">\n",
       "      <th></th>\n",
       "      <th>Provider Code</th>\n",
       "      <th>Procedure</th>\n",
       "      <th>Revision Flag</th>\n",
       "      <th>Year</th>\n",
       "      <th>Age Band</th>\n",
       "      <th>Gender</th>\n",
       "      <th>Pre-Op Q Assisted</th>\n",
       "      <th>Pre-Op Q Assisted By</th>\n",
       "      <th>Pre-Op Q Symptom Period</th>\n",
       "      <th>Pre-Op Q Previous Surgery</th>\n",
       "      <th>...</th>\n",
       "      <th>Knee Replacement Post-Op Q Walking</th>\n",
       "      <th>Knee Replacement Post-Op Q Standing</th>\n",
       "      <th>Knee Replacement Post-Op Q Limping</th>\n",
       "      <th>Knee Replacement Post-Op Q Kneeling</th>\n",
       "      <th>Knee Replacement Post-Op Q Work</th>\n",
       "      <th>Knee Replacement Post-Op Q Confidence</th>\n",
       "      <th>Knee Replacement Post-Op Q Shopping</th>\n",
       "      <th>Knee Replacement Post-Op Q Stairs</th>\n",
       "      <th>Knee Replacement Post-Op Q Score</th>\n",
       "      <th>Knee Replacement OKS Post-Op Q Predicted</th>\n",
       "    </tr>\n",
       "  </thead>\n",
       "  <tbody>\n",
       "    <tr>\n",
       "      <th>0</th>\n",
       "      <td>00C</td>\n",
       "      <td>Knee Replacement</td>\n",
       "      <td>0</td>\n",
       "      <td>2018/19</td>\n",
       "      <td>NaN</td>\n",
       "      <td>NaN</td>\n",
       "      <td>1</td>\n",
       "      <td>0</td>\n",
       "      <td>2</td>\n",
       "      <td>2</td>\n",
       "      <td>...</td>\n",
       "      <td>4</td>\n",
       "      <td>3</td>\n",
       "      <td>4</td>\n",
       "      <td>4</td>\n",
       "      <td>4</td>\n",
       "      <td>4</td>\n",
       "      <td>4</td>\n",
       "      <td>2</td>\n",
       "      <td>43.0</td>\n",
       "      <td>35.133457</td>\n",
       "    </tr>\n",
       "    <tr>\n",
       "      <th>1</th>\n",
       "      <td>00C</td>\n",
       "      <td>Knee Replacement</td>\n",
       "      <td>0</td>\n",
       "      <td>2018/19</td>\n",
       "      <td>NaN</td>\n",
       "      <td>NaN</td>\n",
       "      <td>1</td>\n",
       "      <td>0</td>\n",
       "      <td>2</td>\n",
       "      <td>2</td>\n",
       "      <td>...</td>\n",
       "      <td>3</td>\n",
       "      <td>2</td>\n",
       "      <td>3</td>\n",
       "      <td>1</td>\n",
       "      <td>2</td>\n",
       "      <td>3</td>\n",
       "      <td>2</td>\n",
       "      <td>3</td>\n",
       "      <td>29.0</td>\n",
       "      <td>26.031412</td>\n",
       "    </tr>\n",
       "    <tr>\n",
       "      <th>2</th>\n",
       "      <td>00C</td>\n",
       "      <td>Knee Replacement</td>\n",
       "      <td>0</td>\n",
       "      <td>2018/19</td>\n",
       "      <td>NaN</td>\n",
       "      <td>NaN</td>\n",
       "      <td>2</td>\n",
       "      <td>0</td>\n",
       "      <td>4</td>\n",
       "      <td>2</td>\n",
       "      <td>...</td>\n",
       "      <td>2</td>\n",
       "      <td>2</td>\n",
       "      <td>1</td>\n",
       "      <td>0</td>\n",
       "      <td>2</td>\n",
       "      <td>2</td>\n",
       "      <td>0</td>\n",
       "      <td>2</td>\n",
       "      <td>16.0</td>\n",
       "      <td>26.818595</td>\n",
       "    </tr>\n",
       "    <tr>\n",
       "      <th>3</th>\n",
       "      <td>00C</td>\n",
       "      <td>Knee Replacement</td>\n",
       "      <td>0</td>\n",
       "      <td>2018/19</td>\n",
       "      <td>NaN</td>\n",
       "      <td>NaN</td>\n",
       "      <td>2</td>\n",
       "      <td>0</td>\n",
       "      <td>2</td>\n",
       "      <td>2</td>\n",
       "      <td>...</td>\n",
       "      <td>4</td>\n",
       "      <td>3</td>\n",
       "      <td>1</td>\n",
       "      <td>1</td>\n",
       "      <td>3</td>\n",
       "      <td>4</td>\n",
       "      <td>3</td>\n",
       "      <td>3</td>\n",
       "      <td>37.0</td>\n",
       "      <td>33.841701</td>\n",
       "    </tr>\n",
       "    <tr>\n",
       "      <th>4</th>\n",
       "      <td>00C</td>\n",
       "      <td>Knee Replacement</td>\n",
       "      <td>0</td>\n",
       "      <td>2018/19</td>\n",
       "      <td>NaN</td>\n",
       "      <td>NaN</td>\n",
       "      <td>2</td>\n",
       "      <td>0</td>\n",
       "      <td>1</td>\n",
       "      <td>1</td>\n",
       "      <td>...</td>\n",
       "      <td>4</td>\n",
       "      <td>4</td>\n",
       "      <td>4</td>\n",
       "      <td>3</td>\n",
       "      <td>4</td>\n",
       "      <td>4</td>\n",
       "      <td>4</td>\n",
       "      <td>4</td>\n",
       "      <td>47.0</td>\n",
       "      <td>38.841248</td>\n",
       "    </tr>\n",
       "  </tbody>\n",
       "</table>\n",
       "<p>5 rows × 81 columns</p>\n",
       "</div>"
      ],
      "text/plain": [
       "  Provider Code         Procedure  Revision Flag     Year Age Band  Gender  \\\n",
       "0           00C  Knee Replacement              0  2018/19      NaN     NaN   \n",
       "1           00C  Knee Replacement              0  2018/19      NaN     NaN   \n",
       "2           00C  Knee Replacement              0  2018/19      NaN     NaN   \n",
       "3           00C  Knee Replacement              0  2018/19      NaN     NaN   \n",
       "4           00C  Knee Replacement              0  2018/19      NaN     NaN   \n",
       "\n",
       "   Pre-Op Q Assisted  Pre-Op Q Assisted By  Pre-Op Q Symptom Period  \\\n",
       "0                  1                     0                        2   \n",
       "1                  1                     0                        2   \n",
       "2                  2                     0                        4   \n",
       "3                  2                     0                        2   \n",
       "4                  2                     0                        1   \n",
       "\n",
       "   Pre-Op Q Previous Surgery  ...  Knee Replacement Post-Op Q Walking  \\\n",
       "0                          2  ...                                   4   \n",
       "1                          2  ...                                   3   \n",
       "2                          2  ...                                   2   \n",
       "3                          2  ...                                   4   \n",
       "4                          1  ...                                   4   \n",
       "\n",
       "   Knee Replacement Post-Op Q Standing  Knee Replacement Post-Op Q Limping  \\\n",
       "0                                    3                                   4   \n",
       "1                                    2                                   3   \n",
       "2                                    2                                   1   \n",
       "3                                    3                                   1   \n",
       "4                                    4                                   4   \n",
       "\n",
       "   Knee Replacement Post-Op Q Kneeling  Knee Replacement Post-Op Q Work  \\\n",
       "0                                    4                                4   \n",
       "1                                    1                                2   \n",
       "2                                    0                                2   \n",
       "3                                    1                                3   \n",
       "4                                    3                                4   \n",
       "\n",
       "   Knee Replacement Post-Op Q Confidence  Knee Replacement Post-Op Q Shopping  \\\n",
       "0                                      4                                    4   \n",
       "1                                      3                                    2   \n",
       "2                                      2                                    0   \n",
       "3                                      4                                    3   \n",
       "4                                      4                                    4   \n",
       "\n",
       "   Knee Replacement Post-Op Q Stairs  Knee Replacement Post-Op Q Score  \\\n",
       "0                                  2                              43.0   \n",
       "1                                  3                              29.0   \n",
       "2                                  2                              16.0   \n",
       "3                                  3                              37.0   \n",
       "4                                  4                              47.0   \n",
       "\n",
       "   Knee Replacement OKS Post-Op Q Predicted  \n",
       "0                                 35.133457  \n",
       "1                                 26.031412  \n",
       "2                                 26.818595  \n",
       "3                                 33.841701  \n",
       "4                                 38.841248  \n",
       "\n",
       "[5 rows x 81 columns]"
      ]
     },
     "execution_count": 2,
     "metadata": {},
     "output_type": "execute_result"
    }
   ],
   "source": [
    "# exmample: getting a single file\n",
    "urls = get_zipped_data_urls(CONDITION, ORG)\n",
    "get_ = requests.get(urls[0])\n",
    "with ZipFile(BytesIO(get_.content)) as zipfile:\n",
    "  # print(file_.namelist())\n",
    "    df_ = pd.read_csv(zipfile.open(zipfile.namelist()[0]),\n",
    "                    na_values=['*'])\n",
    "df_.head()"
   ]
  },
  {
   "cell_type": "code",
   "execution_count": 3,
   "metadata": {
    "colab": {},
    "colab_type": "code",
    "id": "OjTHBmKTm-Jk"
   },
   "outputs": [],
   "source": [
    "# assignment: write a loop to get all files\n",
    "dfs = []\n",
    "for url in get_zipped_data_urls(CONDITION, ORG):\n",
    "    get_ = requests.get(url)\n",
    "    with ZipFile(BytesIO(get_.content)) as zipfile:\n",
    "        dfs.append(\n",
    "            pd.read_csv(zipfile.open(zipfile.namelist()[0]), na_values=['*']))\n",
    "df = pd.concat(dfs)\n",
    "\n",
    "# reset index since we have duplicate integer indexes from different years\n",
    "df.reset_index(drop=True, inplace=True)"
   ]
  },
  {
   "cell_type": "code",
   "execution_count": 4,
   "metadata": {
    "colab": {},
    "colab_type": "code",
    "id": "NSPWLDvym-Jn",
    "outputId": "5e659061-abb4-4516-9ec8-4eda0efec0ec"
   },
   "outputs": [
    {
     "data": {
      "text/plain": [
       "array(['2018/19', '2017/18', '2016/17'], dtype=object)"
      ]
     },
     "execution_count": 4,
     "metadata": {},
     "output_type": "execute_result"
    }
   ],
   "source": [
    "# check we have 3 years of data\n",
    "df['Year'].unique()"
   ]
  },
  {
   "cell_type": "code",
   "execution_count": 5,
   "metadata": {
    "colab": {},
    "colab_type": "code",
    "id": "vh2k-WEDm-Jq",
    "outputId": "1685f06c-4a86-4300-99d2-35979ab01606"
   },
   "outputs": [
    {
     "name": "stdout",
     "output_type": "stream",
     "text": [
      "<class 'pandas.core.frame.DataFrame'>\n",
      "RangeIndex: 136390 entries, 0 to 136389\n",
      "Columns: 81 entries, Provider Code to Knee Replacement OKS Post-Op Q Predicted\n",
      "dtypes: float64(8), int64(69), object(4)\n",
      "memory usage: 84.3+ MB\n"
     ]
    }
   ],
   "source": [
    "# inspect memory usage: orignal is 85.3 MB\n",
    "df.info(verbose=False)"
   ]
  },
  {
   "cell_type": "code",
   "execution_count": 6,
   "metadata": {
    "colab": {},
    "colab_type": "code",
    "id": "RxvLaxRHm-Js",
    "outputId": "9026d70b-b8f0-4802-963f-db2cadf16c43"
   },
   "outputs": [
    {
     "name": "stdout",
     "output_type": "stream",
     "text": [
      "<class 'pandas.core.frame.DataFrame'>\n",
      "RangeIndex: 136390 entries, 0 to 136389\n",
      "Columns: 81 entries, Provider Code to Knee Replacement OKS Post-Op Q Predicted\n",
      "dtypes: category(4), float32(8), uint16(2), uint32(2), uint8(65)\n",
      "memory usage: 14.8 MB\n"
     ]
    }
   ],
   "source": [
    "# reduce memory: strings to categories\n",
    "# see: https://pandas.pydata.org/pandas-docs/stable/reference/api/pandas.DataFrame.select_dtypes.html\n",
    "# see: https://pandas.pydata.org/pandas-docs/stable/reference/api/pandas.DataFrame.astype.html\n",
    "for col in df.select_dtypes(include='object').columns:\n",
    "    df[col] = df[col].astype('category')\n",
    "    \n",
    "# int64 to smallest, unsigned int\n",
    "for col in df.select_dtypes(include='int64').columns:\n",
    "    df[col] = pd.to_numeric(df[col], downcast='unsigned')\n",
    "    \n",
    "# float64 to smallest, unsigned int\n",
    "for col in df.select_dtypes(include='float64').columns:\n",
    "    df[col] = pd.to_numeric(df[col], downcast='float')\n",
    "    \n",
    "# memory footprint now less than a fifth: 16 MB\n",
    "df.info(verbose=False)"
   ]
  },
  {
   "cell_type": "code",
   "execution_count": 7,
   "metadata": {
    "colab": {},
    "colab_type": "code",
    "id": "AP4Q0pF9m-Jw",
    "outputId": "45c476d0-6744-4285-c62a-d563c68d792e"
   },
   "outputs": [
    {
     "data": {
      "text/plain": [
       "Index(['provider_code', 'procedure', 'revision_flag', 'year', 'age_band',\n",
       "       'gender', 't0_assisted', 't0_assisted_by', 't0_symptom_period',\n",
       "       't0_previous_surgery', 't0_living_arrangements', 't0_disability',\n",
       "       'heart_disease', 'high_bp', 'stroke', 'circulation', 'lung_disease',\n",
       "       'diabetes', 'kidney_disease', 'nervous_system', 'liver_disease',\n",
       "       'cancer', 'depression', 'arthritis', 't0_mobility', 't0_self_care',\n",
       "       't0_activity', 't0_discomfort', 't0_anxiety', 't0_eq5d_index_profile',\n",
       "       't0_eq5d_index', 't1_assisted', 't1_assisted_by',\n",
       "       't1_living_arrangements', 't1_disability', 't1_mobility',\n",
       "       't1_self_care', 't1_activity', 't1_discomfort', 't1_anxiety',\n",
       "       't1_satisfaction', 't1_sucess', 't1_allergy', 't1_bleeding', 't1_wound',\n",
       "       't1_urine', 't1_further_surgery', 't1_readmitted',\n",
       "       't1_eq5d_index_profile', 't1_eq5d_index',\n",
       "       'oks_eq_5d_index_t1_predicted', 't0_eq_vas', 't1_eq_vas',\n",
       "       'oks_eq_vas_t1_predicted', 'oks_t0_pain', 'oks_t0_night_pain',\n",
       "       'oks_t0_washing', 'oks_t0_transport', 'oks_t0_walking',\n",
       "       'oks_t0_standing', 'oks_t0_limping', 'oks_t0_kneeling', 'oks_t0_work',\n",
       "       'oks_t0_confidence', 'oks_t0_shopping', 'oks_t0_stairs', 'oks_t0_score',\n",
       "       'oks_t1_pain', 'oks_t1_night_pain', 'oks_t1_washing',\n",
       "       'oks_t1_transport', 'oks_t1_walking', 'oks_t1_standing',\n",
       "       'oks_t1_limping', 'oks_t1_kneeling', 'oks_t1_work', 'oks_t1_confidence',\n",
       "       'oks_t1_shopping', 'oks_t1_stairs', 'oks_t1_score',\n",
       "       'oks_oks_t1_predicted'],\n",
       "      dtype='object')"
      ]
     },
     "execution_count": 7,
     "metadata": {},
     "output_type": "execute_result"
    }
   ],
   "source": [
    "# example: common string operations\n",
    "def shorten_name(s):\n",
    "    return (s.replace('pre_op_q', 't0')\n",
    "             .replace('post_op_q', 't1')\n",
    "             .replace('knee_replacement', 'oks')\n",
    "             .replace('hip_replacement', 'ohs')\n",
    "           )\n",
    "\n",
    "# Note: toolz.functoolz.compose applies functions from right to left\n",
    "# use compose_left if you want left to right\n",
    "df.rename(columns=compose(shorten_name, clean_python_name, shorten_name), inplace=True)\n",
    "df.columns"
   ]
  },
  {
   "cell_type": "code",
   "execution_count": 8,
   "metadata": {
    "colab": {},
    "colab_type": "code",
    "id": "r2J5egEmm-Jz"
   },
   "outputs": [],
   "source": [
    "# explain how you can use parquet. File 6.3 MB\n",
    "df.to_parquet(f'../data/interim/{CONDITION.lower()}-{ORG.lower()}.parquet', compression='gzip')"
   ]
  }
 ],
 "metadata": {
  "colab": {
   "include_colab_link": true,
   "name": "2.1-collect-initial-data.ipynb",
   "provenance": []
  },
  "hide_input": false,
  "kernelspec": {
   "display_name": "Python 3",
   "language": "python",
   "name": "python3"
  },
  "language_info": {
   "codemirror_mode": {
    "name": "ipython",
    "version": 3
   },
   "file_extension": ".py",
   "mimetype": "text/x-python",
   "name": "python",
   "nbconvert_exporter": "python",
   "pygments_lexer": "ipython3",
   "version": "3.8.6-final"
  },
  "toc": {
   "base_numbering": 1,
   "nav_menu": {},
   "number_sections": true,
   "sideBar": true,
   "skip_h1_title": true,
   "title_cell": "Table of Contents",
   "title_sidebar": "Contents",
   "toc_cell": false,
   "toc_position": {},
   "toc_section_display": true,
   "toc_window_display": true
  }
 },
 "nbformat": 4,
 "nbformat_minor": 4
}
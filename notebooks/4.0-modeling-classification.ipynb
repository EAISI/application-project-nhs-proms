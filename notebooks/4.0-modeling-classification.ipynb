{
 "cells": [
  {
   "cell_type": "markdown",
   "metadata": {
    "colab_type": "text",
    "id": "view-in-github",
    "slideshow": {
     "slide_type": "skip"
    }
   },
   "source": [
    "<a href=\"https://colab.research.google.com/github/dkapitan/jads-nhs-proms/blob/master/notebooks/4.0-modeling-clustering-classification.ipynb\" target=\"_parent\"><img src=\"https://colab.research.google.com/assets/colab-badge.svg\" alt=\"Open In Colab\"/></a>"
   ]
  },
  {
   "cell_type": "markdown",
   "metadata": {
    "colab_type": "text",
    "id": "QeHjN1GFNwqC",
    "slideshow": {
     "slide_type": "slide"
    }
   },
   "source": [
    "# Background to osteoarthritis case study\n",
    "\n",
    "This is day 4 from the [5-day JADS NHS PROMs data science case study](https://github.com/dkapitan/jads-nhs-proms/blob/master/README.md). To recap the previous lectures:\n",
    "\n",
    "- In **lecture 1** we focused on data understanding and explored various possible outcome parameters.\n",
    "- In **lecture 2** we constructed a combined outcome parameter using cut-off points for pain and physical functioning.\n",
    "- In **lecture 3** we performed regression and linear modeling on the outcome paramter `t1_eq_vas`.\n",
    "\n",
    "Today we are going to focus on classifcation."
   ]
  },
  {
   "cell_type": "markdown",
   "metadata": {
    "colab_type": "text",
    "id": "ps-NB5SwlrNd",
    "slideshow": {
     "slide_type": "subslide"
    }
   },
   "source": [
    "# Modeling: clustering & classfication"
   ]
  },
  {
   "cell_type": "markdown",
   "metadata": {
    "colab_type": "text",
    "id": "C1bEDtlnF4a9",
    "slideshow": {
     "slide_type": "fragment"
    }
   },
   "source": [
    "## Learning objectives\n",
    "### Modeling: classification\n",
    "\n",
    "Recall we defined different outcome Y suitable for classification in lecture 2:\n",
    "\n",
    "- `y_mcid`: outcome is good (True/1) if `t1_oks_score` is above the threshold or `delta_oks_score` is larger than MCID\n",
    "- `y_t1_pain_good` and `y_t1_functioning_good`: combination of two binary outcomes, yielding a total of 4 classes.\n",
    "\n",
    "We will use the second outcome since it is more challenging and versatile (see [this presentation (in Dutch)](https://kapitan.net/wp-content/uploads/2018/11/181108_data_driven_healthcare_congres.pdf) for more details):\n",
    "- perform a binary classification, defining good outcome where both pain and functioning is good at `t1`\n",
    "- perform multiclass classification.\n",
    "\n",
    "We will compare the performance of single estimators (SVM, Decision tree) with ensemble learning (Random Forest, Gradient Boosting). Grid search and cross validation is done for model assessment. Some examples are given to visualize scoring functions of models to aid in model selection.\n",
    "\n",
    "\n",
    "### Python: Hands-on Machine Learning (2nd edition)\n",
    "\n",
    "- [Classification (chapter 3](https://github.com/ageron/handson-ml2/blob/master/03_classification.ipynb)\n",
    "- [Support-vector machines (chapter 5)](https://github.com/ageron/handson-ml2/blob/master/05_support_vector_machines.ipynb)\n",
    "- [Decision trees (chapter 6)](https://github.com/ageron/handson-ml2/blob/master/06_decision_trees.ipynb)\n",
    "- [Ensemble learning and random forests (chapter 7)](https://github.com/ageron/handson-ml2/blob/master/07_ensemble_learning_and_random_forests.ipynb)\n",
    "\n",
    "### Ptyon: scikit-learn and matplotlib\n",
    "- [Demonstration of multi-metric evaluation on cross_val_score and GridSearchCV](https://scikit-learn.org/stable/auto_examples/model_selection/plot_multi_metric_evaluation.html#sphx-glr-auto-examples-model-selection-plot-multi-metric-evaluation-py)\n",
    "- [Visualizations](https://scikit-learn.org/stable/visualizations.html#visualizations)\n",
    "- [Real Python Matplotlib guide](https://realpython.com/python-matplotlib-guide/)\n",
    "- [Matplotlib anatomy](https://matplotlib.org/3.2.2/gallery/showcase/anatomy.html)\n",
    "- [Yellowbrick](https://www.slideshare.net/RebeccaBilbro/learning-machine-learning-with-yellowbrick)\n",
    "\n",
    "So let's start by re-running the relevant code from previous lectures."
   ]
  },
  {
   "cell_type": "code",
   "execution_count": 29,
   "metadata": {
    "colab": {},
    "colab_type": "code",
    "id": "_95_D3ywlrNh",
    "slideshow": {
     "slide_type": "subslide"
    }
   },
   "outputs": [],
   "source": [
    "import warnings\n",
    "import numpy as np\n",
    "import pandas as pd\n",
    "import matplotlib as mpl\n",
    "import matplotlib.pyplot as plt\n",
    "from sklearn.impute import SimpleImputer\n",
    "from sklearn.model_selection import StratifiedShuffleSplit\n",
    "\n",
    "#supressing warnings for readability\n",
    "warnings.filterwarnings(\"ignore\")\n",
    "\n",
    "# To plot pretty figures directly within Jupyter\n",
    "%matplotlib inline\n",
    "\n",
    "# choose your own style: https://matplotlib.org/3.1.0/gallery/style_sheets/style_sheets_reference.html\n",
    "plt.style.use('seaborn-whitegrid')\n",
    "\n",
    "# Go to town with https://matplotlib.org/tutorials/introductory/customizing.html\n",
    "# plt.rcParams.keys()\n",
    "mpl.rc('axes', labelsize=14, titlesize=14)\n",
    "mpl.rc('figure', titlesize=20)\n",
    "mpl.rc('xtick', labelsize=12)\n",
    "mpl.rc('ytick', labelsize=12)\n",
    "\n",
    "# contants for figsize\n",
    "S = (8,8)\n",
    "M = (12,12)\n",
    "L = (14,14)\n",
    "\n",
    "# pandas options\n",
    "pd.set_option(\"display.max.columns\", None)\n",
    "pd.set_option(\"display.max.rows\", None)\n",
    "pd.set_option(\"display.precision\", 2)\n",
    "\n",
    "# read data\n",
    "df = pd.read_parquet('https://github.com/dkapitan/jads-nhs-proms/blob/master/data/interim/knee-provider.parquet?raw=true')"
   ]
  },
  {
   "cell_type": "code",
   "execution_count": 2,
   "metadata": {
    "slideshow": {
     "slide_type": "subslide"
    }
   },
   "outputs": [],
   "source": [
    "# handy function to select oks columns\n",
    "def oks_questions(t='t0'):\n",
    "  return [\n",
    "    col for col in df.columns if col.startswith(f\"oks_{t}\") and not col.endswith(\"_score\")\n",
    "]\n",
    "\n",
    "# replace sentinel values in oks columns\n",
    "# note we are doing imputation on original dataframe (rather than in pipeline later on)\n",
    "# so we can perform it prior to StratefiedShuffleSplit\n",
    "oks_no9 = oks_questions('t0') + oks_questions('t1')\n",
    "impute_oks = SimpleImputer(missing_values=9, strategy=\"most_frequent\")\n",
    "df.loc[:, oks_no9] = impute_oks.fit_transform(df[oks_no9])\n",
    "\n",
    "# group columns t0\n",
    "age_band = [\"age_band\"]\n",
    "gender = [\"gender\"]\n",
    "age_band_categories = sorted([x for x in df.age_band.unique() if isinstance(x, str)])\n",
    "comorb = [\n",
    "    \"heart_disease\",\n",
    "    \"high_bp\",\n",
    "    \"stroke\",\n",
    "    \"circulation\",\n",
    "    \"lung_disease\",\n",
    "    \"diabetes\",\n",
    "    \"kidney_disease\",\n",
    "    \"nervous_system\",\n",
    "    \"liver_disease\",\n",
    "    \"cancer\",\n",
    "    \"depression\",\n",
    "    \"arthritis\",\n",
    "]\n",
    "boolean = [\"t0_assisted\", \"t0_previous_surgery\", \"t0_disability\"]\n",
    "eq5d = [\"t0_mobility\", \"t0_self_care\", \"t0_activity\", \"t0_discomfort\", \"t0_anxiety\"]\n",
    "eq_vas = [\"t0_eq_vas\"]\n",
    "categorical = [\"t0_symptom_period\", \"t0_previous_surgery\", \"t0_living_arrangements\"]\n",
    "oks_score = [\"oks_t0_score\"]\n",
    "\n",
    "# add number of comorbidities as extra feature\n",
    "impute_comorb = SimpleImputer(missing_values=9, strategy=\"constant\", fill_value=0)\n",
    "df.loc[:, comorb] = impute_comorb.fit_transform(df[comorb])\n",
    "df[\"n_comorb\"] = df.loc[:, comorb].sum()\n",
    "\n",
    "\n",
    "# define outcome Y\n",
    "CUT_OFF_PAIN = 4\n",
    "CUT_OFF_FUNCTIONING = 26\n",
    "\n",
    "for t in (\"t0\", \"t1\"):\n",
    "    df[f\"oks_{t}_pain_total\"] = df[f\"oks_{t}_pain\"] + df[f\"oks_{t}_night_pain\"]\n",
    "    df[f\"oks_{t}_functioning_total\"] = (\n",
    "        df.loc[:, [col for col in oks_questions(t) if \"pain\" not in col]]\n",
    "        .sum(axis=1)\n",
    "    )\n",
    "    df[f\"y_{t}_pain_good\"] = df[f\"oks_{t}_pain_total\"].apply(\n",
    "        lambda s: True if s >= CUT_OFF_PAIN else False\n",
    "    )\n",
    "    df[f\"y_{t}_functioning_good\"] = df[f\"oks_{t}_functioning_total\"].apply(\n",
    "        lambda s: True if s >= CUT_OFF_FUNCTIONING else False\n",
    "    )\n",
    "\n",
    "# define binary outcome parameter\n",
    "df[\"y_binary\"] = np.logical_and(df.y_t1_pain_good, df.y_t1_functioning_good)\n",
    "\n",
    "# Only using 1 split for stratefied sampling, more folds are used later on in cross-validation\n",
    "split = StratifiedShuffleSplit(n_splits=1, test_size=0.3, random_state=42)\n",
    "for train_index, test_index in split.split(df, df[\"y_binary\"]):\n",
    "    df_train = df.loc[train_index]\n",
    "    df_test = df.loc[test_index]\n",
    "    \n",
    "y_train_pain_good = df_train.y_t1_pain_good\n",
    "y_train_pain_good = df_train.y_t1_functioning_good\n",
    "y_train_binary = df_train.y_binary"
   ]
  },
  {
   "cell_type": "code",
   "execution_count": 3,
   "metadata": {
    "slideshow": {
     "slide_type": "subslide"
    }
   },
   "outputs": [
    {
     "data": {
      "text/html": [
       "<div>\n",
       "<style scoped>\n",
       "    .dataframe tbody tr th:only-of-type {\n",
       "        vertical-align: middle;\n",
       "    }\n",
       "\n",
       "    .dataframe tbody tr th {\n",
       "        vertical-align: top;\n",
       "    }\n",
       "\n",
       "    .dataframe thead th {\n",
       "        text-align: right;\n",
       "    }\n",
       "</style>\n",
       "<table border=\"1\" class=\"dataframe\">\n",
       "  <thead>\n",
       "    <tr style=\"text-align: right;\">\n",
       "      <th>y_t0_functioning_good</th>\n",
       "      <th>False</th>\n",
       "      <th>True</th>\n",
       "    </tr>\n",
       "    <tr>\n",
       "      <th>y_t0_pain_good</th>\n",
       "      <th></th>\n",
       "      <th></th>\n",
       "    </tr>\n",
       "  </thead>\n",
       "  <tbody>\n",
       "    <tr>\n",
       "      <th>False</th>\n",
       "      <td>0.81</td>\n",
       "      <td>0.07</td>\n",
       "    </tr>\n",
       "    <tr>\n",
       "      <th>True</th>\n",
       "      <td>0.08</td>\n",
       "      <td>0.05</td>\n",
       "    </tr>\n",
       "  </tbody>\n",
       "</table>\n",
       "</div>"
      ],
      "text/plain": [
       "y_t0_functioning_good  False  True \n",
       "y_t0_pain_good                     \n",
       "False                   0.81   0.07\n",
       "True                    0.08   0.05"
      ]
     },
     "execution_count": 3,
     "metadata": {},
     "output_type": "execute_result"
    }
   ],
   "source": [
    "pd.crosstab(df_train.y_t0_pain_good, df_train.y_t0_functioning_good, normalize=True)"
   ]
  },
  {
   "cell_type": "code",
   "execution_count": 4,
   "metadata": {
    "slideshow": {
     "slide_type": "fragment"
    }
   },
   "outputs": [
    {
     "data": {
      "text/html": [
       "<div>\n",
       "<style scoped>\n",
       "    .dataframe tbody tr th:only-of-type {\n",
       "        vertical-align: middle;\n",
       "    }\n",
       "\n",
       "    .dataframe tbody tr th {\n",
       "        vertical-align: top;\n",
       "    }\n",
       "\n",
       "    .dataframe thead th {\n",
       "        text-align: right;\n",
       "    }\n",
       "</style>\n",
       "<table border=\"1\" class=\"dataframe\">\n",
       "  <thead>\n",
       "    <tr style=\"text-align: right;\">\n",
       "      <th>y_t1_functioning_good</th>\n",
       "      <th>False</th>\n",
       "      <th>True</th>\n",
       "    </tr>\n",
       "    <tr>\n",
       "      <th>y_t1_pain_good</th>\n",
       "      <th></th>\n",
       "      <th></th>\n",
       "    </tr>\n",
       "  </thead>\n",
       "  <tbody>\n",
       "    <tr>\n",
       "      <th>False</th>\n",
       "      <td>0.15</td>\n",
       "      <td>0.06</td>\n",
       "    </tr>\n",
       "    <tr>\n",
       "      <th>True</th>\n",
       "      <td>0.08</td>\n",
       "      <td>0.71</td>\n",
       "    </tr>\n",
       "  </tbody>\n",
       "</table>\n",
       "</div>"
      ],
      "text/plain": [
       "y_t1_functioning_good  False  True \n",
       "y_t1_pain_good                     \n",
       "False                   0.15   0.06\n",
       "True                    0.08   0.71"
      ]
     },
     "execution_count": 4,
     "metadata": {},
     "output_type": "execute_result"
    }
   ],
   "source": [
    "pd.crosstab(df_train.y_t1_pain_good, df_train.y_t1_functioning_good, normalize=True)"
   ]
  },
  {
   "cell_type": "code",
   "execution_count": 5,
   "metadata": {
    "slideshow": {
     "slide_type": "subslide"
    }
   },
   "outputs": [],
   "source": [
    "# same pipeline as lecture 3\n",
    "from sklearn.pipeline import Pipeline\n",
    "from sklearn.preprocessing import OrdinalEncoder, OneHotEncoder\n",
    "from sklearn.compose import ColumnTransformer\n",
    "\n",
    "\n",
    "# preprocessing pipelines for specific columns\n",
    "age_band_pipe = Pipeline(\n",
    "    steps=[\n",
    "        (\"impute\", SimpleImputer(missing_values=np.nan, strategy=\"most_frequent\")),\n",
    "        (\"ordinal\", OrdinalEncoder(categories=[age_band_categories])),\n",
    "    ]\n",
    ")\n",
    "gender_pipe = Pipeline(\n",
    "    steps=[\n",
    "        (\"impute\", SimpleImputer(missing_values=np.nan, strategy=\"most_frequent\")),\n",
    "        (\"onehot\", OneHotEncoder()),\n",
    "    ]\n",
    ")\n",
    "\n",
    "# ColumnTransformer on all included columns.\n",
    "# Note columns that are not specified are dropped by default\n",
    "transformers = {\n",
    "    \"age\": (\"age\", age_band_pipe, age_band),\n",
    "    \"gender\": (\"gender\", gender_pipe, gender),\n",
    "    \"comorb\": (\n",
    "        \"comorb\",\n",
    "        'passthrough',\n",
    "        comorb,\n",
    "    ),\n",
    "    \"categorical\": (\n",
    "        \"categorical\",\n",
    "        SimpleImputer(missing_values=9, strategy=\"most_frequent\"),\n",
    "        boolean + eq5d + categorical,\n",
    "    ),\n",
    "    \"oks\": (\n",
    "        \"oks\",\n",
    "        'passthrough',\n",
    "        oks_questions('t0'),\n",
    "    ),\n",
    "    \"eq_vas\": (\"eqvas\", SimpleImputer(missing_values=999, strategy=\"median\"), eq_vas),\n",
    "}\n",
    "prep = ColumnTransformer(\n",
    "    transformers=[v for _, v in transformers.items()])\n",
    "\n",
    "# X_train = prep.fit_transform(df_train)\n",
    "# X_test = prep.fit_transform(df_test)\n",
    "\n",
    "# list of columns for convenience\n",
    "# https://stackoverflow.com/questions/54646709/sklearn-pipeline-get-feature-name-after-onehotencode-in-columntransformer\n",
    "# X_columns = pd.Series(\n",
    "#     age_band\n",
    "#     + prep.named_transformers_[\"gender\"][\"onehot\"].get_feature_names().tolist()\n",
    "#     + comorb\n",
    "#     + boolean\n",
    "#     + eq5d\n",
    "#     + categorical\n",
    "#     + oks_questions('t0')\n",
    "#     + oks_score\n",
    "#     + eq_vas\n",
    "# )"
   ]
  },
  {
   "cell_type": "markdown",
   "metadata": {
    "colab_type": "text",
    "id": "kw3m1k3EI6NK",
    "slideshow": {
     "slide_type": "slide"
    }
   },
   "source": [
    "## Classification\n",
    "\n",
    "### Single estimators\n",
    "#### Stochastic Gradient Descent"
   ]
  },
  {
   "cell_type": "code",
   "execution_count": 6,
   "metadata": {
    "slideshow": {
     "slide_type": "fragment"
    }
   },
   "outputs": [
    {
     "name": "stdout",
     "output_type": "stream",
     "text": [
      "CPU times: user 9.69 s, sys: 774 ms, total: 10.5 s\n",
      "Wall time: 9.07 s\n"
     ]
    },
    {
     "data": {
      "text/plain": [
       "GridSearchCV(cv=5,\n",
       "             estimator=Pipeline(steps=[('prep',\n",
       "                                        ColumnTransformer(transformers=[('age',\n",
       "                                                                         Pipeline(steps=[('impute',\n",
       "                                                                                          SimpleImputer(strategy='most_frequent')),\n",
       "                                                                                         ('ordinal',\n",
       "                                                                                          OrdinalEncoder(categories=[['40 '\n",
       "                                                                                                                      'to '\n",
       "                                                                                                                      '49',\n",
       "                                                                                                                      '50 '\n",
       "                                                                                                                      'to '\n",
       "                                                                                                                      '59',\n",
       "                                                                                                                      '60 '\n",
       "                                                                                                                      'to '\n",
       "                                                                                                                      '69',\n",
       "                                                                                                                      '70 '\n",
       "                                                                                                                      'to '\n",
       "                                                                                                                      '79',\n",
       "                                                                                                                      '80 '\n",
       "                                                                                                                      'to '\n",
       "                                                                                                                      '89',\n",
       "                                                                                                                      '90 '\n",
       "                                                                                                                      'to '\n",
       "                                                                                                                      '120']]))]),\n",
       "                                                                         ['age_band']),\n",
       "                                                                        ('gender',\n",
       "                                                                         Pipeline(steps=[('impute',\n",
       "                                                                                          SimpleImputer(stra...\n",
       "                                                                          'oks_t0_washing',\n",
       "                                                                          'oks_t0_transport',\n",
       "                                                                          'oks_t0_walking',\n",
       "                                                                          'oks_t0_standing',\n",
       "                                                                          'oks_t0_limping',\n",
       "                                                                          'oks_t0_kneeling',\n",
       "                                                                          'oks_t0_work',\n",
       "                                                                          'oks_t0_confidence',\n",
       "                                                                          'oks_t0_shopping',\n",
       "                                                                          'oks_t0_stairs',\n",
       "                                                                          'oks_t0_pain_total',\n",
       "                                                                          'oks_t0_functioning_total']),\n",
       "                                                                        ('eqvas',\n",
       "                                                                         SimpleImputer(missing_values=999,\n",
       "                                                                                       strategy='median'),\n",
       "                                                                         ['t0_eq_vas'])])),\n",
       "                                       ('sgd', SGDClassifier())]),\n",
       "             param_grid={'sgd__max_iter': [10]})"
      ]
     },
     "execution_count": 6,
     "metadata": {},
     "output_type": "execute_result"
    }
   ],
   "source": [
    "%%time\n",
    "from sklearn.linear_model import SGDClassifier\n",
    "from sklearn.model_selection import GridSearchCV\n",
    "from sklearn.metrics import confusion_matrix\n",
    "from sklearn.model_selection import cross_val_score\n",
    "\n",
    "\n",
    "sgd = Pipeline(\n",
    "    steps=[(\"prep\", prep), (\"sgd\", SGDClassifier(loss=\"hinge\", penalty=\"l2\", tol=1e-3))]\n",
    ")\n",
    "\n",
    "# https://scikit-learn.org/stable/tutorial/statistical_inference/putting_together.html\n",
    "sgd_parameters = {\"sgd__max_iter\": [10]} #, 100, 1000]}\n",
    "\n",
    "sgd_search = GridSearchCV(sgd, sgd_parameters, cv=5)\n",
    "sgd_search.fit(df_train, y_train_binary);"
   ]
  },
  {
   "cell_type": "code",
   "execution_count": 7,
   "metadata": {
    "slideshow": {
     "slide_type": "subslide"
    }
   },
   "outputs": [
    {
     "data": {
      "text/plain": [
       "array([[0.17532448, 0.11733443],\n",
       "       [0.2265839 , 0.48075719]])"
      ]
     },
     "execution_count": 7,
     "metadata": {},
     "output_type": "execute_result"
    }
   ],
   "source": [
    "confusion_matrix(y_train_binary, sgd_search.best_estimator_.predict(df_train), normalize='all')"
   ]
  },
  {
   "cell_type": "code",
   "execution_count": 8,
   "metadata": {
    "slideshow": {
     "slide_type": "fragment"
    }
   },
   "outputs": [
    {
     "data": {
      "text/plain": [
       "array([0.69061227, 0.68671459, 0.70017077])"
      ]
     },
     "execution_count": 8,
     "metadata": {},
     "output_type": "execute_result"
    }
   ],
   "source": [
    "cross_val_score(sgd_search.best_estimator_, df_train, y_train_binary, cv=3, scoring=\"roc_auc\")"
   ]
  },
  {
   "cell_type": "markdown",
   "metadata": {
    "slideshow": {
     "slide_type": "subslide"
    }
   },
   "source": [
    "#### Decision tree"
   ]
  },
  {
   "cell_type": "code",
   "execution_count": 9,
   "metadata": {
    "slideshow": {
     "slide_type": "fragment"
    }
   },
   "outputs": [
    {
     "name": "stdout",
     "output_type": "stream",
     "text": [
      "CPU times: user 56.8 s, sys: 4.15 s, total: 1min\n",
      "Wall time: 1min 1s\n"
     ]
    },
    {
     "data": {
      "text/plain": [
       "GridSearchCV(cv=5,\n",
       "             estimator=Pipeline(steps=[('prep',\n",
       "                                        ColumnTransformer(transformers=[('age',\n",
       "                                                                         Pipeline(steps=[('impute',\n",
       "                                                                                          SimpleImputer(strategy='most_frequent')),\n",
       "                                                                                         ('ordinal',\n",
       "                                                                                          OrdinalEncoder(categories=[['40 '\n",
       "                                                                                                                      'to '\n",
       "                                                                                                                      '49',\n",
       "                                                                                                                      '50 '\n",
       "                                                                                                                      'to '\n",
       "                                                                                                                      '59',\n",
       "                                                                                                                      '60 '\n",
       "                                                                                                                      'to '\n",
       "                                                                                                                      '69',\n",
       "                                                                                                                      '70 '\n",
       "                                                                                                                      'to '\n",
       "                                                                                                                      '79',\n",
       "                                                                                                                      '80 '\n",
       "                                                                                                                      'to '\n",
       "                                                                                                                      '89',\n",
       "                                                                                                                      '90 '\n",
       "                                                                                                                      'to '\n",
       "                                                                                                                      '120']]))]),\n",
       "                                                                         ['age_band']),\n",
       "                                                                        ('gender',\n",
       "                                                                         Pipeline(steps=[('impute',\n",
       "                                                                                          SimpleImputer(stra...\n",
       "                                                                          'oks_t0_limping',\n",
       "                                                                          'oks_t0_kneeling',\n",
       "                                                                          'oks_t0_work',\n",
       "                                                                          'oks_t0_confidence',\n",
       "                                                                          'oks_t0_shopping',\n",
       "                                                                          'oks_t0_stairs',\n",
       "                                                                          'oks_t0_pain_total',\n",
       "                                                                          'oks_t0_functioning_total']),\n",
       "                                                                        ('eqvas',\n",
       "                                                                         SimpleImputer(missing_values=999,\n",
       "                                                                                       strategy='median'),\n",
       "                                                                         ['t0_eq_vas'])])),\n",
       "                                       ('cart', DecisionTreeClassifier())]),\n",
       "             param_grid={'cart__max_depth': [10, 30],\n",
       "                         'cart__min_samples_leaf': [0.02, 0.05, 0.1, 0.2]})"
      ]
     },
     "execution_count": 9,
     "metadata": {},
     "output_type": "execute_result"
    }
   ],
   "source": [
    "%%time\n",
    "from sklearn.tree import DecisionTreeClassifier\n",
    "\n",
    "cart = Pipeline(\n",
    "    steps=[\n",
    "        (\"prep\", prep),\n",
    "        (\"cart\", DecisionTreeClassifier()),\n",
    "    ]\n",
    ")\n",
    "\n",
    "cart_parameters = {\n",
    "'cart__max_depth': [10, 30],\n",
    "'cart__min_samples_leaf': [0.02, 0.05, 0.1, 0.2],\n",
    "}\n",
    "\n",
    "cart_search = GridSearchCV(cart, cart_parameters, cv=5)\n",
    "cart_search.fit(df_train, y_train_binary);"
   ]
  },
  {
   "cell_type": "code",
   "execution_count": 10,
   "metadata": {},
   "outputs": [
    {
     "data": {
      "text/plain": [
       "array([[0.05869799, 0.23396091],\n",
       "       [0.03967578, 0.66766532]])"
      ]
     },
     "execution_count": 10,
     "metadata": {},
     "output_type": "execute_result"
    }
   ],
   "source": [
    "confusion_matrix(y_train_binary, cart_search.best_estimator_.predict(df_train), normalize='all')"
   ]
  },
  {
   "cell_type": "code",
   "execution_count": 11,
   "metadata": {},
   "outputs": [
    {
     "data": {
      "text/plain": [
       "array([0.68623186, 0.68977625, 0.68147539])"
      ]
     },
     "execution_count": 11,
     "metadata": {},
     "output_type": "execute_result"
    }
   ],
   "source": [
    "cross_val_score(cart_search.best_estimator_, df_train, y_train_binary, cv=3, scoring=\"roc_auc\")"
   ]
  },
  {
   "cell_type": "markdown",
   "metadata": {
    "slideshow": {
     "slide_type": "subslide"
    }
   },
   "source": [
    "#### LinearSVC  "
   ]
  },
  {
   "cell_type": "code",
   "execution_count": 12,
   "metadata": {
    "slideshow": {
     "slide_type": "fragment"
    }
   },
   "outputs": [
    {
     "name": "stdout",
     "output_type": "stream",
     "text": [
      "CPU times: user 21.4 s, sys: 206 ms, total: 21.7 s\n",
      "Wall time: 21.7 s\n"
     ]
    },
    {
     "data": {
      "text/plain": [
       "Pipeline(steps=[('prep',\n",
       "                 ColumnTransformer(transformers=[('age',\n",
       "                                                  Pipeline(steps=[('impute',\n",
       "                                                                   SimpleImputer(strategy='most_frequent')),\n",
       "                                                                  ('ordinal',\n",
       "                                                                   OrdinalEncoder(categories=[['40 '\n",
       "                                                                                               'to '\n",
       "                                                                                               '49',\n",
       "                                                                                               '50 '\n",
       "                                                                                               'to '\n",
       "                                                                                               '59',\n",
       "                                                                                               '60 '\n",
       "                                                                                               'to '\n",
       "                                                                                               '69',\n",
       "                                                                                               '70 '\n",
       "                                                                                               'to '\n",
       "                                                                                               '79',\n",
       "                                                                                               '80 '\n",
       "                                                                                               'to '\n",
       "                                                                                               '89',\n",
       "                                                                                               '90 '\n",
       "                                                                                               'to '\n",
       "                                                                                               '120']]))]),\n",
       "                                                  ['age_band']),\n",
       "                                                 ('gender',\n",
       "                                                  Pipeline(steps=[('impute',\n",
       "                                                                   SimpleImputer(strategy='most_frequent')),\n",
       "                                                                  ('one...\n",
       "                                                   'oks_t0_transport',\n",
       "                                                   'oks_t0_walking',\n",
       "                                                   'oks_t0_standing',\n",
       "                                                   'oks_t0_limping',\n",
       "                                                   'oks_t0_kneeling',\n",
       "                                                   'oks_t0_work',\n",
       "                                                   'oks_t0_confidence',\n",
       "                                                   'oks_t0_shopping',\n",
       "                                                   'oks_t0_stairs',\n",
       "                                                   'oks_t0_pain_total',\n",
       "                                                   'oks_t0_functioning_total']),\n",
       "                                                 ('eqvas',\n",
       "                                                  SimpleImputer(missing_values=999,\n",
       "                                                                strategy='median'),\n",
       "                                                  ['t0_eq_vas'])])),\n",
       "                ('scaler', StandardScaler()),\n",
       "                ('clf', LinearSVC(C=1, loss='hinge'))])"
      ]
     },
     "execution_count": 12,
     "metadata": {},
     "output_type": "execute_result"
    }
   ],
   "source": [
    "%%time\n",
    "from sklearn.preprocessing import StandardScaler\n",
    "from sklearn.svm import LinearSVC\n",
    "\n",
    "svm = Pipeline(\n",
    "    steps=[\n",
    "        (\"prep\", prep),\n",
    "        (\"scaler\", StandardScaler()),\n",
    "        (\"clf\", LinearSVC(C=1, loss=\"hinge\")),\n",
    "    ]\n",
    ")\n",
    "svm.fit(df_train, y_train_binary);"
   ]
  },
  {
   "cell_type": "code",
   "execution_count": 13,
   "metadata": {
    "slideshow": {
     "slide_type": "subslide"
    }
   },
   "outputs": [
    {
     "data": {
      "text/plain": [
       "array([[0.02813318, 0.26452573],\n",
       "       [0.02801005, 0.67933104]])"
      ]
     },
     "execution_count": 13,
     "metadata": {},
     "output_type": "execute_result"
    }
   ],
   "source": [
    "confusion_matrix(y_train_binary, svm.predict(df_train), normalize='all')"
   ]
  },
  {
   "cell_type": "code",
   "execution_count": 14,
   "metadata": {
    "slideshow": {
     "slide_type": "fragment"
    }
   },
   "outputs": [
    {
     "data": {
      "text/plain": [
       "array([0.54497742, 0.59003644, 0.52160876])"
      ]
     },
     "execution_count": 14,
     "metadata": {},
     "output_type": "execute_result"
    }
   ],
   "source": [
    "cross_val_score(svm, df_train, y_train_binary, cv=3, scoring=\"roc_auc\")"
   ]
  },
  {
   "cell_type": "markdown",
   "metadata": {
    "slideshow": {
     "slide_type": "subslide"
    }
   },
   "source": [
    "#### ROC curve\n",
    "It is more intuitive to compare different estimators visually, i.e. visualizing the performance metrics. scikit-learn 0.22 comes with a [new plotting API](https://scikit-learn.org/stable/auto_examples/release_highlights/plot_release_highlights_0_22_0.html#sphx-glr-auto-examples-release-highlights-plot-release-highlights-0-22-0-py), so it's much easier than before to quickly produce charts. We start with the good ol' ROC curve (although later on I will stress not to use this!)."
   ]
  },
  {
   "cell_type": "code",
   "execution_count": 15,
   "metadata": {
    "slideshow": {
     "slide_type": "subslide"
    }
   },
   "outputs": [
    {
     "data": {
      "image/png": "[encoded data removed]",
      "text/plain": [
       "<Figure size 576x576 with 1 Axes>"
      ]
     },
     "metadata": {},
     "output_type": "display_data"
    }
   ],
   "source": [
    "from sklearn.metrics import plot_roc_curve, plot_precision_recall_curve\n",
    "\n",
    "clfs = {\n",
    "    \"sgd\": sgd_search.best_estimator_,\n",
    "    \"cart\": cart_search.best_estimator_,\n",
    "    \"svm\": svm,\n",
    "}\n",
    "\n",
    "fig_roc, ax_roc = plt.subplots(figsize=S)\n",
    "plt.plot([0, 1], [0, 1], 'k--')\n",
    "for k,v in clfs.items():\n",
    "    plot_roc_curve(v, df_train, y_train_binary, name=k, ax=ax_roc)"
   ]
  },
  {
   "cell_type": "markdown",
   "metadata": {
    "slideshow": {
     "slide_type": "fragment"
    }
   },
   "source": [
    "This is not very exciting at all. Let's look at the precision recall curve (which probably is even worse)."
   ]
  },
  {
   "cell_type": "code",
   "execution_count": 16,
   "metadata": {},
   "outputs": [
    {
     "data": {
      "image/png": "[encoded data removed]",
      "text/plain": [
       "<Figure size 576x576 with 1 Axes>"
      ]
     },
     "metadata": {},
     "output_type": "display_data"
    }
   ],
   "source": [
    "fig_prc, ax_prc = plt.subplots(figsize=S)\n",
    "plt.plot([0, 1], [1, 0], 'k--')\n",
    "for k,v in clfs.items():\n",
    "    plot_precision_recall_curve(v, df_train, y_train_binary, name=k, ax=ax_prc)"
   ]
  },
  {
   "cell_type": "markdown",
   "metadata": {
    "colab_type": "text",
    "id": "EZMdkbZyJoru",
    "slideshow": {
     "slide_type": "slide"
    }
   },
   "source": [
    "### Ensemble methods: Random Forest & GradientBoosted Trees\n",
    "\n",
    "We are going to do the same - train classifiers with grid search and cross-validation - but using an ensemble of learners this time."
   ]
  },
  {
   "cell_type": "code",
   "execution_count": 17,
   "metadata": {
    "colab": {},
    "colab_type": "code",
    "id": "w-4srrk5JErU",
    "slideshow": {
     "slide_type": "fragment"
    }
   },
   "outputs": [
    {
     "name": "stdout",
     "output_type": "stream",
     "text": [
      "CPU times: user 2min 18s, sys: 11.7 s, total: 2min 30s\n",
      "Wall time: 2min 36s\n"
     ]
    },
    {
     "data": {
      "text/plain": [
       "GridSearchCV(cv=5,\n",
       "             estimator=Pipeline(steps=[('prep',\n",
       "                                        ColumnTransformer(transformers=[('age',\n",
       "                                                                         Pipeline(steps=[('impute',\n",
       "                                                                                          SimpleImputer(strategy='most_frequent')),\n",
       "                                                                                         ('ordinal',\n",
       "                                                                                          OrdinalEncoder(categories=[['40 '\n",
       "                                                                                                                      'to '\n",
       "                                                                                                                      '49',\n",
       "                                                                                                                      '50 '\n",
       "                                                                                                                      'to '\n",
       "                                                                                                                      '59',\n",
       "                                                                                                                      '60 '\n",
       "                                                                                                                      'to '\n",
       "                                                                                                                      '69',\n",
       "                                                                                                                      '70 '\n",
       "                                                                                                                      'to '\n",
       "                                                                                                                      '79',\n",
       "                                                                                                                      '80 '\n",
       "                                                                                                                      'to '\n",
       "                                                                                                                      '89',\n",
       "                                                                                                                      '90 '\n",
       "                                                                                                                      'to '\n",
       "                                                                                                                      '120']]))]),\n",
       "                                                                         ['age_band']),\n",
       "                                                                        ('gender',\n",
       "                                                                         Pipeline(steps=[('impute',\n",
       "                                                                                          SimpleImputer(stra...\n",
       "                                                                          'oks_t0_functioning_total']),\n",
       "                                                                        ('eqvas',\n",
       "                                                                         SimpleImputer(missing_values=999,\n",
       "                                                                                       strategy='median'),\n",
       "                                                                         ['t0_eq_vas'])])),\n",
       "                                       ('rf',\n",
       "                                        RandomForestClassifier(n_jobs=-1,\n",
       "                                                               random_state=42))]),\n",
       "             param_grid={'rf__criterion': ['gini'], 'rf__max_depth': [10, 15],\n",
       "                         'rf__max_features': ['auto'],\n",
       "                         'rf__max_samples': [1000],\n",
       "                         'rf__min_samples_leaf': [1, 2, 5],\n",
       "                         'rf__n_estimators': [100],\n",
       "                         'rf__oob_score': [True, False]})"
      ]
     },
     "execution_count": 17,
     "metadata": {},
     "output_type": "execute_result"
    }
   ],
   "source": [
    "%%time\n",
    "from sklearn.ensemble import RandomForestClassifier\n",
    "\n",
    "\n",
    "rf = Pipeline(\n",
    "    steps=[(\"prep\", prep), (\"rf\", RandomForestClassifier(random_state=42, n_jobs=-1))]\n",
    ")\n",
    "rf_parameters = {\n",
    "    \"rf__max_samples\": [1000],  # don't use the whole dataset: takes too long!\n",
    "    \"rf__n_estimators\": [100],\n",
    "    \"rf__criterion\": [\"gini\"],\n",
    "    \"rf__max_features\": [\"auto\"],\n",
    "    \"rf__min_samples_leaf\": [1, 2, 5],\n",
    "    \"rf__max_depth\": [10, 15],\n",
    "    \"rf__oob_score\": [True, False],\n",
    "}\n",
    "rf_search = GridSearchCV(rf, rf_parameters, cv=5)\n",
    "rf_search.fit(df_train, y_train_binary)"
   ]
  },
  {
   "cell_type": "code",
   "execution_count": 18,
   "metadata": {
    "colab": {},
    "colab_type": "code",
    "id": "w-4srrk5JErU",
    "slideshow": {
     "slide_type": "subslide"
    }
   },
   "outputs": [
    {
     "name": "stdout",
     "output_type": "stream",
     "text": [
      "CPU times: user 2min 16s, sys: 11.2 s, total: 2min 27s\n",
      "Wall time: 2min 31s\n"
     ]
    },
    {
     "data": {
      "text/plain": [
       "GridSearchCV(cv=5,\n",
       "             estimator=Pipeline(steps=[('prep',\n",
       "                                        ColumnTransformer(transformers=[('age',\n",
       "                                                                         Pipeline(steps=[('impute',\n",
       "                                                                                          SimpleImputer(strategy='most_frequent')),\n",
       "                                                                                         ('ordinal',\n",
       "                                                                                          OrdinalEncoder(categories=[['40 '\n",
       "                                                                                                                      'to '\n",
       "                                                                                                                      '49',\n",
       "                                                                                                                      '50 '\n",
       "                                                                                                                      'to '\n",
       "                                                                                                                      '59',\n",
       "                                                                                                                      '60 '\n",
       "                                                                                                                      'to '\n",
       "                                                                                                                      '69',\n",
       "                                                                                                                      '70 '\n",
       "                                                                                                                      'to '\n",
       "                                                                                                                      '79',\n",
       "                                                                                                                      '80 '\n",
       "                                                                                                                      'to '\n",
       "                                                                                                                      '89',\n",
       "                                                                                                                      '90 '\n",
       "                                                                                                                      'to '\n",
       "                                                                                                                      '120']]))]),\n",
       "                                                                         ['age_band']),\n",
       "                                                                        ('gender',\n",
       "                                                                         Pipeline(steps=[('impute',\n",
       "                                                                                          SimpleImputer(stra...\n",
       "                                                                          'oks_t0_functioning_total']),\n",
       "                                                                        ('eqvas',\n",
       "                                                                         SimpleImputer(missing_values=999,\n",
       "                                                                                       strategy='median'),\n",
       "                                                                         ['t0_eq_vas'])])),\n",
       "                                       ('rf',\n",
       "                                        RandomForestClassifier(n_jobs=-1,\n",
       "                                                               random_state=42))]),\n",
       "             param_grid={'rf__criterion': ['gini'], 'rf__max_depth': [10, 15],\n",
       "                         'rf__max_features': ['auto'],\n",
       "                         'rf__max_samples': [1000],\n",
       "                         'rf__min_samples_leaf': [1, 2, 5],\n",
       "                         'rf__n_estimators': [100],\n",
       "                         'rf__oob_score': [True, False]})"
      ]
     },
     "execution_count": 18,
     "metadata": {},
     "output_type": "execute_result"
    }
   ],
   "source": [
    "%%time\n",
    "from sklearn.ensemble import GradientBoostingClassifier\n",
    "\n",
    "gb = Pipeline(\n",
    "    steps=[(\"prep\", prep), (\"gb\", GradientBoostingClassifier())]\n",
    ")\n",
    "gb_parameters = {\n",
    "    \"gb__learning_rate\": 1.0,\n",
    "    \"gb__n_estimators\": [100, 200],\n",
    "    \"gb__min_samples_leaf\": [1, 2, 5],\n",
    "    \"gb__max_features\": [\"auto\"],\n",
    "    \"gb__max_depth\": [2, 3, 5],\n",
    "}\n",
    "gb_search = GridSearchCV(rf, rf_parameters, cv=5)\n",
    "gb_search.fit(df_train, y_train_binary)"
   ]
  },
  {
   "cell_type": "code",
   "execution_count": 19,
   "metadata": {
    "slideshow": {
     "slide_type": "subslide"
    }
   },
   "outputs": [
    {
     "data": {
      "image/png": "[encoded data removed]",
      "text/plain": [
       "<Figure size 576x576 with 1 Axes>"
      ]
     },
     "metadata": {},
     "output_type": "display_data"
    }
   ],
   "source": [
    "ensembles = {\n",
    "    \"rf\": rf_search.best_estimator_,\n",
    "    \"gb\": gb_search.best_estimator_,\n",
    "}\n",
    "\n",
    "fig_roc2, ax_roc2 = plt.subplots(figsize=S)\n",
    "plt.plot([0, 1], [0, 1], 'k--')\n",
    "for k,v in ensembles.items():\n",
    "    plot_roc_curve(v, df_train, y_train_binary, name=k, ax=ax_roc2)"
   ]
  },
  {
   "cell_type": "code",
   "execution_count": 20,
   "metadata": {
    "slideshow": {
     "slide_type": "subslide"
    }
   },
   "outputs": [
    {
     "data": {
      "image/png": "[encoded data removed]",
      "text/plain": [
       "<Figure size 576x576 with 1 Axes>"
      ]
     },
     "metadata": {},
     "output_type": "display_data"
    }
   ],
   "source": [
    "fig_prc2, ax_prc2 = plt.subplots(figsize=S)\n",
    "plt.plot([0, 1], [1, 0], 'k--')\n",
    "for k,v in ensembles.items():\n",
    "    plot_precision_recall_curve(v, df_train, y_train_binary, name=k, ax=ax_prc2)"
   ]
  },
  {
   "cell_type": "markdown",
   "metadata": {
    "slideshow": {
     "slide_type": "subslide"
    }
   },
   "source": [
    "#### Ensemble methods: balanced\n",
    "The results are still not very satisfying. We will try balanced Random Forest, using the `class_weight` option in scikit-learn and comparing that next to the `BalancedRandomForestClassifier` from the [imbalanced-learn](https://imbalanced-learn.readthedocs.io/en/stable/) package."
   ]
  },
  {
   "cell_type": "code",
   "execution_count": 21,
   "metadata": {
    "collapsed": true,
    "slideshow": {
     "slide_type": "fragment"
    }
   },
   "outputs": [
    {
     "name": "stdout",
     "output_type": "stream",
     "text": [
      "CPU times: user 2min 17s, sys: 10.9 s, total: 2min 28s\n",
      "Wall time: 2min 38s\n"
     ]
    },
    {
     "data": {
      "text/plain": [
       "GridSearchCV(cv=5,\n",
       "             estimator=Pipeline(steps=[('prep',\n",
       "                                        ColumnTransformer(transformers=[('age',\n",
       "                                                                         Pipeline(steps=[('impute',\n",
       "                                                                                          SimpleImputer(strategy='most_frequent')),\n",
       "                                                                                         ('ordinal',\n",
       "                                                                                          OrdinalEncoder(categories=[['40 '\n",
       "                                                                                                                      'to '\n",
       "                                                                                                                      '49',\n",
       "                                                                                                                      '50 '\n",
       "                                                                                                                      'to '\n",
       "                                                                                                                      '59',\n",
       "                                                                                                                      '60 '\n",
       "                                                                                                                      'to '\n",
       "                                                                                                                      '69',\n",
       "                                                                                                                      '70 '\n",
       "                                                                                                                      'to '\n",
       "                                                                                                                      '79',\n",
       "                                                                                                                      '80 '\n",
       "                                                                                                                      'to '\n",
       "                                                                                                                      '89',\n",
       "                                                                                                                      '90 '\n",
       "                                                                                                                      'to '\n",
       "                                                                                                                      '120']]))]),\n",
       "                                                                         ['age_band']),\n",
       "                                                                        ('gender',\n",
       "                                                                         Pipeline(steps=[('impute',\n",
       "                                                                                          SimpleImputer(stra...\n",
       "                                                                         SimpleImputer(missing_values=999,\n",
       "                                                                                       strategy='median'),\n",
       "                                                                         ['t0_eq_vas'])])),\n",
       "                                       ('rf',\n",
       "                                        RandomForestClassifier(n_jobs=-1,\n",
       "                                                               random_state=42))]),\n",
       "             param_grid={'rf__class_weight': ['balanced'],\n",
       "                         'rf__criterion': ['gini'], 'rf__max_depth': [10, 15],\n",
       "                         'rf__max_features': ['auto'],\n",
       "                         'rf__max_samples': [1000],\n",
       "                         'rf__min_samples_leaf': [1, 2, 5],\n",
       "                         'rf__n_estimators': [100],\n",
       "                         'rf__oob_score': [True, False]})"
      ]
     },
     "execution_count": 21,
     "metadata": {},
     "output_type": "execute_result"
    }
   ],
   "source": [
    "%%time\n",
    "from sklearn.ensemble import RandomForestClassifier\n",
    "\n",
    "\n",
    "brf = Pipeline(\n",
    "    steps=[(\"prep\", prep), (\"brf\", RandomForestClassifier(random_state=42, n_jobs=-1))]\n",
    ")\n",
    "brf_parameters = {\n",
    "    \"rf__max_samples\": [1000],  # don't use the whole dataset: takes too long!\n",
    "    \"rf__n_estimators\": [100],\n",
    "    \"rf__criterion\": [\"gini\"],\n",
    "    \"rf__max_features\": [\"auto\"],\n",
    "    \"rf__min_samples_leaf\": [1, 2, 5],\n",
    "    \"rf__max_depth\": [10, 15],\n",
    "    \"rf__oob_score\": [True, False],\n",
    "    \"rf__class_weight\": [\"balanced\"],\n",
    "}\n",
    "brf_search = GridSearchCV(rf, brf_parameters, cv=5)\n",
    "brf_search.fit(df_train, y_train_binary)"
   ]
  },
  {
   "cell_type": "code",
   "execution_count": 22,
   "metadata": {
    "collapsed": true,
    "slideshow": {
     "slide_type": "subslide"
    }
   },
   "outputs": [
    {
     "name": "stdout",
     "output_type": "stream",
     "text": [
      "CPU times: user 2min 22s, sys: 12 s, total: 2min 34s\n",
      "Wall time: 2min 50s\n"
     ]
    },
    {
     "data": {
      "text/plain": [
       "GridSearchCV(cv=5,\n",
       "             estimator=Pipeline(steps=[('prep',\n",
       "                                        ColumnTransformer(transformers=[('age',\n",
       "                                                                         Pipeline(steps=[('impute',\n",
       "                                                                                          SimpleImputer(strategy='most_frequent')),\n",
       "                                                                                         ('ordinal',\n",
       "                                                                                          OrdinalEncoder(categories=[['40 '\n",
       "                                                                                                                      'to '\n",
       "                                                                                                                      '49',\n",
       "                                                                                                                      '50 '\n",
       "                                                                                                                      'to '\n",
       "                                                                                                                      '59',\n",
       "                                                                                                                      '60 '\n",
       "                                                                                                                      'to '\n",
       "                                                                                                                      '69',\n",
       "                                                                                                                      '70 '\n",
       "                                                                                                                      'to '\n",
       "                                                                                                                      '79',\n",
       "                                                                                                                      '80 '\n",
       "                                                                                                                      'to '\n",
       "                                                                                                                      '89',\n",
       "                                                                                                                      '90 '\n",
       "                                                                                                                      'to '\n",
       "                                                                                                                      '120']]))]),\n",
       "                                                                         ['age_band']),\n",
       "                                                                        ('gender',\n",
       "                                                                         Pipeline(steps=[('impute',\n",
       "                                                                                          SimpleImputer(stra...\n",
       "                                                                         SimpleImputer(missing_values=999,\n",
       "                                                                                       strategy='median'),\n",
       "                                                                         ['t0_eq_vas'])])),\n",
       "                                       ('rf',\n",
       "                                        RandomForestClassifier(n_jobs=-1,\n",
       "                                                               random_state=42))]),\n",
       "             param_grid={'rf__class_weight': ['balanced'],\n",
       "                         'rf__criterion': ['gini'], 'rf__max_depth': [10, 15],\n",
       "                         'rf__max_features': ['auto'],\n",
       "                         'rf__max_samples': [1000],\n",
       "                         'rf__min_samples_leaf': [1, 2, 5],\n",
       "                         'rf__n_estimators': [100],\n",
       "                         'rf__oob_score': [True, False]})"
      ]
     },
     "execution_count": 22,
     "metadata": {},
     "output_type": "execute_result"
    }
   ],
   "source": [
    "%%time\n",
    "from imblearn.ensemble import BalancedRandomForestClassifier\n",
    "\n",
    "\n",
    "ibrf = Pipeline(\n",
    "    steps=[(\"prep\", prep), (\"ibrf\", BalancedRandomForestClassifier(random_state=42, n_jobs=-1))]\n",
    ")\n",
    "ibrf_parameters = {\n",
    "    \"rf__max_samples\": [1000],  # don't use the whole dataset: takes too long!\n",
    "    \"rf__n_estimators\": [100],\n",
    "    \"rf__criterion\": [\"gini\"],\n",
    "    \"rf__max_features\": [\"auto\"],\n",
    "    \"rf__min_samples_leaf\": [1, 2, 5],\n",
    "    \"rf__max_depth\": [10, 15],\n",
    "    \"rf__oob_score\": [True, False],\n",
    "    \"rf__class_weight\": [\"balanced\"],\n",
    "}\n",
    "ibrf_search = GridSearchCV(rf, ibrf_parameters, cv=5)\n",
    "ibrf_search.fit(df_train, y_train_binary)"
   ]
  },
  {
   "cell_type": "code",
   "execution_count": 23,
   "metadata": {
    "collapsed": true,
    "slideshow": {
     "slide_type": "subslide"
    }
   },
   "outputs": [
    {
     "data": {
      "text/plain": [
       "GridSearchCV(cv=5,\n",
       "             estimator=Pipeline(steps=[('prep',\n",
       "                                        ColumnTransformer(transformers=[('age',\n",
       "                                                                         Pipeline(steps=[('impute',\n",
       "                                                                                          SimpleImputer(strategy='most_frequent')),\n",
       "                                                                                         ('ordinal',\n",
       "                                                                                          OrdinalEncoder(categories=[['40 '\n",
       "                                                                                                                      'to '\n",
       "                                                                                                                      '49',\n",
       "                                                                                                                      '50 '\n",
       "                                                                                                                      'to '\n",
       "                                                                                                                      '59',\n",
       "                                                                                                                      '60 '\n",
       "                                                                                                                      'to '\n",
       "                                                                                                                      '69',\n",
       "                                                                                                                      '70 '\n",
       "                                                                                                                      'to '\n",
       "                                                                                                                      '79',\n",
       "                                                                                                                      '80 '\n",
       "                                                                                                                      'to '\n",
       "                                                                                                                      '89',\n",
       "                                                                                                                      '90 '\n",
       "                                                                                                                      'to '\n",
       "                                                                                                                      '120']]))]),\n",
       "                                                                         ['age_band']),\n",
       "                                                                        ('gender',\n",
       "                                                                         Pipeline(steps=[('impute',\n",
       "                                                                                          SimpleImputer(stra...\n",
       "                                                                         SimpleImputer(missing_values=999,\n",
       "                                                                                       strategy='median'),\n",
       "                                                                         ['t0_eq_vas'])])),\n",
       "                                       ('rf',\n",
       "                                        RandomForestClassifier(n_jobs=-1,\n",
       "                                                               random_state=42))]),\n",
       "             param_grid={'rf__class_weight': ['balanced'],\n",
       "                         'rf__criterion': ['gini'], 'rf__max_depth': [10, 15],\n",
       "                         'rf__max_features': ['auto'],\n",
       "                         'rf__max_samples': [1000],\n",
       "                         'rf__min_samples_leaf': [1, 2, 5],\n",
       "                         'rf__n_estimators': [100],\n",
       "                         'rf__oob_score': [True, False]})"
      ]
     },
     "execution_count": 23,
     "metadata": {},
     "output_type": "execute_result"
    }
   ],
   "source": [
    "y_train_binary_inverted = np.invert(y_train_binary)\n",
    "ibrf2 = Pipeline(\n",
    "    steps=[(\"prep\", prep), (\"ibrf\", BalancedRandomForestClassifier(random_state=42, n_jobs=-1))]\n",
    ")\n",
    "ibrf_parameters2 = {\n",
    "    \"rf__max_samples\": [1000],  # don't use the whole dataset: takes too long!\n",
    "    \"rf__n_estimators\": [100],\n",
    "    \"rf__criterion\": [\"gini\"],\n",
    "    \"rf__max_features\": [\"auto\"],\n",
    "    \"rf__min_samples_leaf\": [1, 2, 5],\n",
    "    \"rf__max_depth\": [10, 15],\n",
    "    \"rf__oob_score\": [True, False],\n",
    "    \"rf__class_weight\": [\"balanced\"],\n",
    "}\n",
    "ibrf_search2 = GridSearchCV(rf, ibrf_parameters2, cv=5)\n",
    "ibrf_search2.fit(df_train, y_train_binary_inverted)"
   ]
  },
  {
   "cell_type": "code",
   "execution_count": 30,
   "metadata": {
    "slideshow": {
     "slide_type": "subslide"
    }
   },
   "outputs": [
    {
     "data": {
      "image/png": "[encoded data removed]",
      "text/plain": [
       "<Figure size 576x576 with 1 Axes>"
      ]
     },
     "metadata": {},
     "output_type": "display_data"
    }
   ],
   "source": [
    "ensembles[\"brf\"] = brf_search.best_estimator_\n",
    "ensembles[\"ibrf\"] = ibrf_search.best_estimator_\n",
    "# ensembles[\"ibrf2\"] = ibrf_search2.best_estimator_\n",
    "fig_prc3, ax_prc3 = plt.subplots(figsize=S)\n",
    "plt.plot([0, 1], [1, 0], 'k--')\n",
    "for k,v in ensembles.items():\n",
    "    plot_precision_recall_curve(v, df_train, y_train_binary, name=k, ax=ax_prc3)\n",
    "plot_precision_recall_curve(ibrf_search2.best_estimator_, df_train, y_train_binary_inverted, name=k, ax=ax_prc3);"
   ]
  },
  {
   "cell_type": "markdown",
   "metadata": {
    "slideshow": {
     "slide_type": "slide"
    }
   },
   "source": [
    "#### Bonus: Yellowbrick\n",
    "To further optimze your workflow, you can use [Yellowbrick](https://www.scikit-yb.org/en/latest/index.html) for visualizing results."
   ]
  },
  {
   "cell_type": "code",
   "execution_count": 25,
   "metadata": {
    "slideshow": {
     "slide_type": "subslide"
    }
   },
   "outputs": [
    {
     "name": "stderr",
     "output_type": "stream",
     "text": [
      "No handles with labels found to put in legend.\n"
     ]
    },
    {
     "data": {
      "image/png": "[encoded data removed]",
      "text/plain": [
       "<Figure size 576x396 with 1 Axes>"
      ]
     },
     "metadata": {},
     "output_type": "display_data"
    },
    {
     "data": {
      "text/plain": [
       "<AxesSubplot:title={'center':'ROC Curves for GridSearchCV'}, xlabel='False Positive Rate', ylabel='True Postive Rate'>"
      ]
     },
     "execution_count": 25,
     "metadata": {},
     "output_type": "execute_result"
    }
   ],
   "source": [
    "from yellowbrick.classifier import ROCAUC, PrecisionRecallCurve\n",
    "\n",
    "roc = ROCAUC(sgd_search)\n",
    "roc.fit(df_train, y_train_binary)\n",
    "roc.show()     "
   ]
  },
  {
   "cell_type": "code",
   "execution_count": 26,
   "metadata": {
    "slideshow": {
     "slide_type": "subslide"
    }
   },
   "outputs": [
    {
     "data": {
      "image/png": "[encoded data removed]",
      "text/plain": [
       "<Figure size 576x396 with 1 Axes>"
      ]
     },
     "metadata": {},
     "output_type": "display_data"
    },
    {
     "data": {
      "text/plain": [
       "<AxesSubplot:title={'center':'ROC Curves for LogisticRegression'}, xlabel='False Positive Rate', ylabel='True Postive Rate'>"
      ]
     },
     "execution_count": 26,
     "metadata": {},
     "output_type": "execute_result"
    }
   ],
   "source": [
    "from sklearn.linear_model import LogisticRegression\n",
    "from sklearn.model_selection import train_test_split\n",
    "\n",
    "from yellowbrick.classifier import ROCAUC\n",
    "from yellowbrick.datasets import load_spam\n",
    "\n",
    "# Load the classification dataset\n",
    "X, y = load_spam()\n",
    "\n",
    "# Create the training and test data\n",
    "X_train, X_test, y_train, y_test = train_test_split(X, y, random_state=42)\n",
    "\n",
    "# Instantiate the visualizer with the classification model\n",
    "model = LogisticRegression(multi_class=\"auto\", solver=\"liblinear\")\n",
    "visualizer = ROCAUC(model,)\n",
    "\n",
    "visualizer.fit(X_train, y_train)        # Fit the training data to the visualizer\n",
    "visualizer.score(X_test, y_test)        # Evaluate the model on the test data\n",
    "visualizer.show()                       # Finalize and show the figure"
   ]
  },
  {
   "cell_type": "code",
   "execution_count": 27,
   "metadata": {},
   "outputs": [],
   "source": [
    "# TO DO: sklearn-autoML"
   ]
  },
  {
   "cell_type": "markdown",
   "metadata": {
    "colab_type": "text",
    "id": "uhtn2ycxX-KV"
   },
   "source": [
    "## Model assessment\n",
    "\n",
    "* ...\n",
    "* ..."
   ]
  },
  {
   "cell_type": "code",
   "execution_count": 28,
   "metadata": {},
   "outputs": [],
   "source": [
    "# TO DO: Feature importance"
   ]
  },
  {
   "cell_type": "markdown",
   "metadata": {
    "colab_type": "text",
    "id": "EyYH6A2yUwy3"
   },
   "source": [
    "### Checklist for results from modeling process\n",
    "* ...\n",
    "* ..."
   ]
  },
  {
   "cell_type": "code",
   "execution_count": null,
   "metadata": {
    "colab": {},
    "colab_type": "code",
    "id": "YZWO42C6uTb0"
   },
   "outputs": [],
   "source": []
  }
 ],
 "metadata": {
  "celltoolbar": "Slideshow",
  "colab": {
   "include_colab_link": true,
   "name": "4.0-modeling-clustering-classification.ipynb",
   "provenance": [],
   "toc_visible": true
  },
  "hide_input": false,
  "kernelspec": {
   "display_name": "JADS NHS PROMs",
   "language": "python",
   "name": "jads-nhs-proms"
  },
  "language_info": {
   "codemirror_mode": {
    "name": "ipython",
    "version": 3
   },
   "file_extension": ".py",
   "mimetype": "text/x-python",
   "name": "python",
   "nbconvert_exporter": "python",
   "pygments_lexer": "ipython3",
   "version": "3.7.6"
  },
  "toc": {
   "base_numbering": 1,
   "nav_menu": {},
   "number_sections": true,
   "sideBar": true,
   "skip_h1_title": true,
   "title_cell": "Table of Contents",
   "title_sidebar": "Contents",
   "toc_cell": false,
   "toc_position": {},
   "toc_section_display": true,
   "toc_window_display": true
  }
 },
 "nbformat": 4,
 "nbformat_minor": 1
}

{
 "cells": [
  {
   "cell_type": "markdown",
   "metadata": {
    "colab_type": "text",
    "id": "view-in-github"
   },
   "source": [
    "<a href=\"https://colab.research.google.com/github/dkapitan/jads-nhs-proms/blob/master/notebooks/4.0-modeling-clustering-classification.ipynb\" target=\"_parent\"><img src=\"https://colab.research.google.com/assets/colab-badge.svg\" alt=\"Open In Colab\"/></a>"
   ]
  },
  {
   "cell_type": "markdown",
   "metadata": {
    "colab_type": "text",
    "id": "QeHjN1GFNwqC"
   },
   "source": [
    "# Background to osteoarthritis case study\n",
    "\n",
    "This is day 4 from the [5-day JADS NHS PROMs data science case study](https://github.com/dkapitan/jads-nhs-proms/blob/master/README.md). To recap the previous lectures:\n",
    "\n",
    "- In **lecture 1** we focused on data understanding and explored various possible outcome parameters.\n",
    "- In **lecture 2** we constructed a combined outcome parameter using cut-off points for pain and physical functioning.\n",
    "- In **lecture 3** we performed regression and linear modeling on the outcome paramter `t1_eq_vas`.\n",
    "\n",
    "Today we are going to focus on classifcation."
   ]
  },
  {
   "cell_type": "markdown",
   "metadata": {
    "colab_type": "text",
    "id": "ps-NB5SwlrNd"
   },
   "source": [
    "# Modeling: clustering & classfication"
   ]
  },
  {
   "cell_type": "markdown",
   "metadata": {
    "colab_type": "text",
    "id": "C1bEDtlnF4a9"
   },
   "source": [
    "## Learning objectives\n",
    "### Modeling: classification\n",
    "\n",
    "Recall we defined different outcome Y suitable for classification in lecture 2:\n",
    "\n",
    "- `y_mcid`: outcome is good (True/1) if `t1_oks_score` is above the threshold or `delta_oks_score` is larger than MCID\n",
    "- `y_t1_pain_good` and `y_t1_functioning_good`: combination of two binary outcomes, yielding a total of 4 classes.\n",
    "\n",
    "We will use the second outcome since it is more challenging and versatile (see [this presentation (in Dutch)](https://kapitan.net/wp-content/uploads/2018/11/181108_data_driven_healthcare_congres.pdf) for more details):\n",
    "- perform a binary classification, defining good outcome where both pain and functioning is good at `t1`\n",
    "- perform multiclass classification.\n",
    "\n",
    "We will compare the performance of single estimators (SVM, Decision tree) with ensemble learning (Random Forest, Gradient Boosting). Grid search and cross validation is done for model assessment. Some examples are given to visualize scoring functions of models to aid in model selection.\n",
    "\n",
    "\n",
    "### Python: Hands-on Machine Learning (2nd edition)\n",
    "\n",
    "- [Classification (chapter 3](https://github.com/ageron/handson-ml2/blob/master/03_classification.ipynb)\n",
    "- [Support-vector machines (chapter 5](https://github.com/ageron/handson-ml2/blob/master/05_support_vector_machines.ipynb)\n",
    "- [Decision trees (chapter 6)](https://github.com/ageron/handson-ml2/blob/master/06_decision_trees.ipynb)\n",
    "- [Ensemble learning and random forests (chapter 7](https://github.com/ageron/handson-ml2/blob/master/07_ensemble_learning_and_random_forests.ipynb)\n",
    "\n",
    "### scikit-learn\n",
    "- [Demonstration of multi-metric evaluation on cross_val_score and GridSearchCV](https://scikit-learn.org/stable/auto_examples/model_selection/plot_multi_metric_evaluation.html#sphx-glr-auto-examples-model-selection-plot-multi-metric-evaluation-py)\n",
    "\n",
    "So let's start by re-running the relevant code from previous lectures."
   ]
  },
  {
   "cell_type": "code",
   "execution_count": 1,
   "metadata": {
    "colab": {},
    "colab_type": "code",
    "id": "_95_D3ywlrNh"
   },
   "outputs": [],
   "source": [
    "import warnings\n",
    "import numpy as np\n",
    "import pandas as pd\n",
    "import matplotlib as mpl\n",
    "import matplotlib.pyplot as plt\n",
    "from sklearn.impute import SimpleImputer\n",
    "from sklearn.model_selection import StratifiedShuffleSplit\n",
    "\n",
    "#supressing warnings for readability\n",
    "warnings.filterwarnings(\"ignore\")\n",
    "\n",
    "# To plot pretty figures directly within Jupyter\n",
    "%matplotlib inline\n",
    "\n",
    "# choose your own style: https://matplotlib.org/3.1.0/gallery/style_sheets/style_sheets_reference.html\n",
    "plt.style.use('seaborn-whitegrid')\n",
    "\n",
    "# Go to town with https://matplotlib.org/tutorials/introductory/customizing.html\n",
    "# plt.rcParams.keys()\n",
    "mpl.rc('axes', labelsize=14, titlesize=14)\n",
    "mpl.rc('figure', titlesize=20)\n",
    "mpl.rc('xtick', labelsize=12)\n",
    "mpl.rc('ytick', labelsize=12)\n",
    "\n",
    "# contants for figsize\n",
    "S = (8,8)\n",
    "M = (12,12)\n",
    "L = (14,14)\n",
    "\n",
    "# pandas options\n",
    "pd.set_option(\"display.max.columns\", None)\n",
    "pd.set_option(\"display.max.rows\", None)\n",
    "pd.set_option(\"display.precision\", 2)\n",
    "\n",
    "# read data\n",
    "df = pd.read_parquet('https://github.com/dkapitan/jads-nhs-proms/blob/master/data/interim/knee-provider.parquet?raw=true')"
   ]
  },
  {
   "cell_type": "code",
   "execution_count": 2,
   "metadata": {},
   "outputs": [],
   "source": [
    "# handy function to select oks columns\n",
    "def oks_questions(t='t0'):\n",
    "  return [\n",
    "    col for col in df.columns if col.startswith(f\"oks_{t}\") and not col.endswith(\"_score\")\n",
    "]\n",
    "\n",
    "# replace sentinel values in oks columns\n",
    "# note we are doing imputation on original dataframe (rather than in pipeline later on)\n",
    "# so we can perform it prior to StratefiedShuffleSplit\n",
    "oks_no9 = oks_questions('t0') + oks_questions('t1')\n",
    "impute_oks = SimpleImputer(missing_values=9, strategy=\"most_frequent\")\n",
    "df.loc[:, oks_no9] = impute_oks.fit_transform(df[oks_no9])\n",
    "\n",
    "# group columns t0\n",
    "age_band = [\"age_band\"]\n",
    "gender = [\"gender\"]\n",
    "age_band_categories = sorted([x for x in df.age_band.unique() if isinstance(x, str)])\n",
    "comorb = [\n",
    "    \"heart_disease\",\n",
    "    \"high_bp\",\n",
    "    \"stroke\",\n",
    "    \"circulation\",\n",
    "    \"lung_disease\",\n",
    "    \"diabetes\",\n",
    "    \"kidney_disease\",\n",
    "    \"nervous_system\",\n",
    "    \"liver_disease\",\n",
    "    \"cancer\",\n",
    "    \"depression\",\n",
    "    \"arthritis\",\n",
    "]\n",
    "boolean = [\"t0_assisted\", \"t0_previous_surgery\", \"t0_disability\"]\n",
    "eq5d = [\"t0_mobility\", \"t0_self_care\", \"t0_activity\", \"t0_discomfort\", \"t0_anxiety\"]\n",
    "eq_vas = [\"t0_eq_vas\"]\n",
    "categorical = [\"t0_symptom_period\", \"t0_previous_surgery\", \"t0_living_arrangements\"]\n",
    "oks_score = [\"oks_t0_score\"]\n",
    "\n",
    "# add number of comorbidities as extra feature\n",
    "impute_comorb = SimpleImputer(missing_values=9, strategy=\"constant\", fill_value=0)\n",
    "df.loc[:, comorb] = impute_comorb.fit_transform(df[comorb])\n",
    "df[\"n_comorb\"] = df.loc[:, comorb].sum()\n",
    "\n",
    "\n",
    "# define outcome Y\n",
    "CUT_OFF_PAIN = 4\n",
    "CUT_OFF_FUNCTIONING = 26\n",
    "\n",
    "for t in (\"t0\", \"t1\"):\n",
    "    df[f\"oks_{t}_pain_total\"] = df[f\"oks_{t}_pain\"] + df[f\"oks_{t}_night_pain\"]\n",
    "    df[f\"oks_{t}_functioning_total\"] = (\n",
    "        df.loc[:, [col for col in oks_questions(t) if \"pain\" not in col]]\n",
    "        .sum(axis=1)\n",
    "    )\n",
    "    df[f\"y_{t}_pain_good\"] = df[f\"oks_{t}_pain_total\"].apply(\n",
    "        lambda s: True if s >= CUT_OFF_PAIN else False\n",
    "    )\n",
    "    df[f\"y_{t}_functioning_good\"] = df[f\"oks_{t}_functioning_total\"].apply(\n",
    "        lambda s: True if s >= CUT_OFF_FUNCTIONING else False\n",
    "    )\n",
    "\n",
    "# define binary outcome parameter\n",
    "df[\"y_binary\"] = np.logical_and(df.y_t1_pain_good, df.y_t1_functioning_good)\n",
    "\n",
    "# Only using 1 split for stratefied sampling, more folds are used later on in cross-validation\n",
    "split = StratifiedShuffleSplit(n_splits=1, test_size=0.3, random_state=42)\n",
    "for train_index, test_index in split.split(df, df[\"y_binary\"]):\n",
    "    df_train = df.loc[train_index]\n",
    "    df_test = df.loc[test_index]\n",
    "    \n",
    "y_train_pain_good = df_train.y_t1_pain_good\n",
    "y_train_pain_good = df_train.y_t1_functioning_good\n",
    "y_train_binary = df_train.y_binary"
   ]
  },
  {
   "cell_type": "code",
   "execution_count": 3,
   "metadata": {},
   "outputs": [
    {
     "data": {
      "text/html": [
       "<div>\n",
       "<style scoped>\n",
       "    .dataframe tbody tr th:only-of-type {\n",
       "        vertical-align: middle;\n",
       "    }\n",
       "\n",
       "    .dataframe tbody tr th {\n",
       "        vertical-align: top;\n",
       "    }\n",
       "\n",
       "    .dataframe thead th {\n",
       "        text-align: right;\n",
       "    }\n",
       "</style>\n",
       "<table border=\"1\" class=\"dataframe\">\n",
       "  <thead>\n",
       "    <tr style=\"text-align: right;\">\n",
       "      <th>y_t0_functioning_good</th>\n",
       "      <th>False</th>\n",
       "      <th>True</th>\n",
       "    </tr>\n",
       "    <tr>\n",
       "      <th>y_t0_pain_good</th>\n",
       "      <th></th>\n",
       "      <th></th>\n",
       "    </tr>\n",
       "  </thead>\n",
       "  <tbody>\n",
       "    <tr>\n",
       "      <th>False</th>\n",
       "      <td>0.81</td>\n",
       "      <td>0.07</td>\n",
       "    </tr>\n",
       "    <tr>\n",
       "      <th>True</th>\n",
       "      <td>0.08</td>\n",
       "      <td>0.05</td>\n",
       "    </tr>\n",
       "  </tbody>\n",
       "</table>\n",
       "</div>"
      ],
      "text/plain": [
       "y_t0_functioning_good  False  True \n",
       "y_t0_pain_good                     \n",
       "False                   0.81   0.07\n",
       "True                    0.08   0.05"
      ]
     },
     "execution_count": 3,
     "metadata": {},
     "output_type": "execute_result"
    }
   ],
   "source": [
    "pd.crosstab(df_train.y_t0_pain_good, df_train.y_t0_functioning_good, normalize=True)"
   ]
  },
  {
   "cell_type": "code",
   "execution_count": 4,
   "metadata": {},
   "outputs": [
    {
     "data": {
      "text/html": [
       "<div>\n",
       "<style scoped>\n",
       "    .dataframe tbody tr th:only-of-type {\n",
       "        vertical-align: middle;\n",
       "    }\n",
       "\n",
       "    .dataframe tbody tr th {\n",
       "        vertical-align: top;\n",
       "    }\n",
       "\n",
       "    .dataframe thead th {\n",
       "        text-align: right;\n",
       "    }\n",
       "</style>\n",
       "<table border=\"1\" class=\"dataframe\">\n",
       "  <thead>\n",
       "    <tr style=\"text-align: right;\">\n",
       "      <th>y_t1_functioning_good</th>\n",
       "      <th>False</th>\n",
       "      <th>True</th>\n",
       "    </tr>\n",
       "    <tr>\n",
       "      <th>y_t1_pain_good</th>\n",
       "      <th></th>\n",
       "      <th></th>\n",
       "    </tr>\n",
       "  </thead>\n",
       "  <tbody>\n",
       "    <tr>\n",
       "      <th>False</th>\n",
       "      <td>0.15</td>\n",
       "      <td>0.06</td>\n",
       "    </tr>\n",
       "    <tr>\n",
       "      <th>True</th>\n",
       "      <td>0.08</td>\n",
       "      <td>0.71</td>\n",
       "    </tr>\n",
       "  </tbody>\n",
       "</table>\n",
       "</div>"
      ],
      "text/plain": [
       "y_t1_functioning_good  False  True \n",
       "y_t1_pain_good                     \n",
       "False                   0.15   0.06\n",
       "True                    0.08   0.71"
      ]
     },
     "execution_count": 4,
     "metadata": {},
     "output_type": "execute_result"
    }
   ],
   "source": [
    "pd.crosstab(df_train.y_t1_pain_good, df_train.y_t1_functioning_good, normalize=True)"
   ]
  },
  {
   "cell_type": "code",
   "execution_count": 5,
   "metadata": {},
   "outputs": [],
   "source": [
    "# same pipeline as lecture 3\n",
    "from sklearn.pipeline import Pipeline\n",
    "from sklearn.preprocessing import OrdinalEncoder, OneHotEncoder\n",
    "from sklearn.compose import ColumnTransformer\n",
    "\n",
    "\n",
    "# preprocessing pipelines for specific columns\n",
    "age_band_pipe = Pipeline(\n",
    "    steps=[\n",
    "        (\"impute\", SimpleImputer(missing_values=np.nan, strategy=\"most_frequent\")),\n",
    "        (\"ordinal\", OrdinalEncoder(categories=[age_band_categories])),\n",
    "    ]\n",
    ")\n",
    "gender_pipe = Pipeline(\n",
    "    steps=[\n",
    "        (\"impute\", SimpleImputer(missing_values=np.nan, strategy=\"most_frequent\")),\n",
    "        (\"onehot\", OneHotEncoder()),\n",
    "    ]\n",
    ")\n",
    "\n",
    "# ColumnTransformer on all included columns.\n",
    "# Note columns that are not specified are dropped by default\n",
    "transformers = {\n",
    "    \"age\": (\"age\", age_band_pipe, age_band),\n",
    "    \"gender\": (\"gender\", gender_pipe, gender),\n",
    "    \"comorb\": (\n",
    "        \"comorb\",\n",
    "        'passthrough',\n",
    "        comorb,\n",
    "    ),\n",
    "    \"categorical\": (\n",
    "        \"categorical\",\n",
    "        SimpleImputer(missing_values=9, strategy=\"most_frequent\"),\n",
    "        boolean + eq5d + categorical,\n",
    "    ),\n",
    "    \"oks\": (\n",
    "        \"oks\",\n",
    "        'passthrough',\n",
    "        oks_questions('t0'),\n",
    "    ),\n",
    "    \"eq_vas\": (\"eqvas\", SimpleImputer(missing_values=999, strategy=\"median\"), eq_vas),\n",
    "}\n",
    "prep = ColumnTransformer(\n",
    "    transformers=[v for _, v in transformers.items()])\n",
    "\n",
    "# X_train = prep.fit_transform(df_train)\n",
    "# X_test = prep.fit_transform(df_test)\n",
    "\n",
    "# list of columns for convenience\n",
    "# https://stackoverflow.com/questions/54646709/sklearn-pipeline-get-feature-name-after-onehotencode-in-columntransformer\n",
    "# X_columns = pd.Series(\n",
    "#     age_band\n",
    "#     + prep.named_transformers_[\"gender\"][\"onehot\"].get_feature_names().tolist()\n",
    "#     + comorb\n",
    "#     + boolean\n",
    "#     + eq5d\n",
    "#     + categorical\n",
    "#     + oks_questions('t0')\n",
    "#     + oks_score\n",
    "#     + eq_vas\n",
    "# )"
   ]
  },
  {
   "cell_type": "markdown",
   "metadata": {
    "colab_type": "text",
    "id": "kw3m1k3EI6NK"
   },
   "source": [
    "## Classification\n",
    "\n",
    "### Single estimators\n",
    "#### Stochastic Gradient Descent"
   ]
  },
  {
   "cell_type": "code",
   "execution_count": 7,
   "metadata": {},
   "outputs": [
    {
     "data": {
      "text/plain": [
       "GridSearchCV(cv=5, error_score=nan,\n",
       "             estimator=Pipeline(memory=None,\n",
       "                                steps=[('prep',\n",
       "                                        ColumnTransformer(n_jobs=None,\n",
       "                                                          remainder='drop',\n",
       "                                                          sparse_threshold=0.3,\n",
       "                                                          transformer_weights=None,\n",
       "                                                          transformers=[('age',\n",
       "                                                                         Pipeline(memory=None,\n",
       "                                                                                  steps=[('impute',\n",
       "                                                                                          SimpleImputer(add_indicator=False,\n",
       "                                                                                                        copy=True,\n",
       "                                                                                                        fill_value=None,\n",
       "                                                                                                        missing_values=nan,\n",
       "                                                                                                        strategy='most_frequent',\n",
       "                                                                                                        verbose=0)),\n",
       "                                                                                         ('...\n",
       "                                                      n_iter_no_change=5,\n",
       "                                                      n_jobs=None, penalty='l2',\n",
       "                                                      power_t=0.5,\n",
       "                                                      random_state=None,\n",
       "                                                      shuffle=True, tol=0.001,\n",
       "                                                      validation_fraction=0.1,\n",
       "                                                      verbose=0,\n",
       "                                                      warm_start=False))],\n",
       "                                verbose=False),\n",
       "             iid='deprecated', n_jobs=None,\n",
       "             param_grid={'sgd__loss': ['hinge'], 'sgd__max_iter': [2, 5, 10],\n",
       "                         'sgd__penalty': ['l2']},\n",
       "             pre_dispatch='2*n_jobs', refit=True, return_train_score=False,\n",
       "             scoring=None, verbose=0)"
      ]
     },
     "execution_count": 7,
     "metadata": {},
     "output_type": "execute_result"
    }
   ],
   "source": [
    "from sklearn.linear_model import SGDClassifier\n",
    "from sklearn.model_selection import GridSearchCV\n",
    "\n",
    "\n",
    "sgd = SGDClassifier(loss=\"hinge\", penalty=\"l2\", max_iter=5)\n",
    "sgd_pipe = Pipeline(steps=[('prep', prep),\n",
    "('sgd', sgd)])\n",
    "\n",
    "# https://scikit-learn.org/stable/tutorial/statistical_inference/putting_together.html\n",
    "sgd_parameters = {\n",
    "'sgd__loss': ['hinge'],\n",
    "'sgd__penalty': ['l2'],\n",
    "'sgd__max_iter': [2, 5, 10]\n",
    "}\n",
    "\n",
    "sgd_search = GridSearchCV(sgd_pipe, sgd_parameters, cv=5)\n",
    "sgd_search.fit(df_train, y_train_binary)\n",
    "\n"
   ]
  },
  {
   "cell_type": "code",
   "execution_count": 10,
   "metadata": {},
   "outputs": [
    {
     "data": {
      "text/plain": [
       "array([[0.11814498, 0.17451393],\n",
       "       [0.10172883, 0.60561227]])"
      ]
     },
     "execution_count": 10,
     "metadata": {},
     "output_type": "execute_result"
    }
   ],
   "source": [
    "from sklearn.metrics import confusion_matrix, roc_auc_score\n",
    "confusion_matrix(y_train_binary, sgd_search.best_estimator_.predict(df_train), normalize='all')"
   ]
  },
  {
   "cell_type": "markdown",
   "metadata": {},
   "source": [
    "#### Decision tree"
   ]
  },
  {
   "cell_type": "code",
   "execution_count": 12,
   "metadata": {},
   "outputs": [
    {
     "data": {
      "text/plain": [
       "GridSearchCV(cv=5, error_score=nan,\n",
       "             estimator=Pipeline(memory=None,\n",
       "                                steps=[('prep',\n",
       "                                        ColumnTransformer(n_jobs=None,\n",
       "                                                          remainder='drop',\n",
       "                                                          sparse_threshold=0.3,\n",
       "                                                          transformer_weights=None,\n",
       "                                                          transformers=[('age',\n",
       "                                                                         Pipeline(memory=None,\n",
       "                                                                                  steps=[('impute',\n",
       "                                                                                          SimpleImputer(add_indicator=False,\n",
       "                                                                                                        copy=True,\n",
       "                                                                                                        fill_value=None,\n",
       "                                                                                                        missing_values=nan,\n",
       "                                                                                                        strategy='most_frequent',\n",
       "                                                                                                        verbose=0)),\n",
       "                                                                                         ('...\n",
       "                                                               min_impurity_split=None,\n",
       "                                                               min_samples_leaf=1,\n",
       "                                                               min_samples_split=2,\n",
       "                                                               min_weight_fraction_leaf=0.0,\n",
       "                                                               presort='deprecated',\n",
       "                                                               random_state=42,\n",
       "                                                               splitter='best'))],\n",
       "                                verbose=False),\n",
       "             iid='deprecated', n_jobs=None,\n",
       "             param_grid={'cart__max_depth': [10, 30],\n",
       "                         'cart__min_samples_leaf': [0.02, 0.05, 0.1, 0.2]},\n",
       "             pre_dispatch='2*n_jobs', refit=True, return_train_score=False,\n",
       "             scoring=None, verbose=0)"
      ]
     },
     "execution_count": 12,
     "metadata": {},
     "output_type": "execute_result"
    }
   ],
   "source": [
    "from sklearn.tree import DecisionTreeClassifier\n",
    "\n",
    "cart = DecisionTreeClassifier(random_state=42)\n",
    "cart_pipe = Pipeline(\n",
    "    steps=[\n",
    "        (\"prep\", prep),\n",
    "        (\"cart\", cart),\n",
    "    ]\n",
    ")\n",
    "\n",
    "cart_parameters = {\n",
    "'cart__max_depth': [10, 30],\n",
    "'cart__min_samples_leaf': [0.02, 0.05, 0.1, 0.2],\n",
    "}\n",
    "\n",
    "cart_search = GridSearchCV(cart_pipe, cart_parameters, cv=5)\n",
    "cart_search.fit(df_train, y_train_binary)"
   ]
  },
  {
   "cell_type": "code",
   "execution_count": 13,
   "metadata": {},
   "outputs": [
    {
     "data": {
      "text/plain": [
       "array([[0.05869799, 0.23396091],\n",
       "       [0.03967578, 0.66766532]])"
      ]
     },
     "execution_count": 13,
     "metadata": {},
     "output_type": "execute_result"
    }
   ],
   "source": [
    "confusion_matrix(y_train_binary, cart_search.best_estimator_.predict(df_train), normalize='all')"
   ]
  },
  {
   "cell_type": "markdown",
   "metadata": {},
   "source": [
    "#### LinearSVC  "
   ]
  },
  {
   "cell_type": "code",
   "execution_count": null,
   "metadata": {},
   "outputs": [],
   "source": [
    "from sklearn.svm import LinearSVC\n",
    "\n",
    "svm = Pipeline(steps=[(\"prep\", prep), (\"clf\", LinearSVC(random_state=42))])"
   ]
  },
  {
   "cell_type": "markdown",
   "metadata": {
    "colab_type": "text",
    "id": "EZMdkbZyJoru"
   },
   "source": [
    "## Ensemble methods: Random Forest & GradientBoosted Trees\n"
   ]
  },
  {
   "cell_type": "code",
   "execution_count": null,
   "metadata": {},
   "outputs": [],
   "source": [
    "type(df)"
   ]
  },
  {
   "cell_type": "code",
   "execution_count": null,
   "metadata": {
    "colab": {},
    "colab_type": "code",
    "id": "w-4srrk5JErU"
   },
   "outputs": [],
   "source": [
    "from sklearn.ensemble import RandomForestClassifier\n",
    "from sklearn.ensemble import GradientBoostingClassifier\n",
    "\n",
    "\n",
    "rf_clf = Pipeline(steps=[('prep', prep),\n",
    "                          ('rf', RandomForestClassifier(n_estimators=100,\n",
    "                                                        random_state=42))])\n",
    "gb_clf = Pipeline(steps=[('prep', prep),\n",
    "                          ('gb', GradientBoostingClassifier(n_estimators=100, learning_rate=1.0))])"
   ]
  },
  {
   "cell_type": "code",
   "execution_count": null,
   "metadata": {
    "colab": {
     "base_uri": "https://localhost:8080/",
     "height": 34
    },
    "colab_type": "code",
    "id": "j0Hlv--UvLii",
    "outputId": "95e2d292-218d-4c04-9c39-e8b1d188abfc"
   },
   "outputs": [],
   "source": [
    "rf_clf.fit(X_train, y_train)\n",
    "print(f'Random Forest model score: {rf_clf.score(X_test, y_test):.2f}')"
   ]
  },
  {
   "cell_type": "code",
   "execution_count": null,
   "metadata": {
    "colab": {
     "base_uri": "https://localhost:8080/",
     "height": 34
    },
    "colab_type": "code",
    "id": "h9tFEDaQwa5p",
    "outputId": "245e256d-6af1-41e2-93db-be9aee00c1f8"
   },
   "outputs": [],
   "source": [
    "svm_clf.fit(X_train, y_train)\n",
    "print(f'SVM model score: {svm_clf.score(X_test, y_test):.2f}')"
   ]
  },
  {
   "cell_type": "markdown",
   "metadata": {
    "colab_type": "text",
    "id": "UXRVdLXMUrCy"
   },
   "source": [
    "# Conclusion and reflection"
   ]
  },
  {
   "cell_type": "markdown",
   "metadata": {
    "colab_type": "text",
    "id": "uhtn2ycxX-KV"
   },
   "source": [
    "## Discussion of results\n",
    "\n",
    "* ...\n",
    "* ..."
   ]
  },
  {
   "cell_type": "markdown",
   "metadata": {
    "colab_type": "text",
    "id": "EyYH6A2yUwy3"
   },
   "source": [
    "## Checklist for results from data preparation process\n",
    "* ...\n",
    "* ..."
   ]
  },
  {
   "cell_type": "code",
   "execution_count": null,
   "metadata": {
    "colab": {},
    "colab_type": "code",
    "id": "YZWO42C6uTb0"
   },
   "outputs": [],
   "source": []
  }
 ],
 "metadata": {
  "celltoolbar": "Slideshow",
  "colab": {
   "include_colab_link": true,
   "name": "4.0-modeling-clustering-classification.ipynb",
   "provenance": [],
   "toc_visible": true
  },
  "hide_input": false,
  "kernelspec": {
   "display_name": "Python 3",
   "language": "python",
   "name": "python3"
  },
  "language_info": {
   "codemirror_mode": {
    "name": "ipython",
    "version": 3
   },
   "file_extension": ".py",
   "mimetype": "text/x-python",
   "name": "python",
   "nbconvert_exporter": "python",
   "pygments_lexer": "ipython3",
   "version": "3.7.6"
  },
  "toc": {
   "base_numbering": 1,
   "nav_menu": {},
   "number_sections": true,
   "sideBar": true,
   "skip_h1_title": true,
   "title_cell": "Table of Contents",
   "title_sidebar": "Contents",
   "toc_cell": false,
   "toc_position": {},
   "toc_section_display": true,
   "toc_window_display": false
  }
 },
 "nbformat": 4,
 "nbformat_minor": 1
}

{
  "nbformat": 4,
  "nbformat_minor": 0,
  "metadata": {
    "hide_input": false,
    "kernelspec": {
      "display_name": "Python 3",
      "language": "python",
      "name": "python3"
    },
    "language_info": {
      "codemirror_mode": {
        "name": "ipython",
        "version": 3
      },
      "file_extension": ".py",
      "mimetype": "text/x-python",
      "name": "python",
      "nbconvert_exporter": "python",
      "pygments_lexer": "ipython3",
      "version": "3.7.6"
    },
    "colab": {
      "name": "4.0-modeling-clustering-classification.ipynb",
      "provenance": [],
      "toc_visible": true,
      "include_colab_link": true
    }
  },
  "cells": [
    {
      "cell_type": "markdown",
      "metadata": {
        "id": "view-in-github",
        "colab_type": "text"
      },
      "source": [
        "<a href=\"https://colab.research.google.com/github/dkapitan/jads-nhs-proms/blob/master/notebooks/4.0-modeling-clustering-classification.ipynb\" target=\"_parent\"><img src=\"https://colab.research.google.com/assets/colab-badge.svg\" alt=\"Open In Colab\"/></a>"
      ]
    },
    {
      "cell_type": "markdown",
      "metadata": {
        "id": "QeHjN1GFNwqC",
        "colab_type": "text"
      },
      "source": [
        "# Background to osteoarthritis case study\n",
        "\n",
        "_taken from [narrative seminar Osteoarthritis by Hunter & Bierma-Zeinstra (2019) in the Lancet](https://github.com/dkapitan/jads-nhs-proms/blob/master/references/hunter2019osteaoarthritis.pdf)._\n",
        "\n",
        "Outcomes from total joint replacement can be optimised if patient selection identifies marked joint space narrowing. Most improvement will be made in patients with complete joint space loss and evident bone attrition. Up to 25% of patients presenting for total joint replacement continue to complain of pain and disability 1 year after well performed surgery. Careful preoperative patient selection (including consideration of the poor outcomes that are more common in people who are depressed, have minimal radiographic disease, have minimal pain, and who are morbidly obese), shared decision making about surgery, and informing patients about realistic outcomes of surgery are needed to minimise the likelihood of dissatisfaction."
      ]
    },
    {
      "cell_type": "markdown",
      "metadata": {
        "id": "ps-NB5SwlrNd",
        "colab_type": "text"
      },
      "source": [
        "# Data Preparation\n",
        "\n",
        "This is day 4 from the [5-day JADS NHS PROMs data science case study](https://github.com/dkapitan/jads-nhs-proms/blob/master/references/outline.md).\n"
      ]
    },
    {
      "cell_type": "markdown",
      "metadata": {
        "id": "C1bEDtlnF4a9",
        "colab_type": "text"
      },
      "source": [
        "\n",
        "## Learning objectives: modeling\n",
        "- ...\n"
      ]
    },
    {
      "cell_type": "markdown",
      "metadata": {
        "id": "osBitZ5yF7lM",
        "colab_type": "text"
      },
      "source": [
        "## Learning objectives: Hands-on Machine Learning (2nd edition)\n",
        "\n",
        "- [Unsupervised learning (chapter 9)](https://github.com/ageron/handson-ml2/blob/master/09_unsupervised_learning.ipynb)\n",
        "- [Classification (chapter 3](https://github.com/ageron/handson-ml2/blob/master/03_classification.ipynb)\n",
        "- [Support-vector machines (chapter 5](https://github.com/ageron/handson-ml2/blob/master/05_support_vector_machines.ipynb)\n",
        "- [Decision trees (chapter 6)](https://github.com/ageron/handson-ml2/blob/master/06_decision_trees.ipynb)\n",
        "- [Ensemble learning and random forests (chapter 7](https://github.com/ageron/handson-ml2/blob/master/07_ensemble_learning_and_random_forests.ipynb)"
      ]
    },
    {
      "cell_type": "markdown",
      "metadata": {
        "id": "npvciVNWF_0U",
        "colab_type": "text"
      },
      "source": [
        "## Recap from previous lecture\n",
        "- Good outcome for knee replacement Y is measured using difference in Oxford Knee Score (OKS)\n",
        "- Research has shown that an improvement in OKS score of approx. 30% is relevant ([van der Wees 2017](https://github.com/dkapitan/jads-nhs-proms/blob/master/references/vanderwees2017patient-reported.pdf)). Hence an increase of +14 points is considered a 'good' outcome.\n",
        "- to account for the ceiling effect, a high final `t1_oks_score` is also considered as a good outcome (even if `delta_oks_score` is smaller than 14).\n",
        "\n",
        "    "
      ]
    },
    {
      "cell_type": "markdown",
      "metadata": {
        "id": "tGkaSFtoDRsm",
        "colab_type": "text"
      },
      "source": [
        "# Cleaning data\n"
      ]
    },
    {
      "cell_type": "code",
      "metadata": {
        "id": "_95_D3ywlrNh",
        "colab_type": "code",
        "colab": {}
      },
      "source": [
        "import warnings\n",
        "import numpy as np\n",
        "import pandas as pd\n",
        "import matplotlib as mpl\n",
        "import matplotlib.pyplot as plt\n",
        "from sklearn.feature_selection import chi2, VarianceThreshold\n",
        "import sklearn.linear_model\n",
        "\n",
        "#supressing warnings for readability\n",
        "warnings.filterwarnings(\"ignore\")\n",
        "\n",
        "# To plot pretty figures directly within Jupyter\n",
        "%matplotlib inline\n",
        "\n",
        "# choose your own style: https://matplotlib.org/3.1.0/gallery/style_sheets/style_sheets_reference.html\n",
        "plt.style.use('ggplot')\n",
        "\n",
        "# Go to town with https://matplotlib.org/tutorials/introductory/customizing.html\n",
        "# plt.rcParams.keys()\n",
        "mpl.rc('axes', labelsize=14, titlesize=14)\n",
        "mpl.rc('figure', titlesize=20)\n",
        "mpl.rc('xtick', labelsize=12)\n",
        "mpl.rc('ytick', labelsize=12)\n",
        "\n",
        "# contants for figsize\n",
        "S = (8,8)\n",
        "M = (12,12)\n",
        "L = (14,14)\n",
        "\n",
        "# pandas options\n",
        "pd.set_option(\"display.max.columns\", None)\n",
        "pd.set_option(\"display.max.rows\", None)\n",
        "pd.set_option(\"display.precision\", 2)\n",
        "\n",
        "# import data\n",
        "df = pd.read_parquet('https://github.com/dkapitan/jads-nhs-proms/blob/master/data/interim/knee-provider.parquet?raw=true')"
      ],
      "execution_count": 0,
      "outputs": []
    },
    {
      "cell_type": "markdown",
      "metadata": {
        "id": "dJDC2qMzPDf6",
        "colab_type": "text"
      },
      "source": [
        "## Recap data preparation (see day 2)"
      ]
    },
    {
      "cell_type": "code",
      "metadata": {
        "id": "sTqApjEpKElS",
        "colab_type": "code",
        "outputId": "656b705b-9396-4f72-e2d3-0acba5f558dc",
        "colab": {
          "base_uri": "https://localhost:8080/",
          "height": 545
        }
      },
      "source": [
        "# TO DO: refactor code into nice function\n",
        "# and show how pipeline works in sklearn\n",
        "\n",
        "comorb = ['heart_disease', 'high_bp', 'stroke', 'circulation', 'lung_disease', 'diabetes',\n",
        "           'kidney_disease', 'nervous_system', 'liver_disease', 'cancer', 'depression', 'arthritis']\n",
        "boolean = ['t0_assisted', 't0_previous_surgery', 't0_disability']\n",
        "eq5d = ['t0_mobility', 't0_self_care', 't0_activity', 't0_discomfort', 't0_anxiety']\n",
        "categorical = ['t0_symptom_period', 't0_previous_surgery', 't0_living_arrangements']\n",
        "\n",
        "# useless variables\n",
        "useless = ['t0_assisted_by', 't0_eq5d_index', 't0_eq5d_index_profile']\n",
        "\n",
        "count_values(df[['gender'] + comorb + boolean])\n",
        "\n",
        "# list of columns which contain 9s\n",
        "cols_with_9 = [col for col in df.columns if (df[col]==9).any()]\n",
        "\n",
        "# columns where 9 is *not* a sentinel value\n",
        "cols_keep_9 = comorb + [ 't0_eq_vas', 't1_eq_vas','oks_t0_score', 'oks_t1_score']\n",
        "\n",
        "# columns with 9 as sentinel value\n",
        "cols_sentinel_9 = list(set(cols_with_9) ^ set(cols_keep_9))\n",
        "\n",
        "from sklearn.impute import SimpleImputer\n",
        "\n",
        "impute_median = SimpleImputer(strategy='median')\n",
        "impute_most_frequent = SimpleImputer(strategy='most_frequent')\n",
        "\n",
        "# use copy of original data\n",
        "dfc = df.copy()\n",
        "\n",
        "# replace 9 with np.nan and impute most frequent\n",
        "dfc.loc[:,cols_sentinel_9] = df.loc[:,cols_sentinel_9].replace(9, np.nan)\n",
        "impute_most_frequent.fit(dfc[cols_sentinel_9])\n",
        "\n",
        "# assign imputed data\n",
        "dfc.loc[:, cols_sentinel_9] = impute_most_frequent.transform(dfc[cols_sentinel_9])\n",
        "\n",
        "# same procedure for 999 sentinel values, using impute median\n",
        "eq_vas = ['t0_eq_vas', 't1_eq_vas']\n",
        "dfc.loc[:, eq_vas] = dfc.loc[:,eq_vas].replace(999, np.nan)\n",
        "impute_median.fit(dfc.loc[:,eq_vas])\n",
        "dfc.loc[:,eq_vas] = impute_median.transform(dfc.loc[:,eq_vas])\n",
        "impute_median.statistics_\n",
        "\n",
        "# transform into boolean\n",
        "dfc['female'] = dfc.loc[:,'gender'].replace({1: False, 2: True})\n",
        "dfc.loc[:, comorb] = dfc.loc[:, comorb].replace({9: False, 1: True})\n",
        "dfc.loc[:, boolean] = dfc.loc[:, boolean].replace({1: True, 2: False})\n",
        "\n",
        "# helper function for counting boolean attribues\n",
        "def count_boolean(series):\n",
        "    '''\n",
        "    Returns absolute and normalized value counts of pd.series as a dataframe with \n",
        "    index = series.name\n",
        "    columns with absolute and normalized counts of each value\n",
        "    '''\n",
        "    try:\n",
        "        count = series.value_counts().to_frame().transpose()\n",
        "        norm = series.value_counts(normalize=True).to_frame().transpose()\n",
        "        return count.join(norm, lsuffix='_count', rsuffix='_normalized') \n",
        "    except:\n",
        "        print('Error: expecting a pandas.Series object as input. \\n' + count_boolean.__doc__)\n",
        "        return None\n",
        "\n",
        "pd.concat([count_boolean(dfc[col]) for col in ['female'] + comorb + boolean]).round(2)"
      ],
      "execution_count": 0,
      "outputs": [
        {
          "output_type": "execute_result",
          "data": {
            "text/html": [
              "<div>\n",
              "<style scoped>\n",
              "    .dataframe tbody tr th:only-of-type {\n",
              "        vertical-align: middle;\n",
              "    }\n",
              "\n",
              "    .dataframe tbody tr th {\n",
              "        vertical-align: top;\n",
              "    }\n",
              "\n",
              "    .dataframe thead th {\n",
              "        text-align: right;\n",
              "    }\n",
              "</style>\n",
              "<table border=\"1\" class=\"dataframe\">\n",
              "  <thead>\n",
              "    <tr style=\"text-align: right;\">\n",
              "      <th></th>\n",
              "      <th>1.0</th>\n",
              "      <th>2.0</th>\n",
              "      <th>9.0</th>\n",
              "    </tr>\n",
              "  </thead>\n",
              "  <tbody>\n",
              "    <tr>\n",
              "      <th>gender</th>\n",
              "      <td>55749.0</td>\n",
              "      <td>74085.0</td>\n",
              "      <td>NaN</td>\n",
              "    </tr>\n",
              "    <tr>\n",
              "      <th>heart_disease</th>\n",
              "      <td>13051.0</td>\n",
              "      <td>NaN</td>\n",
              "      <td>126185.0</td>\n",
              "    </tr>\n",
              "    <tr>\n",
              "      <th>high_bp</th>\n",
              "      <td>61570.0</td>\n",
              "      <td>NaN</td>\n",
              "      <td>77666.0</td>\n",
              "    </tr>\n",
              "    <tr>\n",
              "      <th>stroke</th>\n",
              "      <td>2303.0</td>\n",
              "      <td>NaN</td>\n",
              "      <td>136933.0</td>\n",
              "    </tr>\n",
              "    <tr>\n",
              "      <th>circulation</th>\n",
              "      <td>7882.0</td>\n",
              "      <td>NaN</td>\n",
              "      <td>131354.0</td>\n",
              "    </tr>\n",
              "    <tr>\n",
              "      <th>lung_disease</th>\n",
              "      <td>12779.0</td>\n",
              "      <td>NaN</td>\n",
              "      <td>126457.0</td>\n",
              "    </tr>\n",
              "    <tr>\n",
              "      <th>diabetes</th>\n",
              "      <td>17379.0</td>\n",
              "      <td>NaN</td>\n",
              "      <td>121857.0</td>\n",
              "    </tr>\n",
              "    <tr>\n",
              "      <th>kidney_disease</th>\n",
              "      <td>2856.0</td>\n",
              "      <td>NaN</td>\n",
              "      <td>136380.0</td>\n",
              "    </tr>\n",
              "    <tr>\n",
              "      <th>nervous_system</th>\n",
              "      <td>1422.0</td>\n",
              "      <td>NaN</td>\n",
              "      <td>137814.0</td>\n",
              "    </tr>\n",
              "    <tr>\n",
              "      <th>liver_disease</th>\n",
              "      <td>812.0</td>\n",
              "      <td>NaN</td>\n",
              "      <td>138424.0</td>\n",
              "    </tr>\n",
              "    <tr>\n",
              "      <th>cancer</th>\n",
              "      <td>7543.0</td>\n",
              "      <td>NaN</td>\n",
              "      <td>131693.0</td>\n",
              "    </tr>\n",
              "    <tr>\n",
              "      <th>depression</th>\n",
              "      <td>13031.0</td>\n",
              "      <td>NaN</td>\n",
              "      <td>126205.0</td>\n",
              "    </tr>\n",
              "    <tr>\n",
              "      <th>arthritis</th>\n",
              "      <td>107274.0</td>\n",
              "      <td>NaN</td>\n",
              "      <td>31962.0</td>\n",
              "    </tr>\n",
              "    <tr>\n",
              "      <th>t0_assisted</th>\n",
              "      <td>21318.0</td>\n",
              "      <td>116407.0</td>\n",
              "      <td>1511.0</td>\n",
              "    </tr>\n",
              "    <tr>\n",
              "      <th>t0_previous_surgery</th>\n",
              "      <td>10784.0</td>\n",
              "      <td>127410.0</td>\n",
              "      <td>1042.0</td>\n",
              "    </tr>\n",
              "    <tr>\n",
              "      <th>t0_disability</th>\n",
              "      <td>67456.0</td>\n",
              "      <td>65873.0</td>\n",
              "      <td>5907.0</td>\n",
              "    </tr>\n",
              "  </tbody>\n",
              "</table>\n",
              "</div>"
            ],
            "text/plain": [
              "                          1.0       2.0       9.0\n",
              "gender                55749.0   74085.0       NaN\n",
              "heart_disease         13051.0       NaN  126185.0\n",
              "high_bp               61570.0       NaN   77666.0\n",
              "stroke                 2303.0       NaN  136933.0\n",
              "circulation            7882.0       NaN  131354.0\n",
              "lung_disease          12779.0       NaN  126457.0\n",
              "diabetes              17379.0       NaN  121857.0\n",
              "kidney_disease         2856.0       NaN  136380.0\n",
              "nervous_system         1422.0       NaN  137814.0\n",
              "liver_disease           812.0       NaN  138424.0\n",
              "cancer                 7543.0       NaN  131693.0\n",
              "depression            13031.0       NaN  126205.0\n",
              "arthritis            107274.0       NaN   31962.0\n",
              "t0_assisted           21318.0  116407.0    1511.0\n",
              "t0_previous_surgery   10784.0  127410.0    1042.0\n",
              "t0_disability         67456.0   65873.0    5907.0"
            ]
          },
          "metadata": {
            "tags": []
          },
          "execution_count": 5
        }
      ]
    },
    {
      "cell_type": "markdown",
      "metadata": {
        "id": "uwZprioyQd0s",
        "colab_type": "text"
      },
      "source": [
        "## Inspect categorical features (T0)\n"
      ]
    },
    {
      "cell_type": "code",
      "metadata": {
        "id": "2s0BJW7zcmtJ",
        "colab_type": "code",
        "colab": {}
      },
      "source": [
        ""
      ],
      "execution_count": 0,
      "outputs": []
    },
    {
      "cell_type": "code",
      "metadata": {
        "id": "3s3U5oq00ton",
        "colab_type": "code",
        "outputId": "937af126-9fc8-462f-9485-523c624d52e5",
        "colab": {
          "base_uri": "https://localhost:8080/",
          "height": 545
        }
      },
      "source": [
        ""
      ],
      "execution_count": 0,
      "outputs": [
        {
          "output_type": "execute_result",
          "data": {
            "text/html": [
              "<div>\n",
              "<style scoped>\n",
              "    .dataframe tbody tr th:only-of-type {\n",
              "        vertical-align: middle;\n",
              "    }\n",
              "\n",
              "    .dataframe tbody tr th {\n",
              "        vertical-align: top;\n",
              "    }\n",
              "\n",
              "    .dataframe thead th {\n",
              "        text-align: right;\n",
              "    }\n",
              "</style>\n",
              "<table border=\"1\" class=\"dataframe\">\n",
              "  <thead>\n",
              "    <tr style=\"text-align: right;\">\n",
              "      <th></th>\n",
              "      <th>False_count</th>\n",
              "      <th>False_normalized</th>\n",
              "      <th>True_count</th>\n",
              "      <th>True_normalized</th>\n",
              "    </tr>\n",
              "  </thead>\n",
              "  <tbody>\n",
              "    <tr>\n",
              "      <th>female</th>\n",
              "      <td>55749</td>\n",
              "      <td>0.43</td>\n",
              "      <td>74085</td>\n",
              "      <td>0.57</td>\n",
              "    </tr>\n",
              "    <tr>\n",
              "      <th>heart_disease</th>\n",
              "      <td>126185</td>\n",
              "      <td>0.91</td>\n",
              "      <td>13051</td>\n",
              "      <td>0.09</td>\n",
              "    </tr>\n",
              "    <tr>\n",
              "      <th>high_bp</th>\n",
              "      <td>77666</td>\n",
              "      <td>0.56</td>\n",
              "      <td>61570</td>\n",
              "      <td>0.44</td>\n",
              "    </tr>\n",
              "    <tr>\n",
              "      <th>stroke</th>\n",
              "      <td>136933</td>\n",
              "      <td>0.98</td>\n",
              "      <td>2303</td>\n",
              "      <td>0.02</td>\n",
              "    </tr>\n",
              "    <tr>\n",
              "      <th>circulation</th>\n",
              "      <td>131354</td>\n",
              "      <td>0.94</td>\n",
              "      <td>7882</td>\n",
              "      <td>0.06</td>\n",
              "    </tr>\n",
              "    <tr>\n",
              "      <th>lung_disease</th>\n",
              "      <td>126457</td>\n",
              "      <td>0.91</td>\n",
              "      <td>12779</td>\n",
              "      <td>0.09</td>\n",
              "    </tr>\n",
              "    <tr>\n",
              "      <th>diabetes</th>\n",
              "      <td>121857</td>\n",
              "      <td>0.88</td>\n",
              "      <td>17379</td>\n",
              "      <td>0.12</td>\n",
              "    </tr>\n",
              "    <tr>\n",
              "      <th>kidney_disease</th>\n",
              "      <td>136380</td>\n",
              "      <td>0.98</td>\n",
              "      <td>2856</td>\n",
              "      <td>0.02</td>\n",
              "    </tr>\n",
              "    <tr>\n",
              "      <th>nervous_system</th>\n",
              "      <td>137814</td>\n",
              "      <td>0.99</td>\n",
              "      <td>1422</td>\n",
              "      <td>0.01</td>\n",
              "    </tr>\n",
              "    <tr>\n",
              "      <th>liver_disease</th>\n",
              "      <td>138424</td>\n",
              "      <td>0.99</td>\n",
              "      <td>812</td>\n",
              "      <td>0.01</td>\n",
              "    </tr>\n",
              "    <tr>\n",
              "      <th>cancer</th>\n",
              "      <td>131693</td>\n",
              "      <td>0.95</td>\n",
              "      <td>7543</td>\n",
              "      <td>0.05</td>\n",
              "    </tr>\n",
              "    <tr>\n",
              "      <th>depression</th>\n",
              "      <td>126205</td>\n",
              "      <td>0.91</td>\n",
              "      <td>13031</td>\n",
              "      <td>0.09</td>\n",
              "    </tr>\n",
              "    <tr>\n",
              "      <th>arthritis</th>\n",
              "      <td>31962</td>\n",
              "      <td>0.23</td>\n",
              "      <td>107274</td>\n",
              "      <td>0.77</td>\n",
              "    </tr>\n",
              "    <tr>\n",
              "      <th>t0_assisted</th>\n",
              "      <td>117918</td>\n",
              "      <td>0.85</td>\n",
              "      <td>21318</td>\n",
              "      <td>0.15</td>\n",
              "    </tr>\n",
              "    <tr>\n",
              "      <th>t0_previous_surgery</th>\n",
              "      <td>128452</td>\n",
              "      <td>0.92</td>\n",
              "      <td>10784</td>\n",
              "      <td>0.08</td>\n",
              "    </tr>\n",
              "    <tr>\n",
              "      <th>t0_disability</th>\n",
              "      <td>65873</td>\n",
              "      <td>0.47</td>\n",
              "      <td>73363</td>\n",
              "      <td>0.53</td>\n",
              "    </tr>\n",
              "  </tbody>\n",
              "</table>\n",
              "</div>"
            ],
            "text/plain": [
              "                     False_count  False_normalized  True_count  \\\n",
              "female                     55749              0.43       74085   \n",
              "heart_disease             126185              0.91       13051   \n",
              "high_bp                    77666              0.56       61570   \n",
              "stroke                    136933              0.98        2303   \n",
              "circulation               131354              0.94        7882   \n",
              "lung_disease              126457              0.91       12779   \n",
              "diabetes                  121857              0.88       17379   \n",
              "kidney_disease            136380              0.98        2856   \n",
              "nervous_system            137814              0.99        1422   \n",
              "liver_disease             138424              0.99         812   \n",
              "cancer                    131693              0.95        7543   \n",
              "depression                126205              0.91       13031   \n",
              "arthritis                  31962              0.23      107274   \n",
              "t0_assisted               117918              0.85       21318   \n",
              "t0_previous_surgery       128452              0.92       10784   \n",
              "t0_disability              65873              0.47       73363   \n",
              "\n",
              "                     True_normalized  \n",
              "female                          0.57  \n",
              "heart_disease                   0.09  \n",
              "high_bp                         0.44  \n",
              "stroke                          0.02  \n",
              "circulation                     0.06  \n",
              "lung_disease                    0.09  \n",
              "diabetes                        0.12  \n",
              "kidney_disease                  0.02  \n",
              "nervous_system                  0.01  \n",
              "liver_disease                   0.01  \n",
              "cancer                          0.05  \n",
              "depression                      0.09  \n",
              "arthritis                       0.77  \n",
              "t0_assisted                     0.15  \n",
              "t0_previous_surgery             0.08  \n",
              "t0_disability                   0.53  "
            ]
          },
          "metadata": {
            "tags": []
          },
          "execution_count": 12
        }
      ]
    },
    {
      "cell_type": "code",
      "metadata": {
        "id": "EwECD0NUlc3Z",
        "colab_type": "code",
        "colab": {}
      },
      "source": [
        "# convert to categories\n",
        "dfc.loc[:, ['provider_code', 'age_band']] = dfc.loc[:, ['provider_code', 'age_band']].astype('category')"
      ],
      "execution_count": 0,
      "outputs": []
    },
    {
      "cell_type": "markdown",
      "metadata": {
        "id": "Hk2ih7gEjMMW",
        "colab_type": "text"
      },
      "source": [
        "## Discussion\n",
        "\n",
        "### **Question:** ...\n",
        "- ...\n"
      ]
    },
    {
      "cell_type": "markdown",
      "metadata": {
        "id": "KHnA3F9nocH2",
        "colab_type": "text"
      },
      "source": [
        "# Selecting data"
      ]
    },
    {
      "cell_type": "markdown",
      "metadata": {
        "id": "US0VziEQqUxT",
        "colab_type": "text"
      },
      "source": [
        "## Selecting input features X"
      ]
    },
    {
      "cell_type": "code",
      "metadata": {
        "id": "i2xVdjCQojQH",
        "colab_type": "code",
        "outputId": "ba662acd-acf4-4c56-fc5e-678b33347d16",
        "colab": {
          "base_uri": "https://localhost:8080/",
          "height": 663
        }
      },
      "source": [
        "# input features\n",
        "# TO DO: decide what to do with years?!\n",
        "\n",
        "# feature engineering\n",
        "dfc['oks_t0_pain_total'] = dfc['oks_t0_pain'] + dfc['oks_t0_night_pain']\n",
        "dfc['n_comorb'] = dfc.loc[:,comorb].sum()\n",
        "\n",
        "X_features = ['provider_code', 'female', 'age_band'] + comorb + boolean + eq5d_questions('t0') + oks_questions('t0') + ['t0_eq_vas', 'oks_t0_pain_total', 'n_comorb']\n",
        "X_features"
      ],
      "execution_count": 0,
      "outputs": [
        {
          "output_type": "execute_result",
          "data": {
            "text/plain": [
              "['provider_code',\n",
              " 'female',\n",
              " 'age_band',\n",
              " 'heart_disease',\n",
              " 'high_bp',\n",
              " 'stroke',\n",
              " 'circulation',\n",
              " 'lung_disease',\n",
              " 'diabetes',\n",
              " 'kidney_disease',\n",
              " 'nervous_system',\n",
              " 'liver_disease',\n",
              " 'cancer',\n",
              " 'depression',\n",
              " 'arthritis',\n",
              " 't0_assisted',\n",
              " 't0_previous_surgery',\n",
              " 't0_disability',\n",
              " 't0_mobility',\n",
              " 't0_self_care',\n",
              " 't0_activity',\n",
              " 't0_discomfort',\n",
              " 't0_anxiety',\n",
              " 'oks_t0_pain',\n",
              " 'oks_t0_night_pain',\n",
              " 'oks_t0_washing',\n",
              " 'oks_t0_transport',\n",
              " 'oks_t0_walking',\n",
              " 'oks_t0_standing',\n",
              " 'oks_t0_limping',\n",
              " 'oks_t0_kneeling',\n",
              " 'oks_t0_work',\n",
              " 'oks_t0_confidence',\n",
              " 'oks_t0_shopping',\n",
              " 'oks_t0_stairs',\n",
              " 't0_eq_vas',\n",
              " 'oks_t0_pain_total',\n",
              " 'n_comorb']"
            ]
          },
          "metadata": {
            "tags": []
          },
          "execution_count": 14
        }
      ]
    },
    {
      "cell_type": "markdown",
      "metadata": {
        "id": "poHEugvVqrNz",
        "colab_type": "text"
      },
      "source": [
        "## Selecting outcome Y"
      ]
    },
    {
      "cell_type": "code",
      "metadata": {
        "id": "81Nz5x2oo3-N",
        "colab_type": "code",
        "outputId": "9cbba902-75d3-4b3c-fb77-a8a644eccb49",
        "colab": {
          "base_uri": "https://localhost:8080/",
          "height": 68
        }
      },
      "source": [
        "# add delta_oks_score and Y\n",
        "def good_outcome(oks_t1, delta_oks, abs_threshold=43, mcid=13):\n",
        "  if oks_t1 > abs_threshold or delta_oks > mcid:\n",
        "    return True\n",
        "  else:\n",
        "    return False\n",
        "\n",
        "dfc['delta_oks_score'] = dfc.oks_t1_score - dfc.oks_t0_score\n",
        "dfc['Y'] = dfc.apply(lambda row: good_outcome(row['oks_t1_score'], row['delta_oks_score']), axis=1)\n",
        "dfc.Y.value_counts(normalize=True)"
      ],
      "execution_count": 0,
      "outputs": [
        {
          "output_type": "execute_result",
          "data": {
            "text/plain": [
              "True     0.66\n",
              "False    0.34\n",
              "Name: Y, dtype: float64"
            ]
          },
          "metadata": {
            "tags": []
          },
          "execution_count": 15
        }
      ]
    },
    {
      "cell_type": "markdown",
      "metadata": {
        "id": "kw3m1k3EI6NK",
        "colab_type": "text"
      },
      "source": [
        "# Getting into scikit-learn: regression"
      ]
    },
    {
      "cell_type": "markdown",
      "metadata": {
        "id": "EZMdkbZyJoru",
        "colab_type": "text"
      },
      "source": [
        "## Simple linear regression\n",
        "To illustrate linear regression, we use `t1_eq_vas` as numeric outcome. First we will assess whether there is a correlation between `t0` and `t1` values of `eq_vas`"
      ]
    },
    {
      "cell_type": "code",
      "metadata": {
        "id": "w-4srrk5JErU",
        "colab_type": "code",
        "outputId": "6f99bdd0-f793-4885-c954-a2a20a8d7551",
        "colab": {
          "base_uri": "https://localhost:8080/",
          "height": 721
        }
      },
      "source": [
        "dfc.plot(kind='scatter', x='t0_eq_vas', y='t1_eq_vas', figsize=M, alpha=0.2);"
      ],
      "execution_count": 0,
      "outputs": [
        {
          "output_type": "display_data",
          "data": {
            "image/png": "[encoded data removed]",
            "text/plain": [
              "<Figure size 864x864 with 1 Axes>"
            ]
          },
          "metadata": {
            "tags": []
          }
        }
      ]
    },
    {
      "cell_type": "code",
      "metadata": {
        "id": "mdGCMu92KiGe",
        "colab_type": "code",
        "outputId": "0d15af21-bbff-4b79-e655-6b7aac0f80a4",
        "colab": {
          "base_uri": "https://localhost:8080/",
          "height": 119
        }
      },
      "source": [
        "from sklearn.linear_model import LinearRegression\n",
        "\n",
        "# x needs to be a column vector or an matrix\n",
        "x = dfc.t0_eq_vas.values.reshape(-1, 1)\n",
        "\n",
        "# y is a row vector\n",
        "y = dfc.t1_eq_vas.values\n",
        "print(f'x: {x[:5]}\\n y: {y[:5]}')"
      ],
      "execution_count": 0,
      "outputs": [
        {
          "output_type": "stream",
          "text": [
            "x: [[80.]\n",
            " [70.]\n",
            " [70.]\n",
            " [70.]\n",
            " [75.]]\n",
            " y: [80. 95. 98. 60. 80.]\n"
          ],
          "name": "stdout"
        }
      ]
    },
    {
      "cell_type": "code",
      "metadata": {
        "id": "wNlk_HMYM6Gr",
        "colab_type": "code",
        "outputId": "c316e84e-b274-41d9-cfdb-e67a6f775047",
        "colab": {
          "base_uri": "https://localhost:8080/",
          "height": 34
        }
      },
      "source": [
        "# linear regression with t0_eq_vas\n",
        "lr = LinearRegression().fit(x, y)\n",
        "r2 = lr.score(x, y)\n",
        "print(f'r2: {r2:.2f}')"
      ],
      "execution_count": 0,
      "outputs": [
        {
          "output_type": "stream",
          "text": [
            "r2: 0.12\n"
          ],
          "name": "stdout"
        }
      ]
    },
    {
      "cell_type": "markdown",
      "metadata": {
        "id": "IoHiFX8pPpt9",
        "colab_type": "text"
      },
      "source": [
        "## Regression with decision trees\n",
        "Next, let's try more parameters to perform regression on `t1_eq_vas`."
      ]
    },
    {
      "cell_type": "code",
      "metadata": {
        "id": "a6dtjlOoP28r",
        "colab_type": "code",
        "outputId": "9d0eab20-e613-40bd-904d-73f6fca31eec",
        "colab": {
          "base_uri": "https://localhost:8080/",
          "height": 34
        }
      },
      "source": [
        "from sklearn.tree import DecisionTreeRegressor\n",
        "\n",
        "# regression can only take numeric input features\n",
        "X = dfc.loc[:, X_features].select_dtypes(include='float64').drop(columns=['n_comorb'])\n",
        "y = dfc.t1_eq_vas.values\n",
        "dtr = DecisionTreeRegressor().fit(X,y)\n",
        "dt_r2 = dtr.score(X, y)\n",
        "print(f'DecisionTreeRegressor r2: {dt_r2:.2f}')"
      ],
      "execution_count": 0,
      "outputs": [
        {
          "output_type": "stream",
          "text": [
            "DecisionTreeRegressor r2: 0.97\n"
          ],
          "name": "stdout"
        }
      ]
    },
    {
      "cell_type": "code",
      "metadata": {
        "id": "2zm3Ru8CX6Td",
        "colab_type": "code",
        "outputId": "a5a6fd17-6009-496f-a136-cd822d5cf6c1",
        "colab": {
          "base_uri": "https://localhost:8080/",
          "height": 34
        }
      },
      "source": [
        "# this doesn't make sense, probably overfitting\n",
        "dtr = DecisionTreeRegressor(max_depth=5).fit(X,y)\n",
        "dt_r2 = dtr.score(X, y)\n",
        "print(f'DecisionTreeRegressor r2: {dt_r2:.2f}')"
      ],
      "execution_count": 0,
      "outputs": [
        {
          "output_type": "stream",
          "text": [
            "DecisionTreeRegressor r2: 0.18\n"
          ],
          "name": "stdout"
        }
      ]
    },
    {
      "cell_type": "markdown",
      "metadata": {
        "id": "UXRVdLXMUrCy",
        "colab_type": "text"
      },
      "source": [
        "# Conclusion and reflection"
      ]
    },
    {
      "cell_type": "markdown",
      "metadata": {
        "id": "uhtn2ycxX-KV",
        "colab_type": "text"
      },
      "source": [
        "## Discussion of results\n",
        "\n",
        "* ...\n",
        "* ..."
      ]
    },
    {
      "cell_type": "markdown",
      "metadata": {
        "id": "EyYH6A2yUwy3",
        "colab_type": "text"
      },
      "source": [
        "## Checklist for results from data preparation process\n",
        "* Input regarding the moment of prediction\n",
        "* Input for data cleaning (handling missing data; removing variables not known at time of prediction, near-zero variance variables, etc)\n",
        "* Input for feature engineering (adjusting variables based on tree-analyses, based on correlations, based on domain-analysis)\n",
        "* Input for defining the outcome variable Y\n",
        "* Input for defining the business objective in terms of generalizability (in case of missing Y values)\n",
        "* Input for choosing the business objective in case there are still multiple options at the table\n",
        "* Input for defining the scope of the business objective (e.g. limiting to a subgroup to get a better balanced outcome variable)\n",
        "* A potential revision of the goal of your business objective\n",
        "* Input for which variables and combination of variables seem particularly relevant within the to-be-developed algorithms "
      ]
    }
  ]
}
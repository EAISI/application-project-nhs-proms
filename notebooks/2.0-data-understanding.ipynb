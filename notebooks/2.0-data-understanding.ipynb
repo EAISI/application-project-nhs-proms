{
  "nbformat": 4,
  "nbformat_minor": 0,
  "metadata": {
    "hide_input": false,
    "kernelspec": {
      "display_name": "Python 3",
      "language": "python",
      "name": "python3"
    },
    "language_info": {
      "codemirror_mode": {
        "name": "ipython",
        "version": 3
      },
      "file_extension": ".py",
      "mimetype": "text/x-python",
      "name": "python",
      "nbconvert_exporter": "python",
      "pygments_lexer": "ipython3",
      "version": "3.7.6"
    },
    "colab": {
      "name": "2.0-data-understanding.ipynb",
      "provenance": [],
      "include_colab_link": true
    }
  },
  "cells": [
    {
      "cell_type": "markdown",
      "metadata": {
        "id": "view-in-github",
        "colab_type": "text"
      },
      "source": [
        "<a href=\"https://colab.research.google.com/github/dkapitan/jads-nhs-proms/blob/master/notebooks/2.0-data-understanding.ipynb\" target=\"_parent\"><img src=\"https://colab.research.google.com/assets/colab-badge.svg\" alt=\"Open In Colab\"/></a>"
      ]
    },
    {
      "cell_type": "markdown",
      "metadata": {
        "id": "ps-NB5SwlrNd",
        "colab_type": "text"
      },
      "source": [
        "# Data Understanding\n",
        "\n",
        "This is day 1 from the [5-day Python curriculum](https://github.com/dkapitan/jads-nhs-proms/blob/master/references/outline.md)\n",
        "    "
      ]
    },
    {
      "cell_type": "markdown",
      "metadata": {
        "id": "ldC26PUnlrNg",
        "colab_type": "text"
      },
      "source": [
        "## Learning objectives: descriptive statistics\n",
        "- Explore Y\n",
        "- Define Y with results exploration combined with clinical knowledge\n",
        "- Assess missing values\n",
        "- Assess data structure\n",
        "- Explore correlation plot (X, Y)\n",
        "\n",
        "### Python skills\n",
        "- Use [pandas](https://pandas.pydata.org/docs/user_guide/index.html) to:\n",
        "  - [Explore the data](https://realpython.com/pandas-python-explore-dataset/)\n",
        "  - \n",
        "- Be aware of some `pandas` pitfalls:\n",
        "  - Know how `pandas` uses copies by default and good practice not to replace in-place\n",
        "  - Use Int64 for N/A\n"
      ]
    },
    {
      "cell_type": "code",
      "metadata": {
        "id": "_95_D3ywlrNh",
        "colab_type": "code",
        "colab": {}
      },
      "source": [
        "import numpy as np\n",
        "import pandas as pd\n",
        "import matplotlib as mpl\n",
        "import matplotlib.pyplot as plt\n",
        "from sklearn.feature_selection import VarianceThreshold\n",
        "import sklearn.linear_model\n",
        "\n",
        "\n",
        "# To plot pretty figures directly within Jupyter\n",
        "%matplotlib inline\n",
        "\n",
        "# choose your own style: https://matplotlib.org/3.1.0/gallery/style_sheets/style_sheets_reference.html\n",
        "plt.style.use('ggplot')\n",
        "\n",
        "# Go to town with https://matplotlib.org/tutorials/introductory/customizing.html\n",
        "# plt.rcParams.keys()\n",
        "mpl.rc('axes', labelsize=14, titlesize=14)\n",
        "mpl.rc('figure', titlesize=20)\n",
        "mpl.rc('xtick', labelsize=12)\n",
        "mpl.rc('ytick', labelsize=12)\n",
        "\n",
        "# contants\n",
        "FIGSIZE = (8,8)"
      ],
      "execution_count": 0,
      "outputs": []
    },
    {
      "cell_type": "code",
      "metadata": {
        "id": "xWUlpiQWlrNl",
        "colab_type": "code",
        "colab": {}
      },
      "source": [
        "# import data\n",
        "df = pd.read_parquet('https://github.com/dkapitan/jads-nhs-proms/blob/master/data/interim/knee-provider.parquet?raw=true')\n",
        "\n",
        "# alternatively, if you have cloned this repository, read local file\n",
        "# df = pd.read_parquet('../data/interim/knee-provider.parquet')"
      ],
      "execution_count": 0,
      "outputs": []
    },
    {
      "cell_type": "markdown",
      "metadata": {
        "id": "GDsbq_0SlrNn",
        "colab_type": "text"
      },
      "source": [
        "## Explore Y\n",
        "The dataset contains the following outcome measures (amongst others):\n",
        "1. EQ-VAS: a pain score [0,100], lower is better\n",
        "2. Oxford Knee Score (OKS): a summed score [0,48], higher is better. The OKS is a 12-item questionaire that assess daily functioning c.q. disability.\n",
        "\n",
        "We will use EQ-VAS as the target variable Y. Note that all many of the attributes are measured at T0 (prior to surgery) and T1 (six months after surgery)."
      ]
    },
    {
      "cell_type": "code",
      "metadata": {
        "id": "hz0HSCNHlrNo",
        "colab_type": "code",
        "outputId": "a0d901a2-7c8e-44bf-8b42-19bd16a9f2c3",
        "colab": {
          "base_uri": "https://localhost:8080/",
          "height": 173
        }
      },
      "source": [
        "# describe the pain features at T0 and T1\n",
        "pain_oks = ['t0_eq_vas', 't1_eq_vas', 'oks_t0_score', 'oks_t1_score']\n",
        "df.loc[:,pain_oks].describe().transpose().round(1)"
      ],
      "execution_count": 0,
      "outputs": [
        {
          "output_type": "execute_result",
          "data": {
            "text/html": [
              "<div>\n",
              "<style scoped>\n",
              "    .dataframe tbody tr th:only-of-type {\n",
              "        vertical-align: middle;\n",
              "    }\n",
              "\n",
              "    .dataframe tbody tr th {\n",
              "        vertical-align: top;\n",
              "    }\n",
              "\n",
              "    .dataframe thead th {\n",
              "        text-align: right;\n",
              "    }\n",
              "</style>\n",
              "<table border=\"1\" class=\"dataframe\">\n",
              "  <thead>\n",
              "    <tr style=\"text-align: right;\">\n",
              "      <th></th>\n",
              "      <th>count</th>\n",
              "      <th>mean</th>\n",
              "      <th>std</th>\n",
              "      <th>min</th>\n",
              "      <th>25%</th>\n",
              "      <th>50%</th>\n",
              "      <th>75%</th>\n",
              "      <th>max</th>\n",
              "    </tr>\n",
              "  </thead>\n",
              "  <tbody>\n",
              "    <tr>\n",
              "      <th>t0_eq_vas</th>\n",
              "      <td>139236.0</td>\n",
              "      <td>154.0</td>\n",
              "      <td>271.4</td>\n",
              "      <td>0.0</td>\n",
              "      <td>55.0</td>\n",
              "      <td>75.0</td>\n",
              "      <td>89.0</td>\n",
              "      <td>999.0</td>\n",
              "    </tr>\n",
              "    <tr>\n",
              "      <th>t1_eq_vas</th>\n",
              "      <td>139236.0</td>\n",
              "      <td>118.2</td>\n",
              "      <td>196.4</td>\n",
              "      <td>0.0</td>\n",
              "      <td>69.0</td>\n",
              "      <td>80.0</td>\n",
              "      <td>90.0</td>\n",
              "      <td>999.0</td>\n",
              "    </tr>\n",
              "    <tr>\n",
              "      <th>oks_t0_score</th>\n",
              "      <td>137567.0</td>\n",
              "      <td>19.0</td>\n",
              "      <td>7.7</td>\n",
              "      <td>0.0</td>\n",
              "      <td>13.0</td>\n",
              "      <td>19.0</td>\n",
              "      <td>24.0</td>\n",
              "      <td>48.0</td>\n",
              "    </tr>\n",
              "    <tr>\n",
              "      <th>oks_t1_score</th>\n",
              "      <td>136657.0</td>\n",
              "      <td>35.9</td>\n",
              "      <td>9.5</td>\n",
              "      <td>0.0</td>\n",
              "      <td>30.0</td>\n",
              "      <td>38.0</td>\n",
              "      <td>43.0</td>\n",
              "      <td>48.0</td>\n",
              "    </tr>\n",
              "  </tbody>\n",
              "</table>\n",
              "</div>"
            ],
            "text/plain": [
              "                 count   mean    std  min   25%   50%   75%    max\n",
              "t0_eq_vas     139236.0  154.0  271.4  0.0  55.0  75.0  89.0  999.0\n",
              "t1_eq_vas     139236.0  118.2  196.4  0.0  69.0  80.0  90.0  999.0\n",
              "oks_t0_score  137567.0   19.0    7.7  0.0  13.0  19.0  24.0   48.0\n",
              "oks_t1_score  136657.0   35.9    9.5  0.0  30.0  38.0  43.0   48.0"
            ]
          },
          "metadata": {
            "tags": []
          },
          "execution_count": 14
        }
      ]
    },
    {
      "cell_type": "code",
      "metadata": {
        "id": "e-KEUj8XlrNs",
        "colab_type": "code",
        "outputId": "d1439edb-b916-4af7-8714-4b876d0016c8",
        "colab": {
          "base_uri": "https://localhost:8080/",
          "height": 503
        }
      },
      "source": [
        "# inspect with histograms\n",
        "df.loc[:,pain_oks].hist(figsize=FIGSIZE);"
      ],
      "execution_count": 0,
      "outputs": [
        {
          "output_type": "display_data",
          "data": {
            "image/png": "[encoded data removed]",
            "text/plain": [
              "<Figure size 576x576 with 4 Axes>"
            ]
          },
          "metadata": {
            "tags": []
          }
        }
      ]
    },
    {
      "cell_type": "code",
      "metadata": {
        "id": "WeBg-WSPlrNu",
        "colab_type": "code",
        "outputId": "b80c596f-332d-4053-b9d3-0b6ec80e1eb2",
        "colab": {
          "base_uri": "https://localhost:8080/",
          "height": 221
        }
      },
      "source": [
        "# EQ-VAS score has outlier values at 999\n",
        "df.t0_eq_vas.value_counts()"
      ],
      "execution_count": 0,
      "outputs": [
        {
          "output_type": "execute_result",
          "data": {
            "text/plain": [
              "80     17497\n",
              "70     14573\n",
              "999    12961\n",
              "50     12621\n",
              "90     12297\n",
              "       ...  \n",
              "7         16\n",
              "4         16\n",
              "11        15\n",
              "13        14\n",
              "6         11\n",
              "Name: t0_eq_vas, Length: 102, dtype: int64"
            ]
          },
          "metadata": {
            "tags": []
          },
          "execution_count": 16
        }
      ]
    },
    {
      "cell_type": "code",
      "metadata": {
        "id": "Na3vHuS7lrNy",
        "colab_type": "code",
        "outputId": "741fb645-4baa-4375-9804-61a4771074cb",
        "colab": {
          "base_uri": "https://localhost:8080/",
          "height": 68
        }
      },
      "source": [
        "# 999 is a so-called sentinel value for missing values\n",
        "df.loc[:,['t0_eq_vas', 't1_eq_vas']].replace(999, np.nan).astype('Int64').dtypes"
      ],
      "execution_count": 0,
      "outputs": [
        {
          "output_type": "execute_result",
          "data": {
            "text/plain": [
              "t0_eq_vas    Int64\n",
              "t1_eq_vas    Int64\n",
              "dtype: object"
            ]
          },
          "metadata": {
            "tags": []
          },
          "execution_count": 17
        }
      ]
    },
    {
      "cell_type": "code",
      "metadata": {
        "id": "AEdGAy-AlrN3",
        "colab_type": "code",
        "outputId": "ee3f443f-0743-4b01-ac79-3ec939412d9c",
        "colab": {
          "base_uri": "https://localhost:8080/",
          "height": 419
        }
      },
      "source": [
        "# But why isn't it updated?\n",
        "df.loc[:,['t0_eq_vas', 't1_eq_vas']]"
      ],
      "execution_count": 0,
      "outputs": [
        {
          "output_type": "execute_result",
          "data": {
            "text/html": [
              "<div>\n",
              "<style scoped>\n",
              "    .dataframe tbody tr th:only-of-type {\n",
              "        vertical-align: middle;\n",
              "    }\n",
              "\n",
              "    .dataframe tbody tr th {\n",
              "        vertical-align: top;\n",
              "    }\n",
              "\n",
              "    .dataframe thead th {\n",
              "        text-align: right;\n",
              "    }\n",
              "</style>\n",
              "<table border=\"1\" class=\"dataframe\">\n",
              "  <thead>\n",
              "    <tr style=\"text-align: right;\">\n",
              "      <th></th>\n",
              "      <th>t0_eq_vas</th>\n",
              "      <th>t1_eq_vas</th>\n",
              "    </tr>\n",
              "  </thead>\n",
              "  <tbody>\n",
              "    <tr>\n",
              "      <th>0</th>\n",
              "      <td>80</td>\n",
              "      <td>999</td>\n",
              "    </tr>\n",
              "    <tr>\n",
              "      <th>1</th>\n",
              "      <td>999</td>\n",
              "      <td>95</td>\n",
              "    </tr>\n",
              "    <tr>\n",
              "      <th>2</th>\n",
              "      <td>999</td>\n",
              "      <td>98</td>\n",
              "    </tr>\n",
              "    <tr>\n",
              "      <th>3</th>\n",
              "      <td>999</td>\n",
              "      <td>60</td>\n",
              "    </tr>\n",
              "    <tr>\n",
              "      <th>4</th>\n",
              "      <td>75</td>\n",
              "      <td>80</td>\n",
              "    </tr>\n",
              "    <tr>\n",
              "      <th>...</th>\n",
              "      <td>...</td>\n",
              "      <td>...</td>\n",
              "    </tr>\n",
              "    <tr>\n",
              "      <th>47599</th>\n",
              "      <td>85</td>\n",
              "      <td>83</td>\n",
              "    </tr>\n",
              "    <tr>\n",
              "      <th>47600</th>\n",
              "      <td>15</td>\n",
              "      <td>90</td>\n",
              "    </tr>\n",
              "    <tr>\n",
              "      <th>47601</th>\n",
              "      <td>85</td>\n",
              "      <td>85</td>\n",
              "    </tr>\n",
              "    <tr>\n",
              "      <th>47602</th>\n",
              "      <td>85</td>\n",
              "      <td>50</td>\n",
              "    </tr>\n",
              "    <tr>\n",
              "      <th>47603</th>\n",
              "      <td>80</td>\n",
              "      <td>80</td>\n",
              "    </tr>\n",
              "  </tbody>\n",
              "</table>\n",
              "<p>139236 rows × 2 columns</p>\n",
              "</div>"
            ],
            "text/plain": [
              "       t0_eq_vas  t1_eq_vas\n",
              "0             80        999\n",
              "1            999         95\n",
              "2            999         98\n",
              "3            999         60\n",
              "4             75         80\n",
              "...          ...        ...\n",
              "47599         85         83\n",
              "47600         15         90\n",
              "47601         85         85\n",
              "47602         85         50\n",
              "47603         80         80\n",
              "\n",
              "[139236 rows x 2 columns]"
            ]
          },
          "metadata": {
            "tags": []
          },
          "execution_count": 18
        }
      ]
    },
    {
      "cell_type": "code",
      "metadata": {
        "id": "_Jvqxd-1lrN5",
        "colab_type": "code",
        "outputId": "5496b053-52a3-4d71-992c-d66af1b9f06a",
        "colab": {
          "base_uri": "https://localhost:8080/",
          "height": 419
        }
      },
      "source": [
        "# when using iloc or loc you need to specify a location to update with some value.\n",
        "# explicitly make new copy\n",
        "dfc = df.copy()\n",
        "dfc.loc[:,['t0_eq_vas', 't1_eq_vas']] = dfc.loc[:,['t0_eq_vas', 't1_eq_vas']].replace(999, np.nan).astype('Int64')\n",
        "dfc.loc[:,['t0_eq_vas', 't1_eq_vas']]"
      ],
      "execution_count": 0,
      "outputs": [
        {
          "output_type": "execute_result",
          "data": {
            "text/html": [
              "<div>\n",
              "<style scoped>\n",
              "    .dataframe tbody tr th:only-of-type {\n",
              "        vertical-align: middle;\n",
              "    }\n",
              "\n",
              "    .dataframe tbody tr th {\n",
              "        vertical-align: top;\n",
              "    }\n",
              "\n",
              "    .dataframe thead th {\n",
              "        text-align: right;\n",
              "    }\n",
              "</style>\n",
              "<table border=\"1\" class=\"dataframe\">\n",
              "  <thead>\n",
              "    <tr style=\"text-align: right;\">\n",
              "      <th></th>\n",
              "      <th>t0_eq_vas</th>\n",
              "      <th>t1_eq_vas</th>\n",
              "    </tr>\n",
              "  </thead>\n",
              "  <tbody>\n",
              "    <tr>\n",
              "      <th>0</th>\n",
              "      <td>80</td>\n",
              "      <td>NaN</td>\n",
              "    </tr>\n",
              "    <tr>\n",
              "      <th>1</th>\n",
              "      <td>NaN</td>\n",
              "      <td>95</td>\n",
              "    </tr>\n",
              "    <tr>\n",
              "      <th>2</th>\n",
              "      <td>NaN</td>\n",
              "      <td>98</td>\n",
              "    </tr>\n",
              "    <tr>\n",
              "      <th>3</th>\n",
              "      <td>NaN</td>\n",
              "      <td>60</td>\n",
              "    </tr>\n",
              "    <tr>\n",
              "      <th>4</th>\n",
              "      <td>75</td>\n",
              "      <td>80</td>\n",
              "    </tr>\n",
              "    <tr>\n",
              "      <th>...</th>\n",
              "      <td>...</td>\n",
              "      <td>...</td>\n",
              "    </tr>\n",
              "    <tr>\n",
              "      <th>47599</th>\n",
              "      <td>85</td>\n",
              "      <td>83</td>\n",
              "    </tr>\n",
              "    <tr>\n",
              "      <th>47600</th>\n",
              "      <td>15</td>\n",
              "      <td>90</td>\n",
              "    </tr>\n",
              "    <tr>\n",
              "      <th>47601</th>\n",
              "      <td>85</td>\n",
              "      <td>85</td>\n",
              "    </tr>\n",
              "    <tr>\n",
              "      <th>47602</th>\n",
              "      <td>85</td>\n",
              "      <td>50</td>\n",
              "    </tr>\n",
              "    <tr>\n",
              "      <th>47603</th>\n",
              "      <td>80</td>\n",
              "      <td>80</td>\n",
              "    </tr>\n",
              "  </tbody>\n",
              "</table>\n",
              "<p>139236 rows × 2 columns</p>\n",
              "</div>"
            ],
            "text/plain": [
              "       t0_eq_vas  t1_eq_vas\n",
              "0             80        NaN\n",
              "1            NaN         95\n",
              "2            NaN         98\n",
              "3            NaN         60\n",
              "4             75         80\n",
              "...          ...        ...\n",
              "47599         85         83\n",
              "47600         15         90\n",
              "47601         85         85\n",
              "47602         85         50\n",
              "47603         80         80\n",
              "\n",
              "[139236 rows x 2 columns]"
            ]
          },
          "metadata": {
            "tags": []
          },
          "execution_count": 19
        }
      ]
    },
    {
      "cell_type": "code",
      "metadata": {
        "id": "zUA2ETD1lrN8",
        "colab_type": "code",
        "outputId": "dfc31bb3-0d4e-4bd7-d546-ecc59bbd5d68",
        "colab": {
          "base_uri": "https://localhost:8080/",
          "height": 285
        }
      },
      "source": [
        "# now we can inspect using different plots\n",
        "eq_vas = dfc.loc[:,['t0_eq_vas', 't1_eq_vas']]\n",
        "eq_vas.hist();"
      ],
      "execution_count": 0,
      "outputs": [
        {
          "output_type": "display_data",
          "data": {
            "image/png": "[encoded data removed]",
            "text/plain": [
              "<Figure size 432x288 with 2 Axes>"
            ]
          },
          "metadata": {
            "tags": []
          }
        }
      ]
    },
    {
      "cell_type": "code",
      "metadata": {
        "id": "-NEKrt5xlrN_",
        "colab_type": "code",
        "outputId": "0885c8c1-6b8d-4e6c-b5df-b8c4afb4d29f",
        "colab": {
          "base_uri": "https://localhost:8080/",
          "height": 486
        }
      },
      "source": [
        "eq_vas.boxplot(figsize=FIGSIZE);"
      ],
      "execution_count": 0,
      "outputs": [
        {
          "output_type": "display_data",
          "data": {
            "image/png": "[encoded data removed]",
            "text/plain": [
              "<Figure size 576x576 with 1 Axes>"
            ]
          },
          "metadata": {
            "tags": []
          }
        }
      ]
    },
    {
      "cell_type": "code",
      "metadata": {
        "id": "sYr8WTiklrOB",
        "colab_type": "code",
        "outputId": "637f08c8-5745-42f6-b08f-d6816ccfd1be",
        "colab": {
          "base_uri": "https://localhost:8080/",
          "height": 486
        }
      },
      "source": [
        "# NB: kde can't handle Int64, hence casting back to float64\n",
        "eq_vas.plot(kind='hist', bins=10, density=True, figsize=FIGSIZE, alpha=0.5);"
      ],
      "execution_count": 0,
      "outputs": [
        {
          "output_type": "display_data",
          "data": {
            "image/png": "[encoded data removed]",
            "text/plain": [
              "<Figure size 576x576 with 1 Axes>"
            ]
          },
          "metadata": {
            "tags": []
          }
        }
      ]
    },
    {
      "cell_type": "code",
      "metadata": {
        "id": "CxWZSMsnlrOE",
        "colab_type": "code",
        "outputId": "6dd12bb0-452e-4a28-c53e-66c8fb6610a9",
        "colab": {
          "base_uri": "https://localhost:8080/",
          "height": 130
        }
      },
      "source": [
        "---\n",
        "title: \"Data Exploration\"\n",
        "---\n",
        "###### Joran Lokkerbol; sept 2019\n",
        "\n",
        "```{r}\n",
        "knitr::opts_chunk$set(echo = TRUE)\n",
        "options(scipen=999)\n",
        "```\n",
        "\n",
        "```{r}\n",
        "#install.packages(\"rmarkdown\")\n",
        "#install.packages(\"psych\")\n",
        "#install.packages(\"ggplot2\")\n",
        "#install.packages(\"summarytools\")\n",
        "#install.packages(\"corrplot\")\n",
        "#install.packages(\"purrr\")\n",
        "#install.packages(\"tidyr\")\n",
        "#install.packages(\"caret\")\n",
        "#install.packages(\"rpart\")\n",
        "#install.packages(\"rpart.plot\")\n",
        "#install.packages(\"rattle\")\n",
        "#install.packages(\"dplyr\")\n",
        "#install.packages(\"DescTools\")\n",
        "library(rmarkdown)\n",
        "library(psych)\n",
        "library(ggplot2)\n",
        "library(corrplot)\n",
        "library(purrr)\n",
        "library(tidyr)\n",
        "library(caret)\n",
        "library(rpart)\n",
        "library(rpart.plot)\n",
        "library(rattle)\n",
        "library(dplyr)\n",
        "library(DescTools)\n",
        "rm(list = ls())  # Delete everything that is in R's memory\n",
        "setwd(\"/Users/joranlokkerbol/Documents/ML-institute/content - opleiding/dag1/\")\n",
        "dataset <- read.csv(\"student-por.csv\", header = TRUE)\n",
        "dataset <- as.data.frame(dataset)\n",
        "class(dataset)\n",
        "```\n",
        "\n",
        "\n",
        "\n",
        "\n",
        "## Describing the data (general)\n",
        "\n",
        "```{r}\n",
        "#View(dataset)\n",
        "str(dataset)\n",
        "describeFast(dataset)\n",
        "dataset %>%\n",
        "  keep(is.numeric) %>% describe\n",
        "#suppressWarnings(print(dfSummary(dataset), method = 'render', silent=TRUE))\n",
        "# map the number of missings\n",
        "sapply(dataset, function(x) sum(is.na(x))) \n",
        "# map levels and frequencies per categorical variable\n",
        "temp <-  dataset %>% keep(is.factor)\n",
        "for (i in 1:ncol(temp)) {\n",
        "        print(names(temp[i]))\n",
        "        print(Freq(temp[,i]))}\n",
        "```\n",
        "\n",
        "## Histrograms per variable to check distribution and outliers\n",
        "```{r}\n",
        "dataset %>%\n",
        "  keep(is.numeric) %>%\n",
        "  gather() %>%\n",
        "  ggplot(aes(value)) +\n",
        "  facet_wrap(~ key, scales = \"free\") +\n",
        "  geom_histogram()\n",
        "```\n",
        "\n",
        "\n",
        "## Identify near-zero variances predictors\n",
        "```{r}\n",
        "nearZeroVar(dataset, saveMetrics = TRUE)\n",
        "```\n",
        "\n",
        "\n",
        "## Exploring the outcome Y\n",
        "\n",
        "```{r}\n",
        "##### SET Y #######\n",
        "dataset$Y <- dataset$health ## set Y\n",
        "dataset <- subset(dataset, select=-c(health)) ### delete \"health\" to prevent duplicates\n",
        "##### describe Y #####\n",
        "plot(dataset$Y)\n",
        "table(dataset$Y)\n",
        "summary(dataset$Y)\n",
        "boxplot(dataset$Y)\n",
        "histogram(dataset$Y)\n",
        "plot.ecdf(dataset$Y)\n",
        "sum(is.na(dataset$Y)) #nr of missings affect generalizability of your model\n",
        "# define Y as a binary variable\n",
        "dataset$Y[dataset$Y < 3.5] <- 0\n",
        "dataset$Y[dataset$Y >= 3.5] <- 1\n",
        "table(dataset$Y)\n",
        "```\n",
        "\n",
        "\n",
        "## Correlation matrix\n",
        "```{r}\n",
        "res <- cor(dataset[unlist(lapply(dataset, is.numeric))])\n",
        "corrplot(res, type = \"upper\", order = \"hclust\", \n",
        "         tl.col = \"black\", tl.srt = 45)\n",
        "```\n",
        "\n",
        "## Scatterplots to check for (non-)linear relations\n",
        "```{r}\n",
        "temp <- dataset %>% keep(is.numeric)\n",
        "a <- ncol(temp)\n",
        "b <- a/2\n",
        "pairs(Y~.,data=temp[,c(1:b,a)], main=\"Scatterplot Matrix\")\n",
        "pairs(Y~.,data=temp[,c((b+1):a)], main=\"Scatterplot Matrix\")\n",
        "```\n",
        "\n",
        "\n",
        "\n",
        "## Boxplots of categorical variables and Y \n",
        "```{r}\n",
        "bp <- dataset[unlist(lapply(dataset, is.factor))]\n",
        "bp$Y <- as.numeric(dataset$Y)\n",
        " for(k in 1:ncol(bp)){\n",
        " print(names(bp[k]))\n",
        "   boxplot(bp$Y ~ bp[, k])\n",
        "  #ggplot(bp, aes(x=bp[,k], y=bp$Y)) + \n",
        "#  geom_boxplot()\n",
        "}\n",
        "```\n",
        "\n",
        "## Chi-square tests of categorical variables with Y\n",
        "```{r}\n",
        "cs <- dataset[unlist(lapply(dataset, is.factor))]\n",
        "cs$Y <- dataset$Y\n",
        " for(k in 1:(ncol(cs)-1)){\n",
        " print(names(cs[k]))\n",
        " print(chisq.test(cs$Y, cs[, k]), correct = FALSE)\n",
        "  #ggplot(bp, aes(x=bp[,k], y=bp$Y)) + \n",
        "#  geom_boxplot()\n",
        "}\n",
        "```\n",
        "\n",
        "## Simple regression tree with all predictors and Y\n",
        "```{r}\n",
        "tree <- rpart(Y~., data = dataset)\n",
        "rpart.plot(tree)\n",
        "```\n",
        "\n",
        "## Simple regression tree for all predictors separately and Y\n",
        "```{r}\n",
        "## Rpart or every single x and y \n",
        "for(i in 1:ncol(dataset)){\n",
        "print(names(dataset)[i])\n",
        "tree <- rpart(Y~dataset[,i], data = dataset)\n",
        "rpart.plot(tree)   }\n",
        "```\n",
        "## Regression tree for a set of correlated predictors on Y\n",
        "```{r}\n",
        "temp <- select(dataset, Y, G1, G2, G3)\n",
        "tree <- rpart(Y~., data = temp)\n",
        "rpart.plot(tree)\n",
        "```\n",
        "\n",
        "## Other things to look into\n",
        "* do infeasible combinations of variable values occur in the data (e.g. minors with a drivers license or pregnant males)? \n",
        "* a tree-model where Y is being predicted using a cluster of related X-variables, such as ROM-items\n",
        "* which variables are known / not known at the point of prediction?\n",
        "* which domains (work, health, family, lifestyle, therapy, etc etc) are covered?\n",
        "\n",
        "\n",
        "## Results\n",
        "* assessment of the quality of the data (in terms of outliers and missings)\n",
        "* input regarding the moment of prediction\n",
        "* input for data cleaning (handling missing data; removing variables not known at time of prediction, near-zero variance variables, etc)\n",
        "* input for feature engineering (adjusting variables based on tree-analyses, based on correlations, based on domain-analysis)\n",
        "* input for defining the outcome variable Y\n",
        "* input for defining the project in terms of generalizability (in case of missing Y values)\n",
        "* input for choosing the project in case there are still multiple options at the table\n",
        "* input for defining the scope of the project (e.g. limiting to a subgroup to get a better balanced outcome variable)\n",
        "* a potential revision of the goal of your project\n",
        "* input for which variables and combination of variables seem particularly relevant within the to-be-developed algorithms \n",
        "© 2020 GitHub, Inc.\n",
        "Terms\n",
        "Privacy\n",
        "Security\n",
        "Status\n",
        "Help\n",
        "Contact GitHub\n",
        "Pricing\n",
        "API\n",
        "Training\n",
        "Blog\n",
        "About\n"
      ],
      "execution_count": 0,
      "outputs": [
        {
          "output_type": "error",
          "ename": "SyntaxError",
          "evalue": "ignored",
          "traceback": [
            "\u001b[0;36m  File \u001b[0;32m\"<ipython-input-23-558e3ff5dda4>\"\u001b[0;36m, line \u001b[0;32m1\u001b[0m\n\u001b[0;31m    ---\u001b[0m\n\u001b[0m       ^\u001b[0m\n\u001b[0;31mSyntaxError\u001b[0m\u001b[0;31m:\u001b[0m invalid syntax\n"
          ]
        }
      ]
    }
  ]
}